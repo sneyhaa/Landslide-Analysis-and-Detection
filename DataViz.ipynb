{
  "nbformat": 4,
  "nbformat_minor": 0,
  "metadata": {
    "colab": {
      "name": "DataViz.ipynb",
      "provenance": [],
      "collapsed_sections": []
    },
    "kernelspec": {
      "name": "python3",
      "display_name": "Python 3"
    }
  },
  "cells": [
    {
      "cell_type": "code",
      "metadata": {
        "id": "tpLu3fX2AFuE"
      },
      "source": [
        ""
      ],
      "execution_count": null,
      "outputs": []
    },
    {
      "cell_type": "code",
      "metadata": {
        "id": "pc9USEsj-jfz"
      },
      "source": [
        ""
      ],
      "execution_count": null,
      "outputs": []
    },
    {
      "cell_type": "code",
      "metadata": {
        "id": "adFZjlCFvisN",
        "outputId": "0f4a2ac8-f38a-4e45-caac-7066d08fccc9",
        "colab": {
          "base_uri": "https://localhost:8080/",
          "height": 1000
        }
      },
      "source": [
        "!pip install --upgrade geopandas\n",
        "!pip install --upgrade pyshp\n",
        "!pip install --upgrade shapely\n",
        "!pip install --upgrade descartes\n",
        "!pip install --upgrade geoplot\n",
        "!apt-get install libgeos-3.5.0\n",
        "!apt-get install libgeos-dev\n",
        "!pip install https://github.com/matplotlib/basemap/archive/master.zip\n",
        "!pip install pyproj==1.9.6\n",
        "from mpl_toolkits.basemap import Basemap\n",
        "import matplotlib.pyplot as plt\n",
        "%matplotlib inline\n",
        "%matplotlib inline\n",
        "import pandas as pd"
      ],
      "execution_count": null,
      "outputs": [
        {
          "output_type": "stream",
          "text": [
            "Collecting geopandas\n",
            "\u001b[?25l  Downloading https://files.pythonhosted.org/packages/f7/a4/e66aafbefcbb717813bf3a355c8c4fc3ed04ea1dd7feb2920f2f4f868921/geopandas-0.8.1-py2.py3-none-any.whl (962kB)\n",
            "\r\u001b[K     |▍                               | 10kB 7.8MB/s eta 0:00:01\r\u001b[K     |▊                               | 20kB 1.7MB/s eta 0:00:01\r\u001b[K     |█                               | 30kB 2.2MB/s eta 0:00:01\r\u001b[K     |█▍                              | 40kB 2.5MB/s eta 0:00:01\r\u001b[K     |█▊                              | 51kB 2.0MB/s eta 0:00:01\r\u001b[K     |██                              | 61kB 2.2MB/s eta 0:00:01\r\u001b[K     |██▍                             | 71kB 2.5MB/s eta 0:00:01\r\u001b[K     |██▊                             | 81kB 2.7MB/s eta 0:00:01\r\u001b[K     |███                             | 92kB 2.8MB/s eta 0:00:01\r\u001b[K     |███▍                            | 102kB 2.8MB/s eta 0:00:01\r\u001b[K     |███▊                            | 112kB 2.8MB/s eta 0:00:01\r\u001b[K     |████                            | 122kB 2.8MB/s eta 0:00:01\r\u001b[K     |████▍                           | 133kB 2.8MB/s eta 0:00:01\r\u001b[K     |████▊                           | 143kB 2.8MB/s eta 0:00:01\r\u001b[K     |█████                           | 153kB 2.8MB/s eta 0:00:01\r\u001b[K     |█████▌                          | 163kB 2.8MB/s eta 0:00:01\r\u001b[K     |█████▉                          | 174kB 2.8MB/s eta 0:00:01\r\u001b[K     |██████▏                         | 184kB 2.8MB/s eta 0:00:01\r\u001b[K     |██████▌                         | 194kB 2.8MB/s eta 0:00:01\r\u001b[K     |██████▉                         | 204kB 2.8MB/s eta 0:00:01\r\u001b[K     |███████▏                        | 215kB 2.8MB/s eta 0:00:01\r\u001b[K     |███████▌                        | 225kB 2.8MB/s eta 0:00:01\r\u001b[K     |███████▉                        | 235kB 2.8MB/s eta 0:00:01\r\u001b[K     |████████▏                       | 245kB 2.8MB/s eta 0:00:01\r\u001b[K     |████████▌                       | 256kB 2.8MB/s eta 0:00:01\r\u001b[K     |████████▉                       | 266kB 2.8MB/s eta 0:00:01\r\u001b[K     |█████████▏                      | 276kB 2.8MB/s eta 0:00:01\r\u001b[K     |█████████▌                      | 286kB 2.8MB/s eta 0:00:01\r\u001b[K     |█████████▉                      | 296kB 2.8MB/s eta 0:00:01\r\u001b[K     |██████████▏                     | 307kB 2.8MB/s eta 0:00:01\r\u001b[K     |██████████▌                     | 317kB 2.8MB/s eta 0:00:01\r\u001b[K     |███████████                     | 327kB 2.8MB/s eta 0:00:01\r\u001b[K     |███████████▎                    | 337kB 2.8MB/s eta 0:00:01\r\u001b[K     |███████████▋                    | 348kB 2.8MB/s eta 0:00:01\r\u001b[K     |████████████                    | 358kB 2.8MB/s eta 0:00:01\r\u001b[K     |████████████▎                   | 368kB 2.8MB/s eta 0:00:01\r\u001b[K     |████████████▋                   | 378kB 2.8MB/s eta 0:00:01\r\u001b[K     |█████████████                   | 389kB 2.8MB/s eta 0:00:01\r\u001b[K     |█████████████▎                  | 399kB 2.8MB/s eta 0:00:01\r\u001b[K     |█████████████▋                  | 409kB 2.8MB/s eta 0:00:01\r\u001b[K     |██████████████                  | 419kB 2.8MB/s eta 0:00:01\r\u001b[K     |██████████████▎                 | 430kB 2.8MB/s eta 0:00:01\r\u001b[K     |██████████████▋                 | 440kB 2.8MB/s eta 0:00:01\r\u001b[K     |███████████████                 | 450kB 2.8MB/s eta 0:00:01\r\u001b[K     |███████████████▎                | 460kB 2.8MB/s eta 0:00:01\r\u001b[K     |███████████████▋                | 471kB 2.8MB/s eta 0:00:01\r\u001b[K     |████████████████                | 481kB 2.8MB/s eta 0:00:01\r\u001b[K     |████████████████▍               | 491kB 2.8MB/s eta 0:00:01\r\u001b[K     |████████████████▊               | 501kB 2.8MB/s eta 0:00:01\r\u001b[K     |█████████████████               | 512kB 2.8MB/s eta 0:00:01\r\u001b[K     |█████████████████▍              | 522kB 2.8MB/s eta 0:00:01\r\u001b[K     |█████████████████▊              | 532kB 2.8MB/s eta 0:00:01\r\u001b[K     |██████████████████              | 542kB 2.8MB/s eta 0:00:01\r\u001b[K     |██████████████████▍             | 552kB 2.8MB/s eta 0:00:01\r\u001b[K     |██████████████████▊             | 563kB 2.8MB/s eta 0:00:01\r\u001b[K     |███████████████████             | 573kB 2.8MB/s eta 0:00:01\r\u001b[K     |███████████████████▍            | 583kB 2.8MB/s eta 0:00:01\r\u001b[K     |███████████████████▊            | 593kB 2.8MB/s eta 0:00:01\r\u001b[K     |████████████████████            | 604kB 2.8MB/s eta 0:00:01\r\u001b[K     |████████████████████▍           | 614kB 2.8MB/s eta 0:00:01\r\u001b[K     |████████████████████▊           | 624kB 2.8MB/s eta 0:00:01\r\u001b[K     |█████████████████████           | 634kB 2.8MB/s eta 0:00:01\r\u001b[K     |█████████████████████▍          | 645kB 2.8MB/s eta 0:00:01\r\u001b[K     |█████████████████████▉          | 655kB 2.8MB/s eta 0:00:01\r\u001b[K     |██████████████████████▏         | 665kB 2.8MB/s eta 0:00:01\r\u001b[K     |██████████████████████▌         | 675kB 2.8MB/s eta 0:00:01\r\u001b[K     |██████████████████████▉         | 686kB 2.8MB/s eta 0:00:01\r\u001b[K     |███████████████████████▏        | 696kB 2.8MB/s eta 0:00:01\r\u001b[K     |███████████████████████▌        | 706kB 2.8MB/s eta 0:00:01\r\u001b[K     |███████████████████████▉        | 716kB 2.8MB/s eta 0:00:01\r\u001b[K     |████████████████████████▏       | 727kB 2.8MB/s eta 0:00:01\r\u001b[K     |████████████████████████▌       | 737kB 2.8MB/s eta 0:00:01\r\u001b[K     |████████████████████████▉       | 747kB 2.8MB/s eta 0:00:01\r\u001b[K     |█████████████████████████▏      | 757kB 2.8MB/s eta 0:00:01\r\u001b[K     |█████████████████████████▌      | 768kB 2.8MB/s eta 0:00:01\r\u001b[K     |█████████████████████████▉      | 778kB 2.8MB/s eta 0:00:01\r\u001b[K     |██████████████████████████▏     | 788kB 2.8MB/s eta 0:00:01\r\u001b[K     |██████████████████████████▌     | 798kB 2.8MB/s eta 0:00:01\r\u001b[K     |██████████████████████████▉     | 808kB 2.8MB/s eta 0:00:01\r\u001b[K     |███████████████████████████▎    | 819kB 2.8MB/s eta 0:00:01\r\u001b[K     |███████████████████████████▋    | 829kB 2.8MB/s eta 0:00:01\r\u001b[K     |████████████████████████████    | 839kB 2.8MB/s eta 0:00:01\r\u001b[K     |████████████████████████████▎   | 849kB 2.8MB/s eta 0:00:01\r\u001b[K     |████████████████████████████▋   | 860kB 2.8MB/s eta 0:00:01\r\u001b[K     |█████████████████████████████   | 870kB 2.8MB/s eta 0:00:01\r\u001b[K     |█████████████████████████████▎  | 880kB 2.8MB/s eta 0:00:01\r\u001b[K     |█████████████████████████████▋  | 890kB 2.8MB/s eta 0:00:01\r\u001b[K     |██████████████████████████████  | 901kB 2.8MB/s eta 0:00:01\r\u001b[K     |██████████████████████████████▎ | 911kB 2.8MB/s eta 0:00:01\r\u001b[K     |██████████████████████████████▋ | 921kB 2.8MB/s eta 0:00:01\r\u001b[K     |███████████████████████████████ | 931kB 2.8MB/s eta 0:00:01\r\u001b[K     |███████████████████████████████▎| 942kB 2.8MB/s eta 0:00:01\r\u001b[K     |███████████████████████████████▋| 952kB 2.8MB/s eta 0:00:01\r\u001b[K     |████████████████████████████████| 962kB 2.8MB/s eta 0:00:01\r\u001b[K     |████████████████████████████████| 972kB 2.8MB/s \n",
            "\u001b[?25hRequirement already satisfied, skipping upgrade: pandas>=0.23.0 in /usr/local/lib/python3.6/dist-packages (from geopandas) (1.1.2)\n",
            "Requirement already satisfied, skipping upgrade: shapely in /usr/local/lib/python3.6/dist-packages (from geopandas) (1.7.1)\n",
            "Collecting pyproj>=2.2.0\n",
            "\u001b[?25l  Downloading https://files.pythonhosted.org/packages/e5/c3/071e080230ac4b6c64f1a2e2f9161c9737a2bc7b683d2c90b024825000c0/pyproj-2.6.1.post1-cp36-cp36m-manylinux2010_x86_64.whl (10.9MB)\n",
            "\u001b[K     |████████████████████████████████| 10.9MB 7.3MB/s \n",
            "\u001b[?25hCollecting fiona\n",
            "\u001b[?25l  Downloading https://files.pythonhosted.org/packages/36/8b/e8b2c11bed5373c8e98edb85ce891b09aa1f4210fd451d0fb3696b7695a2/Fiona-1.8.17-cp36-cp36m-manylinux1_x86_64.whl (14.8MB)\n",
            "\u001b[K     |████████████████████████████████| 14.8MB 322kB/s \n",
            "\u001b[?25hRequirement already satisfied, skipping upgrade: pytz>=2017.2 in /usr/local/lib/python3.6/dist-packages (from pandas>=0.23.0->geopandas) (2018.9)\n",
            "Requirement already satisfied, skipping upgrade: numpy>=1.15.4 in /usr/local/lib/python3.6/dist-packages (from pandas>=0.23.0->geopandas) (1.18.5)\n",
            "Requirement already satisfied, skipping upgrade: python-dateutil>=2.7.3 in /usr/local/lib/python3.6/dist-packages (from pandas>=0.23.0->geopandas) (2.8.1)\n",
            "Requirement already satisfied, skipping upgrade: click<8,>=4.0 in /usr/local/lib/python3.6/dist-packages (from fiona->geopandas) (7.1.2)\n",
            "Requirement already satisfied, skipping upgrade: attrs>=17 in /usr/local/lib/python3.6/dist-packages (from fiona->geopandas) (20.2.0)\n",
            "Collecting cligj>=0.5\n",
            "  Downloading https://files.pythonhosted.org/packages/e4/be/30a58b4b0733850280d01f8bd132591b4668ed5c7046761098d665ac2174/cligj-0.5.0-py3-none-any.whl\n",
            "Collecting munch\n",
            "  Downloading https://files.pythonhosted.org/packages/cc/ab/85d8da5c9a45e072301beb37ad7f833cd344e04c817d97e0cc75681d248f/munch-2.5.0-py2.py3-none-any.whl\n",
            "Requirement already satisfied, skipping upgrade: six>=1.7 in /usr/local/lib/python3.6/dist-packages (from fiona->geopandas) (1.15.0)\n",
            "Collecting click-plugins>=1.0\n",
            "  Downloading https://files.pythonhosted.org/packages/e9/da/824b92d9942f4e472702488857914bdd50f73021efea15b4cad9aca8ecef/click_plugins-1.1.1-py2.py3-none-any.whl\n",
            "Installing collected packages: pyproj, cligj, munch, click-plugins, fiona, geopandas\n",
            "Successfully installed click-plugins-1.1.1 cligj-0.5.0 fiona-1.8.17 geopandas-0.8.1 munch-2.5.0 pyproj-2.6.1.post1\n",
            "Collecting pyshp\n",
            "\u001b[?25l  Downloading https://files.pythonhosted.org/packages/ca/1f/e9cc2c3fce32e2926581f8b6905831165235464c858ba550b6e9b8ef78c3/pyshp-2.1.2.tar.gz (217kB)\n",
            "\u001b[K     |████████████████████████████████| 225kB 2.9MB/s \n",
            "\u001b[?25hBuilding wheels for collected packages: pyshp\n",
            "  Building wheel for pyshp (setup.py) ... \u001b[?25l\u001b[?25hdone\n",
            "  Created wheel for pyshp: filename=pyshp-2.1.2-cp36-none-any.whl size=36216 sha256=b88ab27327a8a9eccc9ce4e25b69d01075ae43f81387c080f016155f925e53a7\n",
            "  Stored in directory: /root/.cache/pip/wheels/96/6c/53/4112475adf3b831da97f083163d0f38ee6daac9c1b13f7afea\n",
            "Successfully built pyshp\n",
            "Installing collected packages: pyshp\n",
            "Successfully installed pyshp-2.1.2\n",
            "Requirement already up-to-date: shapely in /usr/local/lib/python3.6/dist-packages (1.7.1)\n",
            "Requirement already up-to-date: descartes in /usr/local/lib/python3.6/dist-packages (1.1.0)\n",
            "Requirement already satisfied, skipping upgrade: matplotlib in /usr/local/lib/python3.6/dist-packages (from descartes) (3.2.2)\n",
            "Requirement already satisfied, skipping upgrade: kiwisolver>=1.0.1 in /usr/local/lib/python3.6/dist-packages (from matplotlib->descartes) (1.2.0)\n",
            "Requirement already satisfied, skipping upgrade: python-dateutil>=2.1 in /usr/local/lib/python3.6/dist-packages (from matplotlib->descartes) (2.8.1)\n",
            "Requirement already satisfied, skipping upgrade: numpy>=1.11 in /usr/local/lib/python3.6/dist-packages (from matplotlib->descartes) (1.18.5)\n",
            "Requirement already satisfied, skipping upgrade: pyparsing!=2.0.4,!=2.1.2,!=2.1.6,>=2.0.1 in /usr/local/lib/python3.6/dist-packages (from matplotlib->descartes) (2.4.7)\n",
            "Requirement already satisfied, skipping upgrade: cycler>=0.10 in /usr/local/lib/python3.6/dist-packages (from matplotlib->descartes) (0.10.0)\n",
            "Requirement already satisfied, skipping upgrade: six>=1.5 in /usr/local/lib/python3.6/dist-packages (from python-dateutil>=2.1->matplotlib->descartes) (1.15.0)\n",
            "Collecting geoplot\n",
            "  Downloading https://files.pythonhosted.org/packages/e1/8f/46133752e1f02e70501939e739b81cbc85c79d7398c963b8a25a3178bffe/geoplot-0.4.1-py3-none-any.whl\n",
            "Collecting mapclassify>=2.1\n",
            "  Downloading https://files.pythonhosted.org/packages/11/80/cd58dc848a93bfb01c4b84f26e3d5d6c64266163ca1e2453c3f6fb291ef7/mapclassify-2.3.0-py3-none-any.whl\n",
            "Requirement already satisfied, skipping upgrade: descartes in /usr/local/lib/python3.6/dist-packages (from geoplot) (1.1.0)\n",
            "Collecting contextily>=1.0.0\n",
            "  Downloading https://files.pythonhosted.org/packages/c1/95/6a228a25a5e93ae236efe42a36659b61b1b4e7ceee75dd5bc4bab8944c44/contextily-1.0.0-py3-none-any.whl\n",
            "Requirement already satisfied, skipping upgrade: geopandas in /usr/local/lib/python3.6/dist-packages (from geoplot) (0.8.1)\n",
            "Requirement already satisfied, skipping upgrade: seaborn in /usr/local/lib/python3.6/dist-packages (from geoplot) (0.11.0)\n",
            "Collecting cartopy\n",
            "\u001b[?25l  Downloading https://files.pythonhosted.org/packages/46/c1/04e50c9986842f00f7db0e7a65caa896840050d7328f74e5b7437aa01179/Cartopy-0.18.0.tar.gz (14.4MB)\n",
            "\u001b[K     |████████████████████████████████| 14.4MB 316kB/s \n",
            "\u001b[31mERROR: Command errored out with exit status 1: python setup.py egg_info Check the logs for full command output.\u001b[0m\n",
            "Reading package lists... Done\n",
            "Building dependency tree       \n",
            "Reading state information... Done\n",
            "E: Unable to locate package libgeos-3.5.0\n",
            "E: Couldn't find any package by glob 'libgeos-3.5.0'\n",
            "E: Couldn't find any package by regex 'libgeos-3.5.0'\n",
            "Reading package lists... Done\n",
            "Building dependency tree       \n",
            "Reading state information... Done\n",
            "Suggested packages:\n",
            "  libgdal-doc\n",
            "The following NEW packages will be installed:\n",
            "  libgeos-dev\n",
            "0 upgraded, 1 newly installed, 0 to remove and 22 not upgraded.\n",
            "Need to get 73.1 kB of archives.\n",
            "After this operation, 486 kB of additional disk space will be used.\n",
            "Get:1 http://archive.ubuntu.com/ubuntu bionic/universe amd64 libgeos-dev amd64 3.6.2-1build2 [73.1 kB]\n",
            "Fetched 73.1 kB in 0s (157 kB/s)\n",
            "Selecting previously unselected package libgeos-dev.\n",
            "(Reading database ... 144618 files and directories currently installed.)\n",
            "Preparing to unpack .../libgeos-dev_3.6.2-1build2_amd64.deb ...\n",
            "Unpacking libgeos-dev (3.6.2-1build2) ...\n",
            "Setting up libgeos-dev (3.6.2-1build2) ...\n",
            "Processing triggers for man-db (2.8.3-2ubuntu0.1) ...\n",
            "Collecting https://github.com/matplotlib/basemap/archive/master.zip\n",
            "\u001b[?25l  Downloading https://github.com/matplotlib/basemap/archive/master.zip (133.1MB)\n",
            "\u001b[K     |████████████████████████████████| 133.1MB 83kB/s \n",
            "\u001b[?25hRequirement already satisfied: matplotlib!=3.0.1,>=1.0.0 in /usr/local/lib/python3.6/dist-packages (from basemap==1.2.1) (3.2.2)\n",
            "Requirement already satisfied: numpy>=1.2.1 in /usr/local/lib/python3.6/dist-packages (from basemap==1.2.1) (1.18.5)\n",
            "Requirement already satisfied: pyproj>=1.9.3 in /usr/local/lib/python3.6/dist-packages (from basemap==1.2.1) (2.6.1.post1)\n",
            "Requirement already satisfied: pyshp>=1.2.0 in /usr/local/lib/python3.6/dist-packages (from basemap==1.2.1) (2.1.2)\n",
            "Requirement already satisfied: six in /usr/local/lib/python3.6/dist-packages (from basemap==1.2.1) (1.15.0)\n",
            "Requirement already satisfied: pyparsing!=2.0.4,!=2.1.2,!=2.1.6,>=2.0.1 in /usr/local/lib/python3.6/dist-packages (from matplotlib!=3.0.1,>=1.0.0->basemap==1.2.1) (2.4.7)\n",
            "Requirement already satisfied: python-dateutil>=2.1 in /usr/local/lib/python3.6/dist-packages (from matplotlib!=3.0.1,>=1.0.0->basemap==1.2.1) (2.8.1)\n",
            "Requirement already satisfied: cycler>=0.10 in /usr/local/lib/python3.6/dist-packages (from matplotlib!=3.0.1,>=1.0.0->basemap==1.2.1) (0.10.0)\n",
            "Requirement already satisfied: kiwisolver>=1.0.1 in /usr/local/lib/python3.6/dist-packages (from matplotlib!=3.0.1,>=1.0.0->basemap==1.2.1) (1.2.0)\n",
            "Building wheels for collected packages: basemap\n",
            "  Building wheel for basemap (setup.py) ... \u001b[?25l\u001b[?25hdone\n",
            "  Created wheel for basemap: filename=basemap-1.2.1-cp36-cp36m-linux_x86_64.whl size=121756183 sha256=e3e602f84fdca9346c01a8ba549f67a5c155d9e2e44f7e2c6612521fed0dc095\n",
            "  Stored in directory: /tmp/pip-ephem-wheel-cache-eayab691/wheels/98/4a/fc/ce719b75d97e646645c225f3332b1b217536100314922e9572\n",
            "Successfully built basemap\n",
            "Installing collected packages: basemap\n",
            "Successfully installed basemap-1.2.1\n"
          ],
          "name": "stdout"
        },
        {
          "output_type": "display_data",
          "data": {
            "application/vnd.colab-display-data+json": {
              "pip_warning": {
                "packages": [
                  "mpl_toolkits"
                ]
              }
            }
          },
          "metadata": {
            "tags": []
          }
        },
        {
          "output_type": "stream",
          "text": [
            "Collecting pyproj==1.9.6\n",
            "\u001b[?25l  Downloading https://files.pythonhosted.org/packages/26/8c/1da0580f334718e04f8bbf74f0515a7fb8185ff96b2560ce080c11aa145b/pyproj-1.9.6.tar.gz (2.8MB)\n",
            "\u001b[K     |████████████████████████████████| 2.8MB 2.7MB/s \n",
            "\u001b[?25hBuilding wheels for collected packages: pyproj\n",
            "  Building wheel for pyproj (setup.py) ... \u001b[?25l\u001b[?25hdone\n",
            "  Created wheel for pyproj: filename=pyproj-1.9.6-cp36-cp36m-linux_x86_64.whl size=3702125 sha256=618c312c4b420695d5d707aaf2acf649ebf7acb9f3fc07565103251cb00043de\n",
            "  Stored in directory: /root/.cache/pip/wheels/02/cd/b1/a2d6430f74c7a778a43d62f78bec109ca69c732dc9b929142a\n",
            "Successfully built pyproj\n",
            "\u001b[31mERROR: geopandas 0.8.1 has requirement pyproj>=2.2.0, but you'll have pyproj 1.9.6 which is incompatible.\u001b[0m\n",
            "Installing collected packages: pyproj\n",
            "  Found existing installation: pyproj 2.6.1.post1\n",
            "    Uninstalling pyproj-2.6.1.post1:\n",
            "      Successfully uninstalled pyproj-2.6.1.post1\n",
            "Successfully installed pyproj-1.9.6\n"
          ],
          "name": "stdout"
        }
      ]
    },
    {
      "cell_type": "code",
      "metadata": {
        "id": "Cu52JgUmviZG",
        "outputId": "d04b449e-f793-4cc5-ef08-138e07de12bd",
        "colab": {
          "base_uri": "https://localhost:8080/",
          "height": 462
        }
      },
      "source": [
        "!pip install --upgrade geopandas"
      ],
      "execution_count": null,
      "outputs": [
        {
          "output_type": "stream",
          "text": [
            "Requirement already up-to-date: geopandas in /usr/local/lib/python3.6/dist-packages (0.8.1)\n",
            "Requirement already satisfied, skipping upgrade: shapely in /usr/local/lib/python3.6/dist-packages (from geopandas) (1.7.1)\n",
            "Requirement already satisfied, skipping upgrade: fiona in /usr/local/lib/python3.6/dist-packages (from geopandas) (1.8.17)\n",
            "Requirement already satisfied, skipping upgrade: pandas>=0.23.0 in /usr/local/lib/python3.6/dist-packages (from geopandas) (1.1.2)\n",
            "Collecting pyproj>=2.2.0\n",
            "  Using cached https://files.pythonhosted.org/packages/e5/c3/071e080230ac4b6c64f1a2e2f9161c9737a2bc7b683d2c90b024825000c0/pyproj-2.6.1.post1-cp36-cp36m-manylinux2010_x86_64.whl\n",
            "Requirement already satisfied, skipping upgrade: click-plugins>=1.0 in /usr/local/lib/python3.6/dist-packages (from fiona->geopandas) (1.1.1)\n",
            "Requirement already satisfied, skipping upgrade: cligj>=0.5 in /usr/local/lib/python3.6/dist-packages (from fiona->geopandas) (0.5.0)\n",
            "Requirement already satisfied, skipping upgrade: click<8,>=4.0 in /usr/local/lib/python3.6/dist-packages (from fiona->geopandas) (7.1.2)\n",
            "Requirement already satisfied, skipping upgrade: six>=1.7 in /usr/local/lib/python3.6/dist-packages (from fiona->geopandas) (1.15.0)\n",
            "Requirement already satisfied, skipping upgrade: munch in /usr/local/lib/python3.6/dist-packages (from fiona->geopandas) (2.5.0)\n",
            "Requirement already satisfied, skipping upgrade: attrs>=17 in /usr/local/lib/python3.6/dist-packages (from fiona->geopandas) (20.2.0)\n",
            "Requirement already satisfied, skipping upgrade: pytz>=2017.2 in /usr/local/lib/python3.6/dist-packages (from pandas>=0.23.0->geopandas) (2018.9)\n",
            "Requirement already satisfied, skipping upgrade: numpy>=1.15.4 in /usr/local/lib/python3.6/dist-packages (from pandas>=0.23.0->geopandas) (1.18.5)\n",
            "Requirement already satisfied, skipping upgrade: python-dateutil>=2.7.3 in /usr/local/lib/python3.6/dist-packages (from pandas>=0.23.0->geopandas) (2.8.1)\n",
            "Installing collected packages: pyproj\n",
            "  Found existing installation: pyproj 1.9.6\n",
            "    Uninstalling pyproj-1.9.6:\n",
            "      Successfully uninstalled pyproj-1.9.6\n",
            "Successfully installed pyproj-2.6.1.post1\n"
          ],
          "name": "stdout"
        },
        {
          "output_type": "display_data",
          "data": {
            "application/vnd.colab-display-data+json": {
              "pip_warning": {
                "packages": [
                  "pyproj"
                ]
              }
            }
          },
          "metadata": {
            "tags": []
          }
        }
      ]
    },
    {
      "cell_type": "code",
      "metadata": {
        "id": "o6q2bknZvh8T"
      },
      "source": [
        "import geopandas as gpd\n",
        "import matplotlib.pyplot as plt\n",
        "import requests\n",
        "import zipfile\n",
        "from shapely.geometry import Point\n",
        "\n",
        "from geopandas import GeoDataFrame"
      ],
      "execution_count": null,
      "outputs": []
    },
    {
      "cell_type": "code",
      "metadata": {
        "id": "ADJ86OR3vhUg",
        "outputId": "01c2ec97-ad98-45e1-d101-8530077788b0",
        "colab": {
          "base_uri": "https://localhost:8080/",
          "height": 105
        }
      },
      "source": [
        "import numpy as np\n",
        "import pandas as pd\n",
        "from imblearn.over_sampling import SMOTE\n",
        "from imblearn.over_sampling import ADASYN \n",
        "from sklearn.model_selection import GridSearchCV\n",
        "from sklearn.svm import SVC\n",
        "from sklearn import datasets\n",
        "from sklearn.preprocessing import LabelEncoder  # For categorical data\n",
        "from sklearn.preprocessing import OneHotEncoder\n",
        "from sklearn.model_selection import train_test_split\n",
        "from sklearn.metrics import recall_score\n",
        "from sklearn.metrics import confusion_matrix\n",
        "from sklearn.metrics import classification_report\n",
        "\n",
        "# Import tools needed for visualization\n",
        "from sklearn.tree import export_graphviz\n",
        "from sklearn.decomposition import PCA\n",
        "import pydot\n",
        "import seaborn as sns\n",
        "import itertools\n",
        "\n",
        "from sklearn.ensemble import RandomForestClassifier\n",
        "from sklearn.model_selection import cross_val_score\n",
        "import matplotlib.pyplot as plt\n",
        "from collections import OrderedDict\n",
        "import warnings\n",
        "warnings.filterwarnings('ignore')"
      ],
      "execution_count": null,
      "outputs": [
        {
          "output_type": "stream",
          "text": [
            "/usr/local/lib/python3.6/dist-packages/sklearn/externals/six.py:31: FutureWarning: The module is deprecated in version 0.21 and will be removed in version 0.23 since we've dropped support for Python 2.7. Please rely on the official version of six (https://pypi.org/project/six/).\n",
            "  \"(https://pypi.org/project/six/).\", FutureWarning)\n",
            "/usr/local/lib/python3.6/dist-packages/sklearn/utils/deprecation.py:144: FutureWarning: The sklearn.neighbors.base module is  deprecated in version 0.22 and will be removed in version 0.24. The corresponding classes / functions should instead be imported from sklearn.neighbors. Anything that cannot be imported from sklearn.neighbors is now part of the private API.\n",
            "  warnings.warn(message, FutureWarning)\n"
          ],
          "name": "stderr"
        }
      ]
    },
    {
      "cell_type": "code",
      "metadata": {
        "id": "8jB55z2CdKwq",
        "outputId": "ca053c6c-de16-4db3-bc89-971474735bf1",
        "colab": {
          "base_uri": "https://localhost:8080/",
          "height": 34
        }
      },
      "source": [
        "import pandas as pd\n",
        "\n",
        "from google.colab import drive\n",
        "drive.mount(\"/content/gdrive\")\n",
        "\n",
        "#df = pd.read_excel('https://drive.google.com/drive/my-drive/Global_Landslide_Catalog-Export.xlsx')\n"
      ],
      "execution_count": null,
      "outputs": [
        {
          "output_type": "stream",
          "text": [
            "Mounted at /content/gdrive\n"
          ],
          "name": "stdout"
        }
      ]
    },
    {
      "cell_type": "code",
      "metadata": {
        "id": "9rlwmQrfZipE"
      },
      "source": [
        "import pandas as pd\n",
        "df = pd.read_excel('/content/gdrive/My Drive/Landslide data/Global_Landslide_Catalog-Export.xlsx')"
      ],
      "execution_count": null,
      "outputs": []
    },
    {
      "cell_type": "code",
      "metadata": {
        "id": "o_UnWq7FseOk"
      },
      "source": [
        ""
      ],
      "execution_count": null,
      "outputs": []
    },
    {
      "cell_type": "code",
      "metadata": {
        "id": "EDTXS_5Sd-6D",
        "outputId": "5f476fbb-045b-4fb6-b9eb-0d43c1b1df3e",
        "colab": {
          "base_uri": "https://localhost:8080/",
          "height": 479
        }
      },
      "source": [
        "df.head(5)"
      ],
      "execution_count": null,
      "outputs": [
        {
          "output_type": "execute_result",
          "data": {
            "text/html": [
              "<div>\n",
              "<style scoped>\n",
              "    .dataframe tbody tr th:only-of-type {\n",
              "        vertical-align: middle;\n",
              "    }\n",
              "\n",
              "    .dataframe tbody tr th {\n",
              "        vertical-align: top;\n",
              "    }\n",
              "\n",
              "    .dataframe thead th {\n",
              "        text-align: right;\n",
              "    }\n",
              "</style>\n",
              "<table border=\"1\" class=\"dataframe\">\n",
              "  <thead>\n",
              "    <tr style=\"text-align: right;\">\n",
              "      <th></th>\n",
              "      <th>source_name</th>\n",
              "      <th>source_link</th>\n",
              "      <th>event_id</th>\n",
              "      <th>event_date</th>\n",
              "      <th>event_time</th>\n",
              "      <th>event_title</th>\n",
              "      <th>event_description</th>\n",
              "      <th>location_description</th>\n",
              "      <th>location_accuracy</th>\n",
              "      <th>landslide_category</th>\n",
              "      <th>landslide_trigger</th>\n",
              "      <th>landslide_size</th>\n",
              "      <th>landslide_setting</th>\n",
              "      <th>fatality_count</th>\n",
              "      <th>injury_count</th>\n",
              "      <th>storm_name</th>\n",
              "      <th>photo_link</th>\n",
              "      <th>notes</th>\n",
              "      <th>event_import_source</th>\n",
              "      <th>event_import_id</th>\n",
              "      <th>country_name</th>\n",
              "      <th>country_code</th>\n",
              "      <th>admin_division_name</th>\n",
              "      <th>admin_division_population</th>\n",
              "      <th>gazeteer_closest_point</th>\n",
              "      <th>gazeteer_distance</th>\n",
              "      <th>submitted_date</th>\n",
              "      <th>created_date</th>\n",
              "      <th>last_edited_date</th>\n",
              "      <th>longitude</th>\n",
              "      <th>latitude</th>\n",
              "    </tr>\n",
              "  </thead>\n",
              "  <tbody>\n",
              "    <tr>\n",
              "      <th>0</th>\n",
              "      <td>AGU</td>\n",
              "      <td>https://blogs.agu.org/landslideblog/2008/10/14...</td>\n",
              "      <td>684</td>\n",
              "      <td>2008-08-01 00:00:00</td>\n",
              "      <td>NaN</td>\n",
              "      <td>Sigou Village, Loufan County, Shanxi Province</td>\n",
              "      <td>occurred early in morning, 11 villagers buried...</td>\n",
              "      <td>Sigou Village, Loufan County, Shanxi Province</td>\n",
              "      <td>unknown</td>\n",
              "      <td>landslide</td>\n",
              "      <td>rain</td>\n",
              "      <td>large</td>\n",
              "      <td>mine</td>\n",
              "      <td>11.0</td>\n",
              "      <td>NaN</td>\n",
              "      <td>NaN</td>\n",
              "      <td>NaN</td>\n",
              "      <td>NaN</td>\n",
              "      <td>glc</td>\n",
              "      <td>684.0</td>\n",
              "      <td>China</td>\n",
              "      <td>CN</td>\n",
              "      <td>Shaanxi</td>\n",
              "      <td>0.0</td>\n",
              "      <td>Jingyang</td>\n",
              "      <td>41.02145</td>\n",
              "      <td>2014-04-01</td>\n",
              "      <td>2017-11-20 15:17:00</td>\n",
              "      <td>2018-02-15 15:51:00</td>\n",
              "      <td>107.4500</td>\n",
              "      <td>32.5625</td>\n",
              "    </tr>\n",
              "    <tr>\n",
              "      <th>1</th>\n",
              "      <td>Oregonian</td>\n",
              "      <td>http://www.oregonlive.com/news/index.ssf/2009/...</td>\n",
              "      <td>956</td>\n",
              "      <td>2009-01-02 02:00:00</td>\n",
              "      <td>NaN</td>\n",
              "      <td>Lake Oswego, Oregon</td>\n",
              "      <td>Hours of heavy rain are to blame for an overni...</td>\n",
              "      <td>Lake Oswego, Oregon</td>\n",
              "      <td>5km</td>\n",
              "      <td>mudslide</td>\n",
              "      <td>downpour</td>\n",
              "      <td>small</td>\n",
              "      <td>unknown</td>\n",
              "      <td>0.0</td>\n",
              "      <td>NaN</td>\n",
              "      <td>NaN</td>\n",
              "      <td>NaN</td>\n",
              "      <td>NaN</td>\n",
              "      <td>glc</td>\n",
              "      <td>956.0</td>\n",
              "      <td>United States</td>\n",
              "      <td>US</td>\n",
              "      <td>Oregon</td>\n",
              "      <td>36619.0</td>\n",
              "      <td>Lake Oswego</td>\n",
              "      <td>0.60342</td>\n",
              "      <td>2014-04-01</td>\n",
              "      <td>2017-11-20 15:17:00</td>\n",
              "      <td>2018-02-15 15:51:00</td>\n",
              "      <td>-122.6630</td>\n",
              "      <td>45.4200</td>\n",
              "    </tr>\n",
              "    <tr>\n",
              "      <th>2</th>\n",
              "      <td>CBS News</td>\n",
              "      <td>https://www.cbsnews.com/news/dozens-missing-af...</td>\n",
              "      <td>973</td>\n",
              "      <td>2007-01-19 00:00:00</td>\n",
              "      <td>NaN</td>\n",
              "      <td>San Ramon district, 195 miles northeast of the...</td>\n",
              "      <td>(CBS/AP) At least 10 people died and as many a...</td>\n",
              "      <td>San Ramon district, 195 miles northeast of the...</td>\n",
              "      <td>10km</td>\n",
              "      <td>landslide</td>\n",
              "      <td>downpour</td>\n",
              "      <td>large</td>\n",
              "      <td>unknown</td>\n",
              "      <td>10.0</td>\n",
              "      <td>NaN</td>\n",
              "      <td>NaN</td>\n",
              "      <td>NaN</td>\n",
              "      <td>NaN</td>\n",
              "      <td>glc</td>\n",
              "      <td>973.0</td>\n",
              "      <td>Peru</td>\n",
              "      <td>PE</td>\n",
              "      <td>Junín</td>\n",
              "      <td>14708.0</td>\n",
              "      <td>San Ramón</td>\n",
              "      <td>0.85548</td>\n",
              "      <td>2014-04-01</td>\n",
              "      <td>2017-11-20 15:17:00</td>\n",
              "      <td>2018-02-15 15:51:00</td>\n",
              "      <td>-75.3587</td>\n",
              "      <td>-11.1295</td>\n",
              "    </tr>\n",
              "    <tr>\n",
              "      <th>3</th>\n",
              "      <td>Reuters</td>\n",
              "      <td>https://in.reuters.com/article/idINIndia-41450...</td>\n",
              "      <td>1067</td>\n",
              "      <td>2009-07-31 00:00:00</td>\n",
              "      <td>NaN</td>\n",
              "      <td>Dailekh district</td>\n",
              "      <td>One person was killed in Dailekh district, pol...</td>\n",
              "      <td>Dailekh district</td>\n",
              "      <td>unknown</td>\n",
              "      <td>landslide</td>\n",
              "      <td>monsoon</td>\n",
              "      <td>medium</td>\n",
              "      <td>unknown</td>\n",
              "      <td>1.0</td>\n",
              "      <td>NaN</td>\n",
              "      <td>NaN</td>\n",
              "      <td>NaN</td>\n",
              "      <td>NaN</td>\n",
              "      <td>glc</td>\n",
              "      <td>1067.0</td>\n",
              "      <td>Nepal</td>\n",
              "      <td>NP</td>\n",
              "      <td>Mid Western</td>\n",
              "      <td>20908.0</td>\n",
              "      <td>Dailekh</td>\n",
              "      <td>0.75395</td>\n",
              "      <td>2014-04-01</td>\n",
              "      <td>2017-11-20 15:17:00</td>\n",
              "      <td>2018-02-15 15:51:00</td>\n",
              "      <td>81.7080</td>\n",
              "      <td>28.8378</td>\n",
              "    </tr>\n",
              "    <tr>\n",
              "      <th>4</th>\n",
              "      <td>The Freeman</td>\n",
              "      <td>http://www.philstar.com/cebu-news/621414/lands...</td>\n",
              "      <td>2603</td>\n",
              "      <td>2010-10-16 12:00:00</td>\n",
              "      <td>NaN</td>\n",
              "      <td>sitio Bakilid in barangay Lahug</td>\n",
              "      <td>Another landslide in sitio Bakilid in barangay...</td>\n",
              "      <td>sitio Bakilid in barangay Lahug</td>\n",
              "      <td>5km</td>\n",
              "      <td>landslide</td>\n",
              "      <td>tropical_cyclone</td>\n",
              "      <td>medium</td>\n",
              "      <td>unknown</td>\n",
              "      <td>0.0</td>\n",
              "      <td>NaN</td>\n",
              "      <td>Supertyphoon Juan (Megi)</td>\n",
              "      <td>NaN</td>\n",
              "      <td>NaN</td>\n",
              "      <td>glc</td>\n",
              "      <td>2603.0</td>\n",
              "      <td>Philippines</td>\n",
              "      <td>PH</td>\n",
              "      <td>Central Visayas</td>\n",
              "      <td>798634.0</td>\n",
              "      <td>Cebu City</td>\n",
              "      <td>2.02204</td>\n",
              "      <td>2014-04-01</td>\n",
              "      <td>2017-11-20 15:17:00</td>\n",
              "      <td>2018-02-15 15:51:00</td>\n",
              "      <td>123.8978</td>\n",
              "      <td>10.3336</td>\n",
              "    </tr>\n",
              "  </tbody>\n",
              "</table>\n",
              "</div>"
            ],
            "text/plain": [
              "   source_name  ... latitude\n",
              "0          AGU  ...  32.5625\n",
              "1    Oregonian  ...  45.4200\n",
              "2     CBS News  ... -11.1295\n",
              "3      Reuters  ...  28.8378\n",
              "4  The Freeman  ...  10.3336\n",
              "\n",
              "[5 rows x 31 columns]"
            ]
          },
          "metadata": {
            "tags": []
          },
          "execution_count": 6
        }
      ]
    },
    {
      "cell_type": "code",
      "metadata": {
        "id": "ZqkN81vqeXE-",
        "outputId": "2a4cdad8-01a2-4d9f-9c18-0a47db5a217a",
        "colab": {
          "base_uri": "https://localhost:8080/",
          "height": 187
        }
      },
      "source": [
        "df.columns\n"
      ],
      "execution_count": null,
      "outputs": [
        {
          "output_type": "execute_result",
          "data": {
            "text/plain": [
              "Index(['source_name', 'source_link', 'event_id', 'event_date', 'event_time',\n",
              "       'event_title', 'event_description', 'location_description',\n",
              "       'location_accuracy', 'landslide_category', 'landslide_trigger',\n",
              "       'landslide_size', 'landslide_setting', 'fatality_count', 'injury_count',\n",
              "       'storm_name', 'photo_link', 'notes', 'event_import_source',\n",
              "       'event_import_id', 'country_name', 'country_code',\n",
              "       'admin_division_name', 'admin_division_population',\n",
              "       'gazeteer_closest_point', 'gazeteer_distance', 'submitted_date',\n",
              "       'created_date', 'last_edited_date', 'longitude', 'latitude'],\n",
              "      dtype='object')"
            ]
          },
          "metadata": {
            "tags": []
          },
          "execution_count": 7
        }
      ]
    },
    {
      "cell_type": "code",
      "metadata": {
        "id": "21mM_-GHejF4",
        "outputId": "0675590f-ceb1-40f2-bd74-49082b88e36f",
        "colab": {
          "base_uri": "https://localhost:8080/",
          "height": 663
        }
      },
      "source": [
        "df.info()"
      ],
      "execution_count": null,
      "outputs": [
        {
          "output_type": "stream",
          "text": [
            "<class 'pandas.core.frame.DataFrame'>\n",
            "RangeIndex: 11033 entries, 0 to 11032\n",
            "Data columns (total 31 columns):\n",
            " #   Column                     Non-Null Count  Dtype         \n",
            "---  ------                     --------------  -----         \n",
            " 0   source_name                11033 non-null  object        \n",
            " 1   source_link                10187 non-null  object        \n",
            " 2   event_id                   11033 non-null  int64         \n",
            " 3   event_date                 11033 non-null  datetime64[ns]\n",
            " 4   event_time                 0 non-null      float64       \n",
            " 5   event_title                11033 non-null  object        \n",
            " 6   event_description          10171 non-null  object        \n",
            " 7   location_description       10931 non-null  object        \n",
            " 8   location_accuracy          11031 non-null  object        \n",
            " 9   landslide_category         11032 non-null  object        \n",
            " 10  landslide_trigger          11010 non-null  object        \n",
            " 11  landslide_size             11024 non-null  object        \n",
            " 12  landslide_setting          10964 non-null  object        \n",
            " 13  fatality_count             9648 non-null   float64       \n",
            " 14  injury_count               5359 non-null   float64       \n",
            " 15  storm_name                 577 non-null    object        \n",
            " 16  photo_link                 1496 non-null   object        \n",
            " 17  notes                      317 non-null    object        \n",
            " 18  event_import_source        9470 non-null   object        \n",
            " 19  event_import_id            9471 non-null   float64       \n",
            " 20  country_name               9471 non-null   object        \n",
            " 21  country_code               9469 non-null   object        \n",
            " 22  admin_division_name        9396 non-null   object        \n",
            " 23  admin_division_population  9471 non-null   float64       \n",
            " 24  gazeteer_closest_point     9470 non-null   object        \n",
            " 25  gazeteer_distance          9471 non-null   float64       \n",
            " 26  submitted_date             11023 non-null  datetime64[ns]\n",
            " 27  created_date               11032 non-null  datetime64[ns]\n",
            " 28  last_edited_date           11033 non-null  datetime64[ns]\n",
            " 29  longitude                  11033 non-null  float64       \n",
            " 30  latitude                   11033 non-null  float64       \n",
            "dtypes: datetime64[ns](4), float64(8), int64(1), object(18)\n",
            "memory usage: 2.6+ MB\n"
          ],
          "name": "stdout"
        }
      ]
    },
    {
      "cell_type": "code",
      "metadata": {
        "id": "7fIOwI40hbnS",
        "outputId": "882d6482-9330-4b3e-b3d5-1ef30afaf927",
        "colab": {
          "base_uri": "https://localhost:8080/",
          "height": 1000
        }
      },
      "source": [
        "missing_df = df.isnull().sum(axis=0).reset_index()\n",
        "missing_df.columns = ['variable', 'missing values']\n",
        "missing_df['filling factor (%)']=(df.shape[0]-missing_df['missing values'])/df.shape[0]*100\n",
        "missing_df.sort_values('filling factor (%)').reset_index(drop = True)"
      ],
      "execution_count": null,
      "outputs": [
        {
          "output_type": "execute_result",
          "data": {
            "text/html": [
              "<div>\n",
              "<style scoped>\n",
              "    .dataframe tbody tr th:only-of-type {\n",
              "        vertical-align: middle;\n",
              "    }\n",
              "\n",
              "    .dataframe tbody tr th {\n",
              "        vertical-align: top;\n",
              "    }\n",
              "\n",
              "    .dataframe thead th {\n",
              "        text-align: right;\n",
              "    }\n",
              "</style>\n",
              "<table border=\"1\" class=\"dataframe\">\n",
              "  <thead>\n",
              "    <tr style=\"text-align: right;\">\n",
              "      <th></th>\n",
              "      <th>variable</th>\n",
              "      <th>missing values</th>\n",
              "      <th>filling factor (%)</th>\n",
              "    </tr>\n",
              "  </thead>\n",
              "  <tbody>\n",
              "    <tr>\n",
              "      <th>0</th>\n",
              "      <td>event_time</td>\n",
              "      <td>11033</td>\n",
              "      <td>0.000000</td>\n",
              "    </tr>\n",
              "    <tr>\n",
              "      <th>1</th>\n",
              "      <td>notes</td>\n",
              "      <td>10716</td>\n",
              "      <td>2.873199</td>\n",
              "    </tr>\n",
              "    <tr>\n",
              "      <th>2</th>\n",
              "      <td>storm_name</td>\n",
              "      <td>10456</td>\n",
              "      <td>5.229765</td>\n",
              "    </tr>\n",
              "    <tr>\n",
              "      <th>3</th>\n",
              "      <td>photo_link</td>\n",
              "      <td>9537</td>\n",
              "      <td>13.559322</td>\n",
              "    </tr>\n",
              "    <tr>\n",
              "      <th>4</th>\n",
              "      <td>injury_count</td>\n",
              "      <td>5674</td>\n",
              "      <td>48.572464</td>\n",
              "    </tr>\n",
              "    <tr>\n",
              "      <th>5</th>\n",
              "      <td>admin_division_name</td>\n",
              "      <td>1637</td>\n",
              "      <td>85.162694</td>\n",
              "    </tr>\n",
              "    <tr>\n",
              "      <th>6</th>\n",
              "      <td>country_code</td>\n",
              "      <td>1564</td>\n",
              "      <td>85.824345</td>\n",
              "    </tr>\n",
              "    <tr>\n",
              "      <th>7</th>\n",
              "      <td>event_import_source</td>\n",
              "      <td>1563</td>\n",
              "      <td>85.833409</td>\n",
              "    </tr>\n",
              "    <tr>\n",
              "      <th>8</th>\n",
              "      <td>gazeteer_closest_point</td>\n",
              "      <td>1563</td>\n",
              "      <td>85.833409</td>\n",
              "    </tr>\n",
              "    <tr>\n",
              "      <th>9</th>\n",
              "      <td>admin_division_population</td>\n",
              "      <td>1562</td>\n",
              "      <td>85.842473</td>\n",
              "    </tr>\n",
              "    <tr>\n",
              "      <th>10</th>\n",
              "      <td>gazeteer_distance</td>\n",
              "      <td>1562</td>\n",
              "      <td>85.842473</td>\n",
              "    </tr>\n",
              "    <tr>\n",
              "      <th>11</th>\n",
              "      <td>event_import_id</td>\n",
              "      <td>1562</td>\n",
              "      <td>85.842473</td>\n",
              "    </tr>\n",
              "    <tr>\n",
              "      <th>12</th>\n",
              "      <td>country_name</td>\n",
              "      <td>1562</td>\n",
              "      <td>85.842473</td>\n",
              "    </tr>\n",
              "    <tr>\n",
              "      <th>13</th>\n",
              "      <td>fatality_count</td>\n",
              "      <td>1385</td>\n",
              "      <td>87.446751</td>\n",
              "    </tr>\n",
              "    <tr>\n",
              "      <th>14</th>\n",
              "      <td>event_description</td>\n",
              "      <td>862</td>\n",
              "      <td>92.187075</td>\n",
              "    </tr>\n",
              "    <tr>\n",
              "      <th>15</th>\n",
              "      <td>source_link</td>\n",
              "      <td>846</td>\n",
              "      <td>92.332095</td>\n",
              "    </tr>\n",
              "    <tr>\n",
              "      <th>16</th>\n",
              "      <td>location_description</td>\n",
              "      <td>102</td>\n",
              "      <td>99.075501</td>\n",
              "    </tr>\n",
              "    <tr>\n",
              "      <th>17</th>\n",
              "      <td>landslide_setting</td>\n",
              "      <td>69</td>\n",
              "      <td>99.374603</td>\n",
              "    </tr>\n",
              "    <tr>\n",
              "      <th>18</th>\n",
              "      <td>landslide_trigger</td>\n",
              "      <td>23</td>\n",
              "      <td>99.791534</td>\n",
              "    </tr>\n",
              "    <tr>\n",
              "      <th>19</th>\n",
              "      <td>submitted_date</td>\n",
              "      <td>10</td>\n",
              "      <td>99.909363</td>\n",
              "    </tr>\n",
              "    <tr>\n",
              "      <th>20</th>\n",
              "      <td>landslide_size</td>\n",
              "      <td>9</td>\n",
              "      <td>99.918427</td>\n",
              "    </tr>\n",
              "    <tr>\n",
              "      <th>21</th>\n",
              "      <td>location_accuracy</td>\n",
              "      <td>2</td>\n",
              "      <td>99.981873</td>\n",
              "    </tr>\n",
              "    <tr>\n",
              "      <th>22</th>\n",
              "      <td>landslide_category</td>\n",
              "      <td>1</td>\n",
              "      <td>99.990936</td>\n",
              "    </tr>\n",
              "    <tr>\n",
              "      <th>23</th>\n",
              "      <td>created_date</td>\n",
              "      <td>1</td>\n",
              "      <td>99.990936</td>\n",
              "    </tr>\n",
              "    <tr>\n",
              "      <th>24</th>\n",
              "      <td>last_edited_date</td>\n",
              "      <td>0</td>\n",
              "      <td>100.000000</td>\n",
              "    </tr>\n",
              "    <tr>\n",
              "      <th>25</th>\n",
              "      <td>source_name</td>\n",
              "      <td>0</td>\n",
              "      <td>100.000000</td>\n",
              "    </tr>\n",
              "    <tr>\n",
              "      <th>26</th>\n",
              "      <td>event_title</td>\n",
              "      <td>0</td>\n",
              "      <td>100.000000</td>\n",
              "    </tr>\n",
              "    <tr>\n",
              "      <th>27</th>\n",
              "      <td>event_date</td>\n",
              "      <td>0</td>\n",
              "      <td>100.000000</td>\n",
              "    </tr>\n",
              "    <tr>\n",
              "      <th>28</th>\n",
              "      <td>event_id</td>\n",
              "      <td>0</td>\n",
              "      <td>100.000000</td>\n",
              "    </tr>\n",
              "    <tr>\n",
              "      <th>29</th>\n",
              "      <td>longitude</td>\n",
              "      <td>0</td>\n",
              "      <td>100.000000</td>\n",
              "    </tr>\n",
              "    <tr>\n",
              "      <th>30</th>\n",
              "      <td>latitude</td>\n",
              "      <td>0</td>\n",
              "      <td>100.000000</td>\n",
              "    </tr>\n",
              "  </tbody>\n",
              "</table>\n",
              "</div>"
            ],
            "text/plain": [
              "                     variable  missing values  filling factor (%)\n",
              "0                  event_time           11033            0.000000\n",
              "1                       notes           10716            2.873199\n",
              "2                  storm_name           10456            5.229765\n",
              "3                  photo_link            9537           13.559322\n",
              "4                injury_count            5674           48.572464\n",
              "5         admin_division_name            1637           85.162694\n",
              "6                country_code            1564           85.824345\n",
              "7         event_import_source            1563           85.833409\n",
              "8      gazeteer_closest_point            1563           85.833409\n",
              "9   admin_division_population            1562           85.842473\n",
              "10          gazeteer_distance            1562           85.842473\n",
              "11            event_import_id            1562           85.842473\n",
              "12               country_name            1562           85.842473\n",
              "13             fatality_count            1385           87.446751\n",
              "14          event_description             862           92.187075\n",
              "15                source_link             846           92.332095\n",
              "16       location_description             102           99.075501\n",
              "17          landslide_setting              69           99.374603\n",
              "18          landslide_trigger              23           99.791534\n",
              "19             submitted_date              10           99.909363\n",
              "20             landslide_size               9           99.918427\n",
              "21          location_accuracy               2           99.981873\n",
              "22         landslide_category               1           99.990936\n",
              "23               created_date               1           99.990936\n",
              "24           last_edited_date               0          100.000000\n",
              "25                source_name               0          100.000000\n",
              "26                event_title               0          100.000000\n",
              "27                 event_date               0          100.000000\n",
              "28                   event_id               0          100.000000\n",
              "29                  longitude               0          100.000000\n",
              "30                   latitude               0          100.000000"
            ]
          },
          "metadata": {
            "tags": []
          },
          "execution_count": 9
        }
      ]
    },
    {
      "cell_type": "code",
      "metadata": {
        "id": "v4SWNbaUj1cD",
        "outputId": "fb0ee098-3133-4e60-bb51-6871484687a6",
        "colab": {
          "base_uri": "https://localhost:8080/",
          "height": 34
        }
      },
      "source": [
        "df.shape # See how many data objects & attributes we have\n",
        "\n"
      ],
      "execution_count": null,
      "outputs": [
        {
          "output_type": "execute_result",
          "data": {
            "text/plain": [
              "(11033, 31)"
            ]
          },
          "metadata": {
            "tags": []
          },
          "execution_count": 10
        }
      ]
    },
    {
      "cell_type": "code",
      "metadata": {
        "id": "Nfvxee25jWL9",
        "outputId": "ff48c71a-7c14-4328-e594-f4bd7f384aa8",
        "colab": {
          "base_uri": "https://localhost:8080/",
          "height": 102
        }
      },
      "source": [
        "df.landslide_trigger.unique() # To get the distinct value for landslide_trigger column"
      ],
      "execution_count": null,
      "outputs": [
        {
          "output_type": "execute_result",
          "data": {
            "text/plain": [
              "array(['rain', 'downpour', 'monsoon', 'tropical_cyclone', 'unknown',\n",
              "       'continuous_rain', 'dam_embankment_collapse',\n",
              "       'no_apparent_trigger', nan, 'other', 'leaking_pipe',\n",
              "       'construction', 'snowfall_snowmelt', 'mining', 'flooding',\n",
              "       'earthquake', 'freeze_thaw', 'volcano', 'vibration'], dtype=object)"
            ]
          },
          "metadata": {
            "tags": []
          },
          "execution_count": 11
        }
      ]
    },
    {
      "cell_type": "code",
      "metadata": {
        "id": "t9db530mw6sR"
      },
      "source": [
        "#del df['event_time'] # Deleting event_time column has there was no any data in that column."
      ],
      "execution_count": null,
      "outputs": []
    },
    {
      "cell_type": "code",
      "metadata": {
        "id": "fEy5GK1ZjH-X"
      },
      "source": [
        "############################### DATA PREPROCESSING ###############################\n",
        "# In this section I performed data preprocessing by removing noise, replacing NaN\n",
        "# values, replacing NaN/empty values with the median of that attribute and dropping\n",
        "# columns that wouldn't help our model train\n",
        "##################################################################################\n",
        "# Remove unwanted columns\n",
        "df = df.drop(columns=['event_title',\n",
        "                      'event_id','event_description',\n",
        "                      'gazeteer_closest_point', 'country_code','gazeteer_distance','last_edited_date'])"
      ],
      "execution_count": null,
      "outputs": []
    },
    {
      "cell_type": "code",
      "metadata": {
        "id": "H6F7AgeQ1zWy"
      },
      "source": [
        ""
      ],
      "execution_count": null,
      "outputs": []
    },
    {
      "cell_type": "code",
      "metadata": {
        "id": "GRGck1LetHPs"
      },
      "source": [
        "df = df.dropna(subset=['landslide_trigger']) # remove null vrows of landslide_trigger"
      ],
      "execution_count": null,
      "outputs": []
    },
    {
      "cell_type": "code",
      "metadata": {
        "id": "vF34Neybehb0",
        "outputId": "abcea9d3-c535-496f-b60d-373fb1b328ee",
        "colab": {
          "base_uri": "https://localhost:8080/",
          "height": 793
        }
      },
      "source": [
        "missing_df = df.isnull().sum(axis=0).reset_index()\n",
        "missing_df.columns = ['variable', 'missing values']\n",
        "missing_df['filling factor (%)']=(df.shape[0]-missing_df['missing values'])/df.shape[0]*100\n",
        "missing_df.sort_values('filling factor (%)').reset_index(drop = True)"
      ],
      "execution_count": null,
      "outputs": [
        {
          "output_type": "execute_result",
          "data": {
            "text/html": [
              "<div>\n",
              "<style scoped>\n",
              "    .dataframe tbody tr th:only-of-type {\n",
              "        vertical-align: middle;\n",
              "    }\n",
              "\n",
              "    .dataframe tbody tr th {\n",
              "        vertical-align: top;\n",
              "    }\n",
              "\n",
              "    .dataframe thead th {\n",
              "        text-align: right;\n",
              "    }\n",
              "</style>\n",
              "<table border=\"1\" class=\"dataframe\">\n",
              "  <thead>\n",
              "    <tr style=\"text-align: right;\">\n",
              "      <th></th>\n",
              "      <th>variable</th>\n",
              "      <th>missing values</th>\n",
              "      <th>filling factor (%)</th>\n",
              "    </tr>\n",
              "  </thead>\n",
              "  <tbody>\n",
              "    <tr>\n",
              "      <th>0</th>\n",
              "      <td>event_time</td>\n",
              "      <td>11010</td>\n",
              "      <td>0.000000</td>\n",
              "    </tr>\n",
              "    <tr>\n",
              "      <th>1</th>\n",
              "      <td>notes</td>\n",
              "      <td>10694</td>\n",
              "      <td>2.870118</td>\n",
              "    </tr>\n",
              "    <tr>\n",
              "      <th>2</th>\n",
              "      <td>storm_name</td>\n",
              "      <td>10433</td>\n",
              "      <td>5.240690</td>\n",
              "    </tr>\n",
              "    <tr>\n",
              "      <th>3</th>\n",
              "      <td>photo_link</td>\n",
              "      <td>9517</td>\n",
              "      <td>13.560400</td>\n",
              "    </tr>\n",
              "    <tr>\n",
              "      <th>4</th>\n",
              "      <td>injury_count</td>\n",
              "      <td>5672</td>\n",
              "      <td>48.483197</td>\n",
              "    </tr>\n",
              "    <tr>\n",
              "      <th>5</th>\n",
              "      <td>admin_division_name</td>\n",
              "      <td>1614</td>\n",
              "      <td>85.340599</td>\n",
              "    </tr>\n",
              "    <tr>\n",
              "      <th>6</th>\n",
              "      <td>event_import_source</td>\n",
              "      <td>1540</td>\n",
              "      <td>86.012716</td>\n",
              "    </tr>\n",
              "    <tr>\n",
              "      <th>7</th>\n",
              "      <td>event_import_id</td>\n",
              "      <td>1539</td>\n",
              "      <td>86.021798</td>\n",
              "    </tr>\n",
              "    <tr>\n",
              "      <th>8</th>\n",
              "      <td>country_name</td>\n",
              "      <td>1539</td>\n",
              "      <td>86.021798</td>\n",
              "    </tr>\n",
              "    <tr>\n",
              "      <th>9</th>\n",
              "      <td>admin_division_population</td>\n",
              "      <td>1539</td>\n",
              "      <td>86.021798</td>\n",
              "    </tr>\n",
              "    <tr>\n",
              "      <th>10</th>\n",
              "      <td>fatality_count</td>\n",
              "      <td>1384</td>\n",
              "      <td>87.429609</td>\n",
              "    </tr>\n",
              "    <tr>\n",
              "      <th>11</th>\n",
              "      <td>source_link</td>\n",
              "      <td>846</td>\n",
              "      <td>92.316076</td>\n",
              "    </tr>\n",
              "    <tr>\n",
              "      <th>12</th>\n",
              "      <td>location_description</td>\n",
              "      <td>101</td>\n",
              "      <td>99.082652</td>\n",
              "    </tr>\n",
              "    <tr>\n",
              "      <th>13</th>\n",
              "      <td>landslide_setting</td>\n",
              "      <td>62</td>\n",
              "      <td>99.436876</td>\n",
              "    </tr>\n",
              "    <tr>\n",
              "      <th>14</th>\n",
              "      <td>submitted_date</td>\n",
              "      <td>10</td>\n",
              "      <td>99.909173</td>\n",
              "    </tr>\n",
              "    <tr>\n",
              "      <th>15</th>\n",
              "      <td>landslide_size</td>\n",
              "      <td>6</td>\n",
              "      <td>99.945504</td>\n",
              "    </tr>\n",
              "    <tr>\n",
              "      <th>16</th>\n",
              "      <td>location_accuracy</td>\n",
              "      <td>2</td>\n",
              "      <td>99.981835</td>\n",
              "    </tr>\n",
              "    <tr>\n",
              "      <th>17</th>\n",
              "      <td>created_date</td>\n",
              "      <td>1</td>\n",
              "      <td>99.990917</td>\n",
              "    </tr>\n",
              "    <tr>\n",
              "      <th>18</th>\n",
              "      <td>source_name</td>\n",
              "      <td>0</td>\n",
              "      <td>100.000000</td>\n",
              "    </tr>\n",
              "    <tr>\n",
              "      <th>19</th>\n",
              "      <td>landslide_trigger</td>\n",
              "      <td>0</td>\n",
              "      <td>100.000000</td>\n",
              "    </tr>\n",
              "    <tr>\n",
              "      <th>20</th>\n",
              "      <td>landslide_category</td>\n",
              "      <td>0</td>\n",
              "      <td>100.000000</td>\n",
              "    </tr>\n",
              "    <tr>\n",
              "      <th>21</th>\n",
              "      <td>event_date</td>\n",
              "      <td>0</td>\n",
              "      <td>100.000000</td>\n",
              "    </tr>\n",
              "    <tr>\n",
              "      <th>22</th>\n",
              "      <td>longitude</td>\n",
              "      <td>0</td>\n",
              "      <td>100.000000</td>\n",
              "    </tr>\n",
              "    <tr>\n",
              "      <th>23</th>\n",
              "      <td>latitude</td>\n",
              "      <td>0</td>\n",
              "      <td>100.000000</td>\n",
              "    </tr>\n",
              "  </tbody>\n",
              "</table>\n",
              "</div>"
            ],
            "text/plain": [
              "                     variable  missing values  filling factor (%)\n",
              "0                  event_time           11010            0.000000\n",
              "1                       notes           10694            2.870118\n",
              "2                  storm_name           10433            5.240690\n",
              "3                  photo_link            9517           13.560400\n",
              "4                injury_count            5672           48.483197\n",
              "5         admin_division_name            1614           85.340599\n",
              "6         event_import_source            1540           86.012716\n",
              "7             event_import_id            1539           86.021798\n",
              "8                country_name            1539           86.021798\n",
              "9   admin_division_population            1539           86.021798\n",
              "10             fatality_count            1384           87.429609\n",
              "11                source_link             846           92.316076\n",
              "12       location_description             101           99.082652\n",
              "13          landslide_setting              62           99.436876\n",
              "14             submitted_date              10           99.909173\n",
              "15             landslide_size               6           99.945504\n",
              "16          location_accuracy               2           99.981835\n",
              "17               created_date               1           99.990917\n",
              "18                source_name               0          100.000000\n",
              "19          landslide_trigger               0          100.000000\n",
              "20         landslide_category               0          100.000000\n",
              "21                 event_date               0          100.000000\n",
              "22                  longitude               0          100.000000\n",
              "23                   latitude               0          100.000000"
            ]
          },
          "metadata": {
            "tags": []
          },
          "execution_count": 15
        }
      ]
    },
    {
      "cell_type": "code",
      "metadata": {
        "id": "vda8_fdkxiNI"
      },
      "source": [
        "# Remove unwanted columns\n",
        "df = df.drop(columns=['notes',\n",
        "                      'storm_name','photo_link'])"
      ],
      "execution_count": null,
      "outputs": []
    },
    {
      "cell_type": "code",
      "metadata": {
        "id": "pKt7LAuYttM6",
        "outputId": "c9daf297-f311-4c4e-bb39-0e59e076660e",
        "colab": {
          "base_uri": "https://localhost:8080/",
          "height": 391
        }
      },
      "source": [
        "# Replace NaN values in fatality & injury count with the medians\n",
        "df['fatality_count'].fillna((df['fatality_count'].median()), inplace=True)\n",
        "df['injury_count'].fillna((df['injury_count'].median()), inplace=True)\n",
        "df.isnull().sum() # check for missing values in dataset"
      ],
      "execution_count": null,
      "outputs": [
        {
          "output_type": "execute_result",
          "data": {
            "text/plain": [
              "source_name                      0\n",
              "source_link                    846\n",
              "event_date                       0\n",
              "event_time                   11010\n",
              "location_description           101\n",
              "location_accuracy                2\n",
              "landslide_category               0\n",
              "landslide_trigger                0\n",
              "landslide_size                   6\n",
              "landslide_setting               62\n",
              "fatality_count                   0\n",
              "injury_count                     0\n",
              "event_import_source           1540\n",
              "event_import_id               1539\n",
              "country_name                  1539\n",
              "admin_division_name           1614\n",
              "admin_division_population     1539\n",
              "submitted_date                  10\n",
              "created_date                     1\n",
              "longitude                        0\n",
              "latitude                         0\n",
              "dtype: int64"
            ]
          },
          "metadata": {
            "tags": []
          },
          "execution_count": 17
        }
      ]
    },
    {
      "cell_type": "code",
      "metadata": {
        "id": "fsLqVEmRuH1c",
        "outputId": "73c8c30e-f3b3-4ac0-a10b-bd8849995d7c",
        "colab": {
          "base_uri": "https://localhost:8080/",
          "height": 51
        }
      },
      "source": [
        "df.landslide_size.unique()"
      ],
      "execution_count": null,
      "outputs": [
        {
          "output_type": "execute_result",
          "data": {
            "text/plain": [
              "array(['large', 'small', 'medium', 'unknown', 'very_large',\n",
              "       'catastrophic', nan], dtype=object)"
            ]
          },
          "metadata": {
            "tags": []
          },
          "execution_count": 18
        }
      ]
    },
    {
      "cell_type": "code",
      "metadata": {
        "id": "t3DlEgTKuSon"
      },
      "source": [
        "#Delete attribute values that we don't want to classify:\n",
        "df = df[df.landslide_size != \"catastrophic\"]\n",
        "df = df[df.landslide_category != \"unknown\"]\n",
        "df = df[df.landslide_category != \"other\"]\n",
        "df = df[df.country_name != \"NaN\"]"
      ],
      "execution_count": null,
      "outputs": []
    },
    {
      "cell_type": "code",
      "metadata": {
        "id": "ydcSwsOfvSnk",
        "outputId": "a6b27461-6dc4-4f0b-d803-2e49d4e63604",
        "colab": {
          "base_uri": "https://localhost:8080/",
          "height": 700
        }
      },
      "source": [
        "missing_df = df.isnull().sum(axis=0).reset_index()\n",
        "missing_df.columns = ['variable', 'missing values']\n",
        "missing_df['filling factor (%)']=(df.shape[0]-missing_df['missing values'])/df.shape[0]*100\n",
        "missing_df.sort_values('filling factor (%)').reset_index(drop = True)"
      ],
      "execution_count": null,
      "outputs": [
        {
          "output_type": "execute_result",
          "data": {
            "text/html": [
              "<div>\n",
              "<style scoped>\n",
              "    .dataframe tbody tr th:only-of-type {\n",
              "        vertical-align: middle;\n",
              "    }\n",
              "\n",
              "    .dataframe tbody tr th {\n",
              "        vertical-align: top;\n",
              "    }\n",
              "\n",
              "    .dataframe thead th {\n",
              "        text-align: right;\n",
              "    }\n",
              "</style>\n",
              "<table border=\"1\" class=\"dataframe\">\n",
              "  <thead>\n",
              "    <tr style=\"text-align: right;\">\n",
              "      <th></th>\n",
              "      <th>variable</th>\n",
              "      <th>missing values</th>\n",
              "      <th>filling factor (%)</th>\n",
              "    </tr>\n",
              "  </thead>\n",
              "  <tbody>\n",
              "    <tr>\n",
              "      <th>0</th>\n",
              "      <td>event_time</td>\n",
              "      <td>10901</td>\n",
              "      <td>0.000000</td>\n",
              "    </tr>\n",
              "    <tr>\n",
              "      <th>1</th>\n",
              "      <td>admin_division_name</td>\n",
              "      <td>1607</td>\n",
              "      <td>85.258233</td>\n",
              "    </tr>\n",
              "    <tr>\n",
              "      <th>2</th>\n",
              "      <td>admin_division_population</td>\n",
              "      <td>1532</td>\n",
              "      <td>85.946243</td>\n",
              "    </tr>\n",
              "    <tr>\n",
              "      <th>3</th>\n",
              "      <td>country_name</td>\n",
              "      <td>1532</td>\n",
              "      <td>85.946243</td>\n",
              "    </tr>\n",
              "    <tr>\n",
              "      <th>4</th>\n",
              "      <td>event_import_source</td>\n",
              "      <td>1532</td>\n",
              "      <td>85.946243</td>\n",
              "    </tr>\n",
              "    <tr>\n",
              "      <th>5</th>\n",
              "      <td>event_import_id</td>\n",
              "      <td>1532</td>\n",
              "      <td>85.946243</td>\n",
              "    </tr>\n",
              "    <tr>\n",
              "      <th>6</th>\n",
              "      <td>source_link</td>\n",
              "      <td>842</td>\n",
              "      <td>92.275938</td>\n",
              "    </tr>\n",
              "    <tr>\n",
              "      <th>7</th>\n",
              "      <td>location_description</td>\n",
              "      <td>97</td>\n",
              "      <td>99.110173</td>\n",
              "    </tr>\n",
              "    <tr>\n",
              "      <th>8</th>\n",
              "      <td>landslide_setting</td>\n",
              "      <td>62</td>\n",
              "      <td>99.431245</td>\n",
              "    </tr>\n",
              "    <tr>\n",
              "      <th>9</th>\n",
              "      <td>submitted_date</td>\n",
              "      <td>10</td>\n",
              "      <td>99.908265</td>\n",
              "    </tr>\n",
              "    <tr>\n",
              "      <th>10</th>\n",
              "      <td>landslide_size</td>\n",
              "      <td>6</td>\n",
              "      <td>99.944959</td>\n",
              "    </tr>\n",
              "    <tr>\n",
              "      <th>11</th>\n",
              "      <td>location_accuracy</td>\n",
              "      <td>2</td>\n",
              "      <td>99.981653</td>\n",
              "    </tr>\n",
              "    <tr>\n",
              "      <th>12</th>\n",
              "      <td>created_date</td>\n",
              "      <td>1</td>\n",
              "      <td>99.990827</td>\n",
              "    </tr>\n",
              "    <tr>\n",
              "      <th>13</th>\n",
              "      <td>source_name</td>\n",
              "      <td>0</td>\n",
              "      <td>100.000000</td>\n",
              "    </tr>\n",
              "    <tr>\n",
              "      <th>14</th>\n",
              "      <td>fatality_count</td>\n",
              "      <td>0</td>\n",
              "      <td>100.000000</td>\n",
              "    </tr>\n",
              "    <tr>\n",
              "      <th>15</th>\n",
              "      <td>longitude</td>\n",
              "      <td>0</td>\n",
              "      <td>100.000000</td>\n",
              "    </tr>\n",
              "    <tr>\n",
              "      <th>16</th>\n",
              "      <td>landslide_trigger</td>\n",
              "      <td>0</td>\n",
              "      <td>100.000000</td>\n",
              "    </tr>\n",
              "    <tr>\n",
              "      <th>17</th>\n",
              "      <td>landslide_category</td>\n",
              "      <td>0</td>\n",
              "      <td>100.000000</td>\n",
              "    </tr>\n",
              "    <tr>\n",
              "      <th>18</th>\n",
              "      <td>event_date</td>\n",
              "      <td>0</td>\n",
              "      <td>100.000000</td>\n",
              "    </tr>\n",
              "    <tr>\n",
              "      <th>19</th>\n",
              "      <td>injury_count</td>\n",
              "      <td>0</td>\n",
              "      <td>100.000000</td>\n",
              "    </tr>\n",
              "    <tr>\n",
              "      <th>20</th>\n",
              "      <td>latitude</td>\n",
              "      <td>0</td>\n",
              "      <td>100.000000</td>\n",
              "    </tr>\n",
              "  </tbody>\n",
              "</table>\n",
              "</div>"
            ],
            "text/plain": [
              "                     variable  missing values  filling factor (%)\n",
              "0                  event_time           10901            0.000000\n",
              "1         admin_division_name            1607           85.258233\n",
              "2   admin_division_population            1532           85.946243\n",
              "3                country_name            1532           85.946243\n",
              "4         event_import_source            1532           85.946243\n",
              "5             event_import_id            1532           85.946243\n",
              "6                 source_link             842           92.275938\n",
              "7        location_description              97           99.110173\n",
              "8           landslide_setting              62           99.431245\n",
              "9              submitted_date              10           99.908265\n",
              "10             landslide_size               6           99.944959\n",
              "11          location_accuracy               2           99.981653\n",
              "12               created_date               1           99.990827\n",
              "13                source_name               0          100.000000\n",
              "14             fatality_count               0          100.000000\n",
              "15                  longitude               0          100.000000\n",
              "16          landslide_trigger               0          100.000000\n",
              "17         landslide_category               0          100.000000\n",
              "18                 event_date               0          100.000000\n",
              "19               injury_count               0          100.000000\n",
              "20                   latitude               0          100.000000"
            ]
          },
          "metadata": {
            "tags": []
          },
          "execution_count": 20
        }
      ]
    },
    {
      "cell_type": "code",
      "metadata": {
        "id": "XsqTTOlNxPLi"
      },
      "source": [
        ""
      ],
      "execution_count": null,
      "outputs": []
    },
    {
      "cell_type": "code",
      "metadata": {
        "id": "G3KBK5DovXlK",
        "outputId": "edcad80d-ebd6-4fa8-f216-a0cb69a4116b",
        "colab": {
          "base_uri": "https://localhost:8080/",
          "height": 51
        }
      },
      "source": [
        "df.landslide_size.unique()"
      ],
      "execution_count": null,
      "outputs": [
        {
          "output_type": "execute_result",
          "data": {
            "text/plain": [
              "array(['large', 'small', 'medium', 'unknown', 'very_large', nan],\n",
              "      dtype=object)"
            ]
          },
          "metadata": {
            "tags": []
          },
          "execution_count": 21
        }
      ]
    },
    {
      "cell_type": "code",
      "metadata": {
        "id": "Yx-fdT0ewgmT"
      },
      "source": [
        "# replacing na values in college with No college \n",
        "df[\"landslide_size\"].fillna(\"small\", inplace = True)\n"
      ],
      "execution_count": null,
      "outputs": []
    },
    {
      "cell_type": "code",
      "metadata": {
        "id": "WEZJ-6Ssx0j7"
      },
      "source": [
        "df = df.dropna(subset=['location_description']) "
      ],
      "execution_count": null,
      "outputs": []
    },
    {
      "cell_type": "code",
      "metadata": {
        "id": "IjucBYAgx_jA"
      },
      "source": [
        "del df['landslide_setting']\n",
        "del df['submitted_date']\n",
        "del df['created_date']\n",
        "# deleting redundant column as eventdate covers"
      ],
      "execution_count": null,
      "outputs": []
    },
    {
      "cell_type": "code",
      "metadata": {
        "id": "O5aaB75JxLvs",
        "outputId": "bcd56c6f-32cb-4267-a337-de7bb1329367",
        "colab": {
          "base_uri": "https://localhost:8080/",
          "height": 607
        }
      },
      "source": [
        "missing_df = df.isnull().sum(axis=0).reset_index()\n",
        "missing_df.columns = ['variable', 'missing values']\n",
        "missing_df['filling factor (%)']=(df.shape[0]-missing_df['missing values'])/df.shape[0]*100\n",
        "missing_df.sort_values('filling factor (%)').reset_index(drop = True)"
      ],
      "execution_count": null,
      "outputs": [
        {
          "output_type": "execute_result",
          "data": {
            "text/html": [
              "<div>\n",
              "<style scoped>\n",
              "    .dataframe tbody tr th:only-of-type {\n",
              "        vertical-align: middle;\n",
              "    }\n",
              "\n",
              "    .dataframe tbody tr th {\n",
              "        vertical-align: top;\n",
              "    }\n",
              "\n",
              "    .dataframe thead th {\n",
              "        text-align: right;\n",
              "    }\n",
              "</style>\n",
              "<table border=\"1\" class=\"dataframe\">\n",
              "  <thead>\n",
              "    <tr style=\"text-align: right;\">\n",
              "      <th></th>\n",
              "      <th>variable</th>\n",
              "      <th>missing values</th>\n",
              "      <th>filling factor (%)</th>\n",
              "    </tr>\n",
              "  </thead>\n",
              "  <tbody>\n",
              "    <tr>\n",
              "      <th>0</th>\n",
              "      <td>event_time</td>\n",
              "      <td>10804</td>\n",
              "      <td>0.000000</td>\n",
              "    </tr>\n",
              "    <tr>\n",
              "      <th>1</th>\n",
              "      <td>admin_division_name</td>\n",
              "      <td>1591</td>\n",
              "      <td>85.273973</td>\n",
              "    </tr>\n",
              "    <tr>\n",
              "      <th>2</th>\n",
              "      <td>admin_division_population</td>\n",
              "      <td>1517</td>\n",
              "      <td>85.958904</td>\n",
              "    </tr>\n",
              "    <tr>\n",
              "      <th>3</th>\n",
              "      <td>country_name</td>\n",
              "      <td>1517</td>\n",
              "      <td>85.958904</td>\n",
              "    </tr>\n",
              "    <tr>\n",
              "      <th>4</th>\n",
              "      <td>event_import_id</td>\n",
              "      <td>1517</td>\n",
              "      <td>85.958904</td>\n",
              "    </tr>\n",
              "    <tr>\n",
              "      <th>5</th>\n",
              "      <td>event_import_source</td>\n",
              "      <td>1517</td>\n",
              "      <td>85.958904</td>\n",
              "    </tr>\n",
              "    <tr>\n",
              "      <th>6</th>\n",
              "      <td>source_link</td>\n",
              "      <td>841</td>\n",
              "      <td>92.215846</td>\n",
              "    </tr>\n",
              "    <tr>\n",
              "      <th>7</th>\n",
              "      <td>location_accuracy</td>\n",
              "      <td>2</td>\n",
              "      <td>99.981488</td>\n",
              "    </tr>\n",
              "    <tr>\n",
              "      <th>8</th>\n",
              "      <td>source_name</td>\n",
              "      <td>0</td>\n",
              "      <td>100.000000</td>\n",
              "    </tr>\n",
              "    <tr>\n",
              "      <th>9</th>\n",
              "      <td>injury_count</td>\n",
              "      <td>0</td>\n",
              "      <td>100.000000</td>\n",
              "    </tr>\n",
              "    <tr>\n",
              "      <th>10</th>\n",
              "      <td>landslide_size</td>\n",
              "      <td>0</td>\n",
              "      <td>100.000000</td>\n",
              "    </tr>\n",
              "    <tr>\n",
              "      <th>11</th>\n",
              "      <td>longitude</td>\n",
              "      <td>0</td>\n",
              "      <td>100.000000</td>\n",
              "    </tr>\n",
              "    <tr>\n",
              "      <th>12</th>\n",
              "      <td>landslide_trigger</td>\n",
              "      <td>0</td>\n",
              "      <td>100.000000</td>\n",
              "    </tr>\n",
              "    <tr>\n",
              "      <th>13</th>\n",
              "      <td>landslide_category</td>\n",
              "      <td>0</td>\n",
              "      <td>100.000000</td>\n",
              "    </tr>\n",
              "    <tr>\n",
              "      <th>14</th>\n",
              "      <td>location_description</td>\n",
              "      <td>0</td>\n",
              "      <td>100.000000</td>\n",
              "    </tr>\n",
              "    <tr>\n",
              "      <th>15</th>\n",
              "      <td>event_date</td>\n",
              "      <td>0</td>\n",
              "      <td>100.000000</td>\n",
              "    </tr>\n",
              "    <tr>\n",
              "      <th>16</th>\n",
              "      <td>fatality_count</td>\n",
              "      <td>0</td>\n",
              "      <td>100.000000</td>\n",
              "    </tr>\n",
              "    <tr>\n",
              "      <th>17</th>\n",
              "      <td>latitude</td>\n",
              "      <td>0</td>\n",
              "      <td>100.000000</td>\n",
              "    </tr>\n",
              "  </tbody>\n",
              "</table>\n",
              "</div>"
            ],
            "text/plain": [
              "                     variable  missing values  filling factor (%)\n",
              "0                  event_time           10804            0.000000\n",
              "1         admin_division_name            1591           85.273973\n",
              "2   admin_division_population            1517           85.958904\n",
              "3                country_name            1517           85.958904\n",
              "4             event_import_id            1517           85.958904\n",
              "5         event_import_source            1517           85.958904\n",
              "6                 source_link             841           92.215846\n",
              "7           location_accuracy               2           99.981488\n",
              "8                 source_name               0          100.000000\n",
              "9                injury_count               0          100.000000\n",
              "10             landslide_size               0          100.000000\n",
              "11                  longitude               0          100.000000\n",
              "12          landslide_trigger               0          100.000000\n",
              "13         landslide_category               0          100.000000\n",
              "14       location_description               0          100.000000\n",
              "15                 event_date               0          100.000000\n",
              "16             fatality_count               0          100.000000\n",
              "17                   latitude               0          100.000000"
            ]
          },
          "metadata": {
            "tags": []
          },
          "execution_count": 25
        }
      ]
    },
    {
      "cell_type": "code",
      "metadata": {
        "id": "EfLfLQiNyHgw"
      },
      "source": [
        "df[\"admin_division_name\"].fillna(\"NoDIVISION\", inplace = True)\n",
        "df['admin_division_population'].fillna((df['admin_division_population'].median()), inplace=True)\n",
        "df[\"event_import_source\"].fillna(\"ABCSource\", inplace = True)\n",
        "df['event_import_id'].fillna((df['event_import_id'].median()), inplace=True)\n",
        "df[\"source_link\"].fillna(\"ABCLink\", inplace = True)\n",
        "df[\"location_accuracy\"].fillna(\"1km\", inplace = True)\n"
      ],
      "execution_count": null,
      "outputs": []
    },
    {
      "cell_type": "code",
      "metadata": {
        "id": "qmYeLtrfwvT0",
        "outputId": "d37a9ec5-cf1f-495b-e93d-05b275d17c06",
        "colab": {
          "base_uri": "https://localhost:8080/",
          "height": 714
        }
      },
      "source": [
        "# Print graph showing imbalanced data:\n",
        "# Changing into approriate integer\n",
        "df[\"landslide_trigger\"].replace({\"unknown\": \"downpour\"}, inplace=True)\n",
        "pd.value_counts(df['landslide_trigger']).plot.bar()\n",
        "plt.title('Landslide Trigger Distribution')\n",
        "plt.xlabel('Class')\n",
        "plt.ylabel('Data Objects')\n",
        "df['landslide_trigger'].value_counts()"
      ],
      "execution_count": null,
      "outputs": [
        {
          "output_type": "execute_result",
          "data": {
            "text/plain": [
              "downpour                   6239\n",
              "rain                       2558\n",
              "continuous_rain             737\n",
              "tropical_cyclone            557\n",
              "snowfall_snowmelt           133\n",
              "monsoon                     126\n",
              "mining                       87\n",
              "earthquake                   84\n",
              "construction                 79\n",
              "flooding                     74\n",
              "no_apparent_trigger          42\n",
              "freeze_thaw                  40\n",
              "other                        25\n",
              "dam_embankment_collapse      12\n",
              "leaking_pipe                 10\n",
              "vibration                     1\n",
              "Name: landslide_trigger, dtype: int64"
            ]
          },
          "metadata": {
            "tags": []
          },
          "execution_count": 27
        },
        {
          "output_type": "display_data",
          "data": {
            "image/png": "[encoded data removed]",
            "text/plain": [
              "<Figure size 432x288 with 1 Axes>"
            ]
          },
          "metadata": {
            "tags": [],
            "needs_background": "light"
          }
        }
      ]
    },
    {
      "cell_type": "code",
      "metadata": {
        "id": "wpRviBbXyQXm",
        "outputId": "7ce08d22-fc70-4a4c-980c-1bfeb1aac007",
        "colab": {
          "base_uri": "https://localhost:8080/",
          "height": 586
        }
      },
      "source": [
        "geometry = [Point(xy) for xy in zip(df['longitude'], df['latitude'])]\n",
        "gdf = GeoDataFrame(df, geometry=geometry)   \n",
        "\n",
        "#this is a simple map that goes with geopandas\n",
        "world = gpd.read_file(gpd.datasets.get_path('naturalearth_lowres'))\n",
        "gdf.plot(ax=world.plot(figsize=(20, 10)), marker='o', color='red', markersize=15);"
      ],
      "execution_count": null,
      "outputs": [
        {
          "output_type": "display_data",
          "data": {
            "image/png": "[encoded data removed]",
            "text/plain": [
              "<Figure size 1440x720 with 1 Axes>"
            ]
          },
          "metadata": {
            "tags": [],
            "needs_background": "light"
          }
        }
      ]
    },
    {
      "cell_type": "code",
      "metadata": {
        "id": "9CGBHmd7xnI3"
      },
      "source": [
        "# Make sure all categorical data is string value only\n",
        "\n",
        "df['landslide_category'] = df['landslide_category'].astype(str) \n",
        "df['country_name'] = df['country_name'].astype(str) #make sure all country name values are strings"
      ],
      "execution_count": null,
      "outputs": []
    },
    {
      "cell_type": "code",
      "metadata": {
        "id": "hSXVIvHnwrI8"
      },
      "source": [
        "# Label Encode our categorical data with dummy variables\n",
        "#df = pd.get_dummies(df, prefix=['country_name','landslide_category','landslide_size'], \n",
        "                    #columns=['country_name','landslide_category','landslide_size'])"
      ],
      "execution_count": null,
      "outputs": []
    },
    {
      "cell_type": "code",
      "metadata": {
        "id": "V-xKON9-EXz6",
        "outputId": "ab405c32-3eea-4d5e-aab9-2d2bd8f069dc",
        "colab": {
          "base_uri": "https://localhost:8080/",
          "height": 34
        }
      },
      "source": [
        "df['country_name'].nunique()\n",
        "#there are 142 countries"
      ],
      "execution_count": null,
      "outputs": [
        {
          "output_type": "execute_result",
          "data": {
            "text/plain": [
              "142"
            ]
          },
          "metadata": {
            "tags": []
          },
          "execution_count": 31
        }
      ]
    },
    {
      "cell_type": "code",
      "metadata": {
        "id": "FNogntxiEetT",
        "outputId": "c2703e2b-077d-423f-f1d6-b23c696f647e",
        "colab": {
          "base_uri": "https://localhost:8080/",
          "height": 221
        }
      },
      "source": [
        "df['country_name'].value_counts()"
      ],
      "execution_count": null,
      "outputs": [
        {
          "output_type": "execute_result",
          "data": {
            "text/plain": [
              "United States            2948\n",
              "nan                      1517\n",
              "India                    1250\n",
              "Philippines               665\n",
              "Nepal                     477\n",
              "                         ... \n",
              "Belize                      1\n",
              "Mauritius                   1\n",
              "Burkina Faso                1\n",
              "Zambia                      1\n",
              "Republic of the Congo       1\n",
              "Name: country_name, Length: 142, dtype: int64"
            ]
          },
          "metadata": {
            "tags": []
          },
          "execution_count": 32
        }
      ]
    },
    {
      "cell_type": "code",
      "metadata": {
        "id": "Hdx7YDdrEnQ6"
      },
      "source": [
        "df['country_name'].replace({'nan':'Country Unkown'}, inplace = True)"
      ],
      "execution_count": null,
      "outputs": []
    },
    {
      "cell_type": "code",
      "metadata": {
        "id": "BnrsvGUOE7uZ"
      },
      "source": [
        "count_countrywise = df['country_name'].value_counts()"
      ],
      "execution_count": null,
      "outputs": []
    },
    {
      "cell_type": "code",
      "metadata": {
        "id": "QmwMk_1VZBOl"
      },
      "source": [
        "count_countrywise = count_countrywise.drop('Country Unkown', axis = 0)"
      ],
      "execution_count": null,
      "outputs": []
    },
    {
      "cell_type": "code",
      "metadata": {
        "id": "EGUafVD0yVNW"
      },
      "source": [
        "\n",
        "country_df = pd.DataFrame(count_countrywise)"
      ],
      "execution_count": null,
      "outputs": []
    },
    {
      "cell_type": "code",
      "metadata": {
        "id": "wxM2dVVIzhIW"
      },
      "source": [
        "country_df = country_df.drop('Country Unkown', axis=0)"
      ],
      "execution_count": null,
      "outputs": []
    },
    {
      "cell_type": "code",
      "metadata": {
        "id": "uy7BAZCNz1fX"
      },
      "source": [
        "country_df.rename(columns = {'country_name': 'Landslide_Count'}, inplace = True)"
      ],
      "execution_count": null,
      "outputs": []
    },
    {
      "cell_type": "code",
      "metadata": {
        "id": "4MBCbhyI3Fit"
      },
      "source": [
        ""
      ],
      "execution_count": null,
      "outputs": []
    },
    {
      "cell_type": "code",
      "metadata": {
        "id": "9SpGLjpq0ZWG"
      },
      "source": [
        "top10_country= country_df.sort_values('Landslide_Count', ascending=False).head(10)"
      ],
      "execution_count": null,
      "outputs": []
    },
    {
      "cell_type": "code",
      "metadata": {
        "id": "K8-YPmq70jeq",
        "outputId": "ab1f5f79-59e3-465c-8ead-89938800e573",
        "colab": {
          "base_uri": "https://localhost:8080/",
          "height": 405
        }
      },
      "source": [
        "plt.figure(figsize=(12,6))\n",
        "plt.ylabel('Country')\n",
        "#plt.xlabel('Number of Landslide Cases')\n",
        "plt.title('Top 10 countries on the basis of Landslide Occurences')\n",
        "sns.barplot(top10_country['Landslide_Count'], top10_country.index);"
      ],
      "execution_count": null,
      "outputs": [
        {
          "output_type": "display_data",
          "data": {
            "image/png": "[encoded data removed]",
            "text/plain": [
              "<Figure size 864x432 with 1 Axes>"
            ]
          },
          "metadata": {
            "tags": [],
            "needs_background": "light"
          }
        }
      ]
    },
    {
      "cell_type": "code",
      "metadata": {
        "id": "59yfn-5bFOmN"
      },
      "source": [
        "#What are the top 10 countries with maximum landslide occurences?"
      ],
      "execution_count": null,
      "outputs": []
    },
    {
      "cell_type": "code",
      "metadata": {
        "id": "G1JVbsljFX3k",
        "outputId": "a81f3c3b-4a48-4c0b-929e-cac72d337667",
        "colab": {
          "base_uri": "https://localhost:8080/",
          "height": 204
        }
      },
      "source": [
        "count_countrywise.head(10)"
      ],
      "execution_count": null,
      "outputs": [
        {
          "output_type": "execute_result",
          "data": {
            "text/plain": [
              "United States     2948\n",
              "India             1250\n",
              "Philippines        665\n",
              "Nepal              477\n",
              "China              419\n",
              "Indonesia          349\n",
              "United Kingdom     221\n",
              "Brazil             214\n",
              "Canada             167\n",
              "Malaysia           166\n",
              "Name: country_name, dtype: int64"
            ]
          },
          "metadata": {
            "tags": []
          },
          "execution_count": 97
        }
      ]
    },
    {
      "cell_type": "code",
      "metadata": {
        "id": "D6a8CBwgGAEy"
      },
      "source": [
        "cols = ['landslide_size','landslide_category','country_name','landslide_trigger','fatality_count','injury_count','event_date']\n",
        "df1 =pd.DataFrame(df, columns = cols)"
      ],
      "execution_count": null,
      "outputs": []
    },
    {
      "cell_type": "code",
      "metadata": {
        "id": "nsBcaTL2EN4Y"
      },
      "source": [
        "df1[\"country_name\"] = df1[\"country_name\"].astype('category')\n",
        "df1[\"country_name\"] = df1[\"country_name\"].cat.codes"
      ],
      "execution_count": null,
      "outputs": []
    },
    {
      "cell_type": "code",
      "metadata": {
        "id": "7TmtNd6YGuWg",
        "outputId": "1934f4d0-1709-4c99-d91e-0c17b971e690",
        "colab": {
          "base_uri": "https://localhost:8080/",
          "height": 204
        }
      },
      "source": [
        "df1.sample(5)"
      ],
      "execution_count": null,
      "outputs": [
        {
          "output_type": "execute_result",
          "data": {
            "text/html": [
              "<div>\n",
              "<style scoped>\n",
              "    .dataframe tbody tr th:only-of-type {\n",
              "        vertical-align: middle;\n",
              "    }\n",
              "\n",
              "    .dataframe tbody tr th {\n",
              "        vertical-align: top;\n",
              "    }\n",
              "\n",
              "    .dataframe thead th {\n",
              "        text-align: right;\n",
              "    }\n",
              "</style>\n",
              "<table border=\"1\" class=\"dataframe\">\n",
              "  <thead>\n",
              "    <tr style=\"text-align: right;\">\n",
              "      <th></th>\n",
              "      <th>landslide_size</th>\n",
              "      <th>landslide_category</th>\n",
              "      <th>country_name</th>\n",
              "      <th>landslide_trigger</th>\n",
              "      <th>fatality_count</th>\n",
              "      <th>injury_count</th>\n",
              "      <th>event_date</th>\n",
              "    </tr>\n",
              "  </thead>\n",
              "  <tbody>\n",
              "    <tr>\n",
              "      <th>4342</th>\n",
              "      <td>medium</td>\n",
              "      <td>mudslide</td>\n",
              "      <td>105</td>\n",
              "      <td>downpour</td>\n",
              "      <td>0.0</td>\n",
              "      <td>0.0</td>\n",
              "      <td>2013-09-24</td>\n",
              "    </tr>\n",
              "    <tr>\n",
              "      <th>5303</th>\n",
              "      <td>medium</td>\n",
              "      <td>rock_fall</td>\n",
              "      <td>99</td>\n",
              "      <td>downpour</td>\n",
              "      <td>0.0</td>\n",
              "      <td>0.0</td>\n",
              "      <td>2010-08-30</td>\n",
              "    </tr>\n",
              "    <tr>\n",
              "      <th>1113</th>\n",
              "      <td>small</td>\n",
              "      <td>landslide</td>\n",
              "      <td>24</td>\n",
              "      <td>rain</td>\n",
              "      <td>0.0</td>\n",
              "      <td>0.0</td>\n",
              "      <td>2014-07-15</td>\n",
              "    </tr>\n",
              "    <tr>\n",
              "      <th>4801</th>\n",
              "      <td>small</td>\n",
              "      <td>riverbank_collapse</td>\n",
              "      <td>17</td>\n",
              "      <td>downpour</td>\n",
              "      <td>0.0</td>\n",
              "      <td>0.0</td>\n",
              "      <td>2013-12-13</td>\n",
              "    </tr>\n",
              "    <tr>\n",
              "      <th>6699</th>\n",
              "      <td>small</td>\n",
              "      <td>rock_fall</td>\n",
              "      <td>135</td>\n",
              "      <td>downpour</td>\n",
              "      <td>0.0</td>\n",
              "      <td>0.0</td>\n",
              "      <td>2016-01-27</td>\n",
              "    </tr>\n",
              "  </tbody>\n",
              "</table>\n",
              "</div>"
            ],
            "text/plain": [
              "     landslide_size  landslide_category  ...  injury_count event_date\n",
              "4342         medium            mudslide  ...           0.0 2013-09-24\n",
              "5303         medium           rock_fall  ...           0.0 2010-08-30\n",
              "1113          small           landslide  ...           0.0 2014-07-15\n",
              "4801          small  riverbank_collapse  ...           0.0 2013-12-13\n",
              "6699          small           rock_fall  ...           0.0 2016-01-27\n",
              "\n",
              "[5 rows x 7 columns]"
            ]
          },
          "metadata": {
            "tags": []
          },
          "execution_count": 44
        }
      ]
    },
    {
      "cell_type": "code",
      "metadata": {
        "id": "fMGIon38G5MZ",
        "outputId": "24d9dc3b-f6e3-41e5-8828-3408966d9a96",
        "colab": {
          "base_uri": "https://localhost:8080/",
          "height": 406
        }
      },
      "source": [
        "plt.figure(figsize=(12,6))\n",
        "plt.title('Landslide Size Vs Countries')\n",
        "sns.swarmplot(df1['landslide_size'], df1['country_name']);"
      ],
      "execution_count": null,
      "outputs": [
        {
          "output_type": "display_data",
          "data": {
            "image/png": "[encoded data removed]",
            "text/plain": [
              "<Figure size 864x432 with 1 Axes>"
            ]
          },
          "metadata": {
            "tags": [],
            "needs_background": "light"
          }
        }
      ]
    },
    {
      "cell_type": "code",
      "metadata": {
        "id": "th0oex6pJWRz",
        "outputId": "f815fc90-0d99-4c47-9875-3602749dd055",
        "colab": {
          "base_uri": "https://localhost:8080/",
          "height": 255
        }
      },
      "source": [
        "df1.info()"
      ],
      "execution_count": null,
      "outputs": [
        {
          "output_type": "stream",
          "text": [
            "<class 'pandas.core.frame.DataFrame'>\n",
            "Int64Index: 10804 entries, 0 to 11032\n",
            "Data columns (total 7 columns):\n",
            " #   Column              Non-Null Count  Dtype         \n",
            "---  ------              --------------  -----         \n",
            " 0   landslide_size      10804 non-null  object        \n",
            " 1   landslide_category  10804 non-null  object        \n",
            " 2   country_name        10804 non-null  int16         \n",
            " 3   landslide_trigger   10804 non-null  object        \n",
            " 4   fatality_count      10804 non-null  float64       \n",
            " 5   injury_count        10804 non-null  float64       \n",
            " 6   event_date          10804 non-null  datetime64[ns]\n",
            "dtypes: datetime64[ns](1), float64(2), int16(1), object(3)\n",
            "memory usage: 931.9+ KB\n"
          ],
          "name": "stdout"
        }
      ]
    },
    {
      "cell_type": "code",
      "metadata": {
        "id": "BEXTPWlf8_IM"
      },
      "source": [
        "#sns.barplot(df1['landslide_category'], df1['landslide_trigger']);"
      ],
      "execution_count": null,
      "outputs": []
    },
    {
      "cell_type": "code",
      "metadata": {
        "id": "STv6kEpryQ76",
        "outputId": "ac0e3752-d107-464b-8d30-99dbf743cc71",
        "colab": {
          "base_uri": "https://localhost:8080/",
          "height": 221
        }
      },
      "source": [
        "df['landslide_trigger']"
      ],
      "execution_count": null,
      "outputs": [
        {
          "output_type": "execute_result",
          "data": {
            "text/plain": [
              "0                    rain\n",
              "1                downpour\n",
              "2                downpour\n",
              "3                 monsoon\n",
              "4        tropical_cyclone\n",
              "               ...       \n",
              "11028                rain\n",
              "11029               other\n",
              "11030            downpour\n",
              "11031            downpour\n",
              "11032        construction\n",
              "Name: landslide_trigger, Length: 10804, dtype: object"
            ]
          },
          "metadata": {
            "tags": []
          },
          "execution_count": 48
        }
      ]
    },
    {
      "cell_type": "code",
      "metadata": {
        "id": "XnrW8m3lywAZ",
        "outputId": "58c3c92f-a439-419f-a163-c23622e5f876",
        "colab": {
          "base_uri": "https://localhost:8080/",
          "height": 394
        }
      },
      "source": [
        "# Label Encode our trigger values into numbers\n",
        "df[\"landslide_trigger\"] = df[\"landslide_trigger\"].astype('category')\n",
        "df[\"landslide_trigger\"] = df[\"landslide_trigger\"].cat.codes\n",
        "df.head(5)\n",
        "\n"
      ],
      "execution_count": null,
      "outputs": [
        {
          "output_type": "execute_result",
          "data": {
            "text/html": [
              "<div>\n",
              "<style scoped>\n",
              "    .dataframe tbody tr th:only-of-type {\n",
              "        vertical-align: middle;\n",
              "    }\n",
              "\n",
              "    .dataframe tbody tr th {\n",
              "        vertical-align: top;\n",
              "    }\n",
              "\n",
              "    .dataframe thead th {\n",
              "        text-align: right;\n",
              "    }\n",
              "</style>\n",
              "<table border=\"1\" class=\"dataframe\">\n",
              "  <thead>\n",
              "    <tr style=\"text-align: right;\">\n",
              "      <th></th>\n",
              "      <th>source_name</th>\n",
              "      <th>source_link</th>\n",
              "      <th>event_date</th>\n",
              "      <th>event_time</th>\n",
              "      <th>location_description</th>\n",
              "      <th>location_accuracy</th>\n",
              "      <th>landslide_category</th>\n",
              "      <th>landslide_trigger</th>\n",
              "      <th>landslide_size</th>\n",
              "      <th>fatality_count</th>\n",
              "      <th>injury_count</th>\n",
              "      <th>event_import_source</th>\n",
              "      <th>event_import_id</th>\n",
              "      <th>country_name</th>\n",
              "      <th>admin_division_name</th>\n",
              "      <th>admin_division_population</th>\n",
              "      <th>longitude</th>\n",
              "      <th>latitude</th>\n",
              "      <th>geometry</th>\n",
              "    </tr>\n",
              "  </thead>\n",
              "  <tbody>\n",
              "    <tr>\n",
              "      <th>0</th>\n",
              "      <td>AGU</td>\n",
              "      <td>https://blogs.agu.org/landslideblog/2008/10/14...</td>\n",
              "      <td>2008-08-01 00:00:00</td>\n",
              "      <td>NaN</td>\n",
              "      <td>Sigou Village, Loufan County, Shanxi Province</td>\n",
              "      <td>unknown</td>\n",
              "      <td>landslide</td>\n",
              "      <td>12</td>\n",
              "      <td>large</td>\n",
              "      <td>11.0</td>\n",
              "      <td>0.0</td>\n",
              "      <td>glc</td>\n",
              "      <td>684.0</td>\n",
              "      <td>China</td>\n",
              "      <td>Shaanxi</td>\n",
              "      <td>0.0</td>\n",
              "      <td>107.4500</td>\n",
              "      <td>32.5625</td>\n",
              "      <td>POINT (107.45000 32.56250)</td>\n",
              "    </tr>\n",
              "    <tr>\n",
              "      <th>1</th>\n",
              "      <td>Oregonian</td>\n",
              "      <td>http://www.oregonlive.com/news/index.ssf/2009/...</td>\n",
              "      <td>2009-01-02 02:00:00</td>\n",
              "      <td>NaN</td>\n",
              "      <td>Lake Oswego, Oregon</td>\n",
              "      <td>5km</td>\n",
              "      <td>mudslide</td>\n",
              "      <td>3</td>\n",
              "      <td>small</td>\n",
              "      <td>0.0</td>\n",
              "      <td>0.0</td>\n",
              "      <td>glc</td>\n",
              "      <td>956.0</td>\n",
              "      <td>United States</td>\n",
              "      <td>Oregon</td>\n",
              "      <td>36619.0</td>\n",
              "      <td>-122.6630</td>\n",
              "      <td>45.4200</td>\n",
              "      <td>POINT (-122.66300 45.42000)</td>\n",
              "    </tr>\n",
              "    <tr>\n",
              "      <th>2</th>\n",
              "      <td>CBS News</td>\n",
              "      <td>https://www.cbsnews.com/news/dozens-missing-af...</td>\n",
              "      <td>2007-01-19 00:00:00</td>\n",
              "      <td>NaN</td>\n",
              "      <td>San Ramon district, 195 miles northeast of the...</td>\n",
              "      <td>10km</td>\n",
              "      <td>landslide</td>\n",
              "      <td>3</td>\n",
              "      <td>large</td>\n",
              "      <td>10.0</td>\n",
              "      <td>0.0</td>\n",
              "      <td>glc</td>\n",
              "      <td>973.0</td>\n",
              "      <td>Peru</td>\n",
              "      <td>Junín</td>\n",
              "      <td>14708.0</td>\n",
              "      <td>-75.3587</td>\n",
              "      <td>-11.1295</td>\n",
              "      <td>POINT (-75.35870 -11.12950)</td>\n",
              "    </tr>\n",
              "    <tr>\n",
              "      <th>3</th>\n",
              "      <td>Reuters</td>\n",
              "      <td>https://in.reuters.com/article/idINIndia-41450...</td>\n",
              "      <td>2009-07-31 00:00:00</td>\n",
              "      <td>NaN</td>\n",
              "      <td>Dailekh district</td>\n",
              "      <td>unknown</td>\n",
              "      <td>landslide</td>\n",
              "      <td>9</td>\n",
              "      <td>medium</td>\n",
              "      <td>1.0</td>\n",
              "      <td>0.0</td>\n",
              "      <td>glc</td>\n",
              "      <td>1067.0</td>\n",
              "      <td>Nepal</td>\n",
              "      <td>Mid Western</td>\n",
              "      <td>20908.0</td>\n",
              "      <td>81.7080</td>\n",
              "      <td>28.8378</td>\n",
              "      <td>POINT (81.70800 28.83780)</td>\n",
              "    </tr>\n",
              "    <tr>\n",
              "      <th>4</th>\n",
              "      <td>The Freeman</td>\n",
              "      <td>http://www.philstar.com/cebu-news/621414/lands...</td>\n",
              "      <td>2010-10-16 12:00:00</td>\n",
              "      <td>NaN</td>\n",
              "      <td>sitio Bakilid in barangay Lahug</td>\n",
              "      <td>5km</td>\n",
              "      <td>landslide</td>\n",
              "      <td>14</td>\n",
              "      <td>medium</td>\n",
              "      <td>0.0</td>\n",
              "      <td>0.0</td>\n",
              "      <td>glc</td>\n",
              "      <td>2603.0</td>\n",
              "      <td>Philippines</td>\n",
              "      <td>Central Visayas</td>\n",
              "      <td>798634.0</td>\n",
              "      <td>123.8978</td>\n",
              "      <td>10.3336</td>\n",
              "      <td>POINT (123.89780 10.33360)</td>\n",
              "    </tr>\n",
              "  </tbody>\n",
              "</table>\n",
              "</div>"
            ],
            "text/plain": [
              "   source_name  ...                     geometry\n",
              "0          AGU  ...   POINT (107.45000 32.56250)\n",
              "1    Oregonian  ...  POINT (-122.66300 45.42000)\n",
              "2     CBS News  ...  POINT (-75.35870 -11.12950)\n",
              "3      Reuters  ...    POINT (81.70800 28.83780)\n",
              "4  The Freeman  ...   POINT (123.89780 10.33360)\n",
              "\n",
              "[5 rows x 19 columns]"
            ]
          },
          "metadata": {
            "tags": []
          },
          "execution_count": 49
        }
      ]
    },
    {
      "cell_type": "markdown",
      "metadata": {
        "id": "BGlJsZt7y9r3"
      },
      "source": [
        "Here we changed landslide trigger value that was string into int : Keep Note **rain= 12 , downpour= 3 , monsoon = 9 , tropical_cyclone = 14 ,....**"
      ]
    },
    {
      "cell_type": "code",
      "metadata": {
        "id": "kztGDSpuyk1U",
        "outputId": "c2fdb231-0132-4876-e2d9-6aae072a5ca6",
        "colab": {
          "base_uri": "https://localhost:8080/",
          "height": 51
        }
      },
      "source": [
        "df['location_accuracy'].unique()"
      ],
      "execution_count": null,
      "outputs": [
        {
          "output_type": "execute_result",
          "data": {
            "text/plain": [
              "array(['unknown', '5km', '10km', '25km', 'exact', '1km', '50km', '250km',\n",
              "       '100km'], dtype=object)"
            ]
          },
          "metadata": {
            "tags": []
          },
          "execution_count": 50
        }
      ]
    },
    {
      "cell_type": "code",
      "metadata": {
        "id": "XvWih1i3y29v"
      },
      "source": [
        "# Changing into approriate integer\n",
        "df[\"location_accuracy\"].replace({\"unknown\": \"0\", \"5km\": \"5\",\"10km\":\"10\",\"25km\":\"25\",\"exact\":\"0\",\"1km\":\"1\",\"50km\":\"50\",\"250km\":\"250\",\"100km\":\"100\"}, inplace=True)"
      ],
      "execution_count": null,
      "outputs": []
    },
    {
      "cell_type": "code",
      "metadata": {
        "id": "-fVpy9ghy3cb",
        "outputId": "4758318d-d025-44aa-b0bd-ff788e2d55ba",
        "colab": {
          "base_uri": "https://localhost:8080/",
          "height": 221
        }
      },
      "source": [
        "df[\"location_accuracy\"]"
      ],
      "execution_count": null,
      "outputs": [
        {
          "output_type": "execute_result",
          "data": {
            "text/plain": [
              "0         0\n",
              "1         5\n",
              "2        10\n",
              "3         0\n",
              "4         5\n",
              "         ..\n",
              "11028     5\n",
              "11029     5\n",
              "11030     1\n",
              "11031     1\n",
              "11032     1\n",
              "Name: location_accuracy, Length: 10804, dtype: object"
            ]
          },
          "metadata": {
            "tags": []
          },
          "execution_count": 52
        }
      ]
    },
    {
      "cell_type": "code",
      "metadata": {
        "id": "OONtYqenzCGb",
        "outputId": "14233527-682a-4548-a74e-9657769feeaa",
        "colab": {
          "base_uri": "https://localhost:8080/",
          "height": 394
        }
      },
      "source": [
        "# Label Encode our divisioname values into numbers\n",
        "df[\"admin_division_name\"] = df[\"admin_division_name\"].astype('category')\n",
        "df[\"admin_division_name\"] = df[\"admin_division_name\"].cat.codes\n",
        "\n",
        "\n",
        "# Label Encode our event_import_sourcer values into numbers\n",
        "df[\"event_import_source\"] = df[\"event_import_source\"].astype('category')\n",
        "df[\"event_import_source\"] = df[\"event_import_source\"].cat.codes\n",
        "\n",
        "\n",
        "# Label Encode our source_link values into numbers\n",
        "df[\"source_link\"] = df[\"source_link\"].astype('category')\n",
        "df[\"source_link\"] = df[\"source_link\"].cat.codes\n",
        "\n",
        "\n",
        "# Label Encode our Location Description values into numbers\n",
        "df[\"location_description\"] = df[\"location_description\"].astype('category')\n",
        "df[\"location_description\"] = df[\"location_description\"].cat.codes\n",
        "df.head(5)\n",
        "\n",
        "# Label Encode our SourceName values into numbers\n",
        "df[\"source_name\"] = df[\"source_name\"].astype('category')\n",
        "df[\"source_name\"] = df[\"source_name\"].cat.codes\n",
        "\n",
        "# Label Encode our Locationaccuracy values into numbers\n",
        "df[\"location_accuracy\"] = df[\"location_accuracy\"].astype('category')\n",
        "df[\"location_accuracy\"] = df[\"location_accuracy\"].cat.codes\n",
        "df.head(5)\n"
      ],
      "execution_count": null,
      "outputs": [
        {
          "output_type": "execute_result",
          "data": {
            "text/html": [
              "<div>\n",
              "<style scoped>\n",
              "    .dataframe tbody tr th:only-of-type {\n",
              "        vertical-align: middle;\n",
              "    }\n",
              "\n",
              "    .dataframe tbody tr th {\n",
              "        vertical-align: top;\n",
              "    }\n",
              "\n",
              "    .dataframe thead th {\n",
              "        text-align: right;\n",
              "    }\n",
              "</style>\n",
              "<table border=\"1\" class=\"dataframe\">\n",
              "  <thead>\n",
              "    <tr style=\"text-align: right;\">\n",
              "      <th></th>\n",
              "      <th>source_name</th>\n",
              "      <th>source_link</th>\n",
              "      <th>event_date</th>\n",
              "      <th>event_time</th>\n",
              "      <th>location_description</th>\n",
              "      <th>location_accuracy</th>\n",
              "      <th>landslide_category</th>\n",
              "      <th>landslide_trigger</th>\n",
              "      <th>landslide_size</th>\n",
              "      <th>fatality_count</th>\n",
              "      <th>injury_count</th>\n",
              "      <th>event_import_source</th>\n",
              "      <th>event_import_id</th>\n",
              "      <th>country_name</th>\n",
              "      <th>admin_division_name</th>\n",
              "      <th>admin_division_population</th>\n",
              "      <th>longitude</th>\n",
              "      <th>latitude</th>\n",
              "      <th>geometry</th>\n",
              "    </tr>\n",
              "  </thead>\n",
              "  <tbody>\n",
              "    <tr>\n",
              "      <th>0</th>\n",
              "      <td>85</td>\n",
              "      <td>7753</td>\n",
              "      <td>2008-08-01 00:00:00</td>\n",
              "      <td>NaN</td>\n",
              "      <td>7788</td>\n",
              "      <td>0</td>\n",
              "      <td>landslide</td>\n",
              "      <td>12</td>\n",
              "      <td>large</td>\n",
              "      <td>11.0</td>\n",
              "      <td>0.0</td>\n",
              "      <td>2</td>\n",
              "      <td>684.0</td>\n",
              "      <td>China</td>\n",
              "      <td>685</td>\n",
              "      <td>0.0</td>\n",
              "      <td>107.4500</td>\n",
              "      <td>32.5625</td>\n",
              "      <td>POINT (107.45000 32.56250)</td>\n",
              "    </tr>\n",
              "    <tr>\n",
              "      <th>1</th>\n",
              "      <td>1391</td>\n",
              "      <td>5580</td>\n",
              "      <td>2009-01-02 02:00:00</td>\n",
              "      <td>NaN</td>\n",
              "      <td>4586</td>\n",
              "      <td>6</td>\n",
              "      <td>mudslide</td>\n",
              "      <td>3</td>\n",
              "      <td>small</td>\n",
              "      <td>0.0</td>\n",
              "      <td>0.0</td>\n",
              "      <td>2</td>\n",
              "      <td>956.0</td>\n",
              "      <td>United States</td>\n",
              "      <td>552</td>\n",
              "      <td>36619.0</td>\n",
              "      <td>-122.6630</td>\n",
              "      <td>45.4200</td>\n",
              "      <td>POINT (-122.66300 45.42000)</td>\n",
              "    </tr>\n",
              "    <tr>\n",
              "      <th>2</th>\n",
              "      <td>279</td>\n",
              "      <td>7952</td>\n",
              "      <td>2007-01-19 00:00:00</td>\n",
              "      <td>NaN</td>\n",
              "      <td>7492</td>\n",
              "      <td>2</td>\n",
              "      <td>landslide</td>\n",
              "      <td>3</td>\n",
              "      <td>large</td>\n",
              "      <td>10.0</td>\n",
              "      <td>0.0</td>\n",
              "      <td>2</td>\n",
              "      <td>973.0</td>\n",
              "      <td>Peru</td>\n",
              "      <td>326</td>\n",
              "      <td>14708.0</td>\n",
              "      <td>-75.3587</td>\n",
              "      <td>-11.1295</td>\n",
              "      <td>POINT (-75.35870 -11.12950)</td>\n",
              "    </tr>\n",
              "    <tr>\n",
              "      <th>3</th>\n",
              "      <td>1529</td>\n",
              "      <td>7783</td>\n",
              "      <td>2009-07-31 00:00:00</td>\n",
              "      <td>NaN</td>\n",
              "      <td>2204</td>\n",
              "      <td>0</td>\n",
              "      <td>landslide</td>\n",
              "      <td>9</td>\n",
              "      <td>medium</td>\n",
              "      <td>1.0</td>\n",
              "      <td>0.0</td>\n",
              "      <td>2</td>\n",
              "      <td>1067.0</td>\n",
              "      <td>Nepal</td>\n",
              "      <td>453</td>\n",
              "      <td>20908.0</td>\n",
              "      <td>81.7080</td>\n",
              "      <td>28.8378</td>\n",
              "      <td>POINT (81.70800 28.83780)</td>\n",
              "    </tr>\n",
              "    <tr>\n",
              "      <th>4</th>\n",
              "      <td>1782</td>\n",
              "      <td>5684</td>\n",
              "      <td>2010-10-16 12:00:00</td>\n",
              "      <td>NaN</td>\n",
              "      <td>10130</td>\n",
              "      <td>6</td>\n",
              "      <td>landslide</td>\n",
              "      <td>14</td>\n",
              "      <td>medium</td>\n",
              "      <td>0.0</td>\n",
              "      <td>0.0</td>\n",
              "      <td>2</td>\n",
              "      <td>2603.0</td>\n",
              "      <td>Philippines</td>\n",
              "      <td>128</td>\n",
              "      <td>798634.0</td>\n",
              "      <td>123.8978</td>\n",
              "      <td>10.3336</td>\n",
              "      <td>POINT (123.89780 10.33360)</td>\n",
              "    </tr>\n",
              "  </tbody>\n",
              "</table>\n",
              "</div>"
            ],
            "text/plain": [
              "   source_name  source_link  ... latitude                     geometry\n",
              "0           85         7753  ...  32.5625   POINT (107.45000 32.56250)\n",
              "1         1391         5580  ...  45.4200  POINT (-122.66300 45.42000)\n",
              "2          279         7952  ... -11.1295  POINT (-75.35870 -11.12950)\n",
              "3         1529         7783  ...  28.8378    POINT (81.70800 28.83780)\n",
              "4         1782         5684  ...  10.3336   POINT (123.89780 10.33360)\n",
              "\n",
              "[5 rows x 19 columns]"
            ]
          },
          "metadata": {
            "tags": []
          },
          "execution_count": 53
        }
      ]
    },
    {
      "cell_type": "code",
      "metadata": {
        "id": "7nd9R-qi0ytg",
        "outputId": "990e6ee1-77ac-4101-9f04-b4c55ba52d65",
        "colab": {
          "base_uri": "https://localhost:8080/",
          "height": 221
        }
      },
      "source": [
        "df['location_description'].value_counts()"
      ],
      "execution_count": null,
      "outputs": [
        {
          "output_type": "execute_result",
          "data": {
            "text/plain": [
              "2525    14\n",
              "3247    11\n",
              "6267     9\n",
              "8876     8\n",
              "6156     7\n",
              "        ..\n",
              "8769     1\n",
              "4671     1\n",
              "6718     1\n",
              "573      1\n",
              "0        1\n",
              "Name: location_description, Length: 10316, dtype: int64"
            ]
          },
          "metadata": {
            "tags": []
          },
          "execution_count": 54
        }
      ]
    },
    {
      "cell_type": "code",
      "metadata": {
        "id": "Jhu6KlsWzIgv",
        "outputId": "52244fd8-292a-42ff-8904-e0a4a740f523",
        "colab": {
          "base_uri": "https://localhost:8080/",
          "height": 459
        }
      },
      "source": [
        "df.info()"
      ],
      "execution_count": null,
      "outputs": [
        {
          "output_type": "stream",
          "text": [
            "<class 'pandas.core.frame.DataFrame'>\n",
            "Int64Index: 10804 entries, 0 to 11032\n",
            "Data columns (total 19 columns):\n",
            " #   Column                     Non-Null Count  Dtype         \n",
            "---  ------                     --------------  -----         \n",
            " 0   source_name                10804 non-null  int16         \n",
            " 1   source_link                10804 non-null  int16         \n",
            " 2   event_date                 10804 non-null  datetime64[ns]\n",
            " 3   event_time                 0 non-null      float64       \n",
            " 4   location_description       10804 non-null  int16         \n",
            " 5   location_accuracy          10804 non-null  int8          \n",
            " 6   landslide_category         10804 non-null  object        \n",
            " 7   landslide_trigger          10804 non-null  int8          \n",
            " 8   landslide_size             10804 non-null  object        \n",
            " 9   fatality_count             10804 non-null  float64       \n",
            " 10  injury_count               10804 non-null  float64       \n",
            " 11  event_import_source        10804 non-null  int8          \n",
            " 12  event_import_id            10804 non-null  float64       \n",
            " 13  country_name               10804 non-null  object        \n",
            " 14  admin_division_name        10804 non-null  int16         \n",
            " 15  admin_division_population  10804 non-null  float64       \n",
            " 16  longitude                  10804 non-null  float64       \n",
            " 17  latitude                   10804 non-null  float64       \n",
            " 18  geometry                   10804 non-null  geometry      \n",
            "dtypes: datetime64[ns](1), float64(7), geometry(1), int16(4), int8(3), object(3)\n",
            "memory usage: 1.5+ MB\n"
          ],
          "name": "stdout"
        }
      ]
    },
    {
      "cell_type": "code",
      "metadata": {
        "id": "g6cJhDoPzW4J",
        "outputId": "3e56576d-c0e0-4f1a-f2f4-fa29ebcbc182",
        "colab": {
          "base_uri": "https://localhost:8080/",
          "height": 34
        }
      },
      "source": [
        "df['landslide_trigger'].dtype"
      ],
      "execution_count": null,
      "outputs": [
        {
          "output_type": "execute_result",
          "data": {
            "text/plain": [
              "dtype('int8')"
            ]
          },
          "metadata": {
            "tags": []
          },
          "execution_count": 56
        }
      ]
    },
    {
      "cell_type": "code",
      "metadata": {
        "id": "m_kGv2kezZ6F",
        "outputId": "b797b8f6-53b7-4f04-ce56-5e10736e7e96",
        "colab": {
          "base_uri": "https://localhost:8080/",
          "height": 34
        }
      },
      "source": [
        "df['source_name'].dtypes"
      ],
      "execution_count": null,
      "outputs": [
        {
          "output_type": "execute_result",
          "data": {
            "text/plain": [
              "dtype('int16')"
            ]
          },
          "metadata": {
            "tags": []
          },
          "execution_count": 57
        }
      ]
    },
    {
      "cell_type": "code",
      "metadata": {
        "id": "luTZ-g62zfVe",
        "outputId": "05bc2959-bf4f-4af0-91bf-f724beeafd48",
        "colab": {
          "base_uri": "https://localhost:8080/",
          "height": 357
        }
      },
      "source": [
        "df.dtypes"
      ],
      "execution_count": null,
      "outputs": [
        {
          "output_type": "execute_result",
          "data": {
            "text/plain": [
              "source_name                           int16\n",
              "source_link                           int16\n",
              "event_date                   datetime64[ns]\n",
              "event_time                          float64\n",
              "location_description                  int16\n",
              "location_accuracy                      int8\n",
              "landslide_category                   object\n",
              "landslide_trigger                      int8\n",
              "landslide_size                       object\n",
              "fatality_count                      float64\n",
              "injury_count                        float64\n",
              "event_import_source                    int8\n",
              "event_import_id                     float64\n",
              "country_name                         object\n",
              "admin_division_name                   int16\n",
              "admin_division_population           float64\n",
              "longitude                           float64\n",
              "latitude                            float64\n",
              "geometry                           geometry\n",
              "dtype: object"
            ]
          },
          "metadata": {
            "tags": []
          },
          "execution_count": 58
        }
      ]
    },
    {
      "cell_type": "code",
      "metadata": {
        "id": "NAMv1Dzh5ckr"
      },
      "source": [
        "##df['geometry'] #drop this #graphs plot garna milcha\n",
        "#event date "
      ],
      "execution_count": null,
      "outputs": []
    },
    {
      "cell_type": "code",
      "metadata": {
        "id": "502itXkk7zOD"
      },
      "source": [
        "#Geometry info\n",
        "#sns.scatterplot(x = 'geometry', y = lan"
      ],
      "execution_count": null,
      "outputs": []
    },
    {
      "cell_type": "code",
      "metadata": {
        "id": "GgWc8zKg0AaZ",
        "outputId": "507e3d70-a7ca-4cf5-fd49-8432b62a1010",
        "colab": {
          "base_uri": "https://localhost:8080/",
          "height": 264
        }
      },
      "source": [
        "df.sample(3)"
      ],
      "execution_count": null,
      "outputs": [
        {
          "output_type": "execute_result",
          "data": {
            "text/html": [
              "<div>\n",
              "<style scoped>\n",
              "    .dataframe tbody tr th:only-of-type {\n",
              "        vertical-align: middle;\n",
              "    }\n",
              "\n",
              "    .dataframe tbody tr th {\n",
              "        vertical-align: top;\n",
              "    }\n",
              "\n",
              "    .dataframe thead th {\n",
              "        text-align: right;\n",
              "    }\n",
              "</style>\n",
              "<table border=\"1\" class=\"dataframe\">\n",
              "  <thead>\n",
              "    <tr style=\"text-align: right;\">\n",
              "      <th></th>\n",
              "      <th>source_name</th>\n",
              "      <th>source_link</th>\n",
              "      <th>event_date</th>\n",
              "      <th>event_time</th>\n",
              "      <th>location_description</th>\n",
              "      <th>location_accuracy</th>\n",
              "      <th>landslide_category</th>\n",
              "      <th>landslide_trigger</th>\n",
              "      <th>landslide_size</th>\n",
              "      <th>fatality_count</th>\n",
              "      <th>injury_count</th>\n",
              "      <th>event_import_source</th>\n",
              "      <th>event_import_id</th>\n",
              "      <th>country_name</th>\n",
              "      <th>admin_division_name</th>\n",
              "      <th>admin_division_population</th>\n",
              "      <th>longitude</th>\n",
              "      <th>latitude</th>\n",
              "      <th>geometry</th>\n",
              "    </tr>\n",
              "  </thead>\n",
              "  <tbody>\n",
              "    <tr>\n",
              "      <th>7338</th>\n",
              "      <td>2229</td>\n",
              "      <td>38</td>\n",
              "      <td>2010-12-22</td>\n",
              "      <td>NaN</td>\n",
              "      <td>2009</td>\n",
              "      <td>2</td>\n",
              "      <td>complex</td>\n",
              "      <td>3</td>\n",
              "      <td>small</td>\n",
              "      <td>0.0</td>\n",
              "      <td>0.0</td>\n",
              "      <td>2</td>\n",
              "      <td>2881.0</td>\n",
              "      <td>United States</td>\n",
              "      <td>109</td>\n",
              "      <td>53104.0</td>\n",
              "      <td>-117.1906</td>\n",
              "      <td>34.1358</td>\n",
              "      <td>POINT (-117.19060 34.13580)</td>\n",
              "    </tr>\n",
              "    <tr>\n",
              "      <th>3388</th>\n",
              "      <td>639</td>\n",
              "      <td>3691</td>\n",
              "      <td>2015-06-20</td>\n",
              "      <td>NaN</td>\n",
              "      <td>801</td>\n",
              "      <td>0</td>\n",
              "      <td>landslide</td>\n",
              "      <td>1</td>\n",
              "      <td>small</td>\n",
              "      <td>0.0</td>\n",
              "      <td>0.0</td>\n",
              "      <td>2</td>\n",
              "      <td>6944.0</td>\n",
              "      <td>Bulgaria</td>\n",
              "      <td>583</td>\n",
              "      <td>340494.0</td>\n",
              "      <td>24.7502</td>\n",
              "      <td>42.1436</td>\n",
              "      <td>POINT (24.75020 42.14360)</td>\n",
              "    </tr>\n",
              "    <tr>\n",
              "      <th>7073</th>\n",
              "      <td>1506</td>\n",
              "      <td>5852</td>\n",
              "      <td>2007-10-17</td>\n",
              "      <td>NaN</td>\n",
              "      <td>9789</td>\n",
              "      <td>4</td>\n",
              "      <td>mudslide</td>\n",
              "      <td>12</td>\n",
              "      <td>medium</td>\n",
              "      <td>0.0</td>\n",
              "      <td>0.0</td>\n",
              "      <td>2</td>\n",
              "      <td>314.0</td>\n",
              "      <td>Jamaica</td>\n",
              "      <td>652</td>\n",
              "      <td>2382.0</td>\n",
              "      <td>-76.3500</td>\n",
              "      <td>17.9500</td>\n",
              "      <td>POINT (-76.35000 17.95000)</td>\n",
              "    </tr>\n",
              "  </tbody>\n",
              "</table>\n",
              "</div>"
            ],
            "text/plain": [
              "      source_name  source_link  ... latitude                     geometry\n",
              "7338         2229           38  ...  34.1358  POINT (-117.19060 34.13580)\n",
              "3388          639         3691  ...  42.1436    POINT (24.75020 42.14360)\n",
              "7073         1506         5852  ...  17.9500   POINT (-76.35000 17.95000)\n",
              "\n",
              "[3 rows x 19 columns]"
            ]
          },
          "metadata": {
            "tags": []
          },
          "execution_count": 61
        }
      ]
    },
    {
      "cell_type": "code",
      "metadata": {
        "id": "UFs3436x2wxI",
        "outputId": "41e816c0-5e8b-4a46-a603-c26f7ad92cdc",
        "colab": {
          "base_uri": "https://localhost:8080/",
          "height": 136
        }
      },
      "source": [
        "df.columns"
      ],
      "execution_count": null,
      "outputs": [
        {
          "output_type": "execute_result",
          "data": {
            "text/plain": [
              "Index(['source_name', 'source_link', 'event_date', 'event_time',\n",
              "       'location_description', 'location_accuracy', 'landslide_category',\n",
              "       'landslide_trigger', 'landslide_size', 'fatality_count', 'injury_count',\n",
              "       'event_import_source', 'event_import_id', 'country_name',\n",
              "       'admin_division_name', 'admin_division_population', 'longitude',\n",
              "       'latitude', 'geometry'],\n",
              "      dtype='object')"
            ]
          },
          "metadata": {
            "tags": []
          },
          "execution_count": 62
        }
      ]
    },
    {
      "cell_type": "code",
      "metadata": {
        "id": "YhpjIjjZ6hJo",
        "outputId": "3b2a705f-d8f3-4bb8-e8bb-c620bde7431d",
        "colab": {
          "base_uri": "https://localhost:8080/",
          "height": 459
        }
      },
      "source": [
        "df.info()"
      ],
      "execution_count": null,
      "outputs": [
        {
          "output_type": "stream",
          "text": [
            "<class 'pandas.core.frame.DataFrame'>\n",
            "Int64Index: 10804 entries, 0 to 11032\n",
            "Data columns (total 19 columns):\n",
            " #   Column                     Non-Null Count  Dtype         \n",
            "---  ------                     --------------  -----         \n",
            " 0   source_name                10804 non-null  int16         \n",
            " 1   source_link                10804 non-null  int16         \n",
            " 2   event_date                 10804 non-null  datetime64[ns]\n",
            " 3   event_time                 0 non-null      float64       \n",
            " 4   location_description       10804 non-null  int16         \n",
            " 5   location_accuracy          10804 non-null  int8          \n",
            " 6   landslide_category         10804 non-null  object        \n",
            " 7   landslide_trigger          10804 non-null  int8          \n",
            " 8   landslide_size             10804 non-null  object        \n",
            " 9   fatality_count             10804 non-null  float64       \n",
            " 10  injury_count               10804 non-null  float64       \n",
            " 11  event_import_source        10804 non-null  int8          \n",
            " 12  event_import_id            10804 non-null  float64       \n",
            " 13  country_name               10804 non-null  object        \n",
            " 14  admin_division_name        10804 non-null  int16         \n",
            " 15  admin_division_population  10804 non-null  float64       \n",
            " 16  longitude                  10804 non-null  float64       \n",
            " 17  latitude                   10804 non-null  float64       \n",
            " 18  geometry                   10804 non-null  geometry      \n",
            "dtypes: datetime64[ns](1), float64(7), geometry(1), int16(4), int8(3), object(3)\n",
            "memory usage: 1.5+ MB\n"
          ],
          "name": "stdout"
        }
      ]
    },
    {
      "cell_type": "code",
      "metadata": {
        "id": "40NADNdq9rOB",
        "outputId": "5539a6ed-41e9-4d39-daca-e1f33833c59c",
        "colab": {
          "base_uri": "https://localhost:8080/",
          "height": 199
        }
      },
      "source": [
        "df.head(2)"
      ],
      "execution_count": null,
      "outputs": [
        {
          "output_type": "execute_result",
          "data": {
            "text/html": [
              "<div>\n",
              "<style scoped>\n",
              "    .dataframe tbody tr th:only-of-type {\n",
              "        vertical-align: middle;\n",
              "    }\n",
              "\n",
              "    .dataframe tbody tr th {\n",
              "        vertical-align: top;\n",
              "    }\n",
              "\n",
              "    .dataframe thead th {\n",
              "        text-align: right;\n",
              "    }\n",
              "</style>\n",
              "<table border=\"1\" class=\"dataframe\">\n",
              "  <thead>\n",
              "    <tr style=\"text-align: right;\">\n",
              "      <th></th>\n",
              "      <th>source_name</th>\n",
              "      <th>source_link</th>\n",
              "      <th>event_date</th>\n",
              "      <th>event_time</th>\n",
              "      <th>location_description</th>\n",
              "      <th>location_accuracy</th>\n",
              "      <th>landslide_category</th>\n",
              "      <th>landslide_trigger</th>\n",
              "      <th>landslide_size</th>\n",
              "      <th>fatality_count</th>\n",
              "      <th>injury_count</th>\n",
              "      <th>event_import_source</th>\n",
              "      <th>event_import_id</th>\n",
              "      <th>country_name</th>\n",
              "      <th>admin_division_name</th>\n",
              "      <th>admin_division_population</th>\n",
              "      <th>longitude</th>\n",
              "      <th>latitude</th>\n",
              "      <th>geometry</th>\n",
              "    </tr>\n",
              "  </thead>\n",
              "  <tbody>\n",
              "    <tr>\n",
              "      <th>0</th>\n",
              "      <td>85</td>\n",
              "      <td>7753</td>\n",
              "      <td>2008-08-01 00:00:00</td>\n",
              "      <td>NaN</td>\n",
              "      <td>7788</td>\n",
              "      <td>0</td>\n",
              "      <td>landslide</td>\n",
              "      <td>12</td>\n",
              "      <td>large</td>\n",
              "      <td>11.0</td>\n",
              "      <td>0.0</td>\n",
              "      <td>2</td>\n",
              "      <td>684.0</td>\n",
              "      <td>China</td>\n",
              "      <td>685</td>\n",
              "      <td>0.0</td>\n",
              "      <td>107.450</td>\n",
              "      <td>32.5625</td>\n",
              "      <td>POINT (107.45000 32.56250)</td>\n",
              "    </tr>\n",
              "    <tr>\n",
              "      <th>1</th>\n",
              "      <td>1391</td>\n",
              "      <td>5580</td>\n",
              "      <td>2009-01-02 02:00:00</td>\n",
              "      <td>NaN</td>\n",
              "      <td>4586</td>\n",
              "      <td>6</td>\n",
              "      <td>mudslide</td>\n",
              "      <td>3</td>\n",
              "      <td>small</td>\n",
              "      <td>0.0</td>\n",
              "      <td>0.0</td>\n",
              "      <td>2</td>\n",
              "      <td>956.0</td>\n",
              "      <td>United States</td>\n",
              "      <td>552</td>\n",
              "      <td>36619.0</td>\n",
              "      <td>-122.663</td>\n",
              "      <td>45.4200</td>\n",
              "      <td>POINT (-122.66300 45.42000)</td>\n",
              "    </tr>\n",
              "  </tbody>\n",
              "</table>\n",
              "</div>"
            ],
            "text/plain": [
              "   source_name  source_link  ... latitude                     geometry\n",
              "0           85         7753  ...  32.5625   POINT (107.45000 32.56250)\n",
              "1         1391         5580  ...  45.4200  POINT (-122.66300 45.42000)\n",
              "\n",
              "[2 rows x 19 columns]"
            ]
          },
          "metadata": {
            "tags": []
          },
          "execution_count": 64
        }
      ]
    },
    {
      "cell_type": "code",
      "metadata": {
        "id": "T_qwucEB9tZP"
      },
      "source": [
        "df['event_year'] = df['event_date'].dt.year\n",
        "df['event_month'] = df['event_date'].dt.month\n",
        "df['event_week'] = df['event_date'].dt.week\n",
        "df['event_day'] = df['event_date'].dt.day\n",
        "#df['event_date_hour'] = df['event_date'].dt.hour\n",
        "#df['event_date_minute'] = df['event_date'].dt.minute\n",
        "#df['event_Date'] = df['event_date'].dt.date'''"
      ],
      "execution_count": null,
      "outputs": []
    },
    {
      "cell_type": "code",
      "metadata": {
        "id": "-Z7NdqXoCUWk"
      },
      "source": [
        "import datetime as dt\n"
      ],
      "execution_count": null,
      "outputs": []
    },
    {
      "cell_type": "code",
      "metadata": {
        "id": "LsHb9A2HCkW5",
        "outputId": "027a94c7-fc7f-4354-e30f-2527c02434a4",
        "colab": {
          "base_uri": "https://localhost:8080/",
          "height": 221
        }
      },
      "source": [
        "df['event_year']"
      ],
      "execution_count": null,
      "outputs": [
        {
          "output_type": "execute_result",
          "data": {
            "text/plain": [
              "0        2008\n",
              "1        2009\n",
              "2        2007\n",
              "3        2009\n",
              "4        2010\n",
              "         ... \n",
              "11028    2017\n",
              "11029    2017\n",
              "11030    2016\n",
              "11031    2017\n",
              "11032    2017\n",
              "Name: event_year, Length: 10804, dtype: int64"
            ]
          },
          "metadata": {
            "tags": []
          },
          "execution_count": 67
        }
      ]
    },
    {
      "cell_type": "code",
      "metadata": {
        "id": "O_QJrLFY-qJJ"
      },
      "source": [
        "df_by_year = df.sort_values('event_year');"
      ],
      "execution_count": null,
      "outputs": []
    },
    {
      "cell_type": "code",
      "metadata": {
        "id": "J9KxtcKE-4_L"
      },
      "source": [
        "df_by_year = df_by_year.set_index('event_year')"
      ],
      "execution_count": null,
      "outputs": []
    },
    {
      "cell_type": "code",
      "metadata": {
        "id": "BvsHeySjBv99",
        "outputId": "332e4640-af39-42cf-d22b-bd563a027150",
        "colab": {
          "base_uri": "https://localhost:8080/",
          "height": 513
        }
      },
      "source": [
        "plt.figure(figsize=(12,8))\n",
        "plt.title('Fatalities,Injuries vs Year')\n",
        "plt.xlabel('Year')\n",
        "plt.ylabel('Fatality/Injury Count')\n",
        "plt.plot( df_by_year.index, df_by_year['fatality_count'], 's-b')\n",
        "plt.plot( df_by_year.index, df_by_year['injury_count'], 'o-r');\n"
      ],
      "execution_count": null,
      "outputs": [
        {
          "output_type": "display_data",
          "data": {
            "image/png": "[encoded data removed]",
            "text/plain": [
              "<Figure size 864x576 with 1 Axes>"
            ]
          },
          "metadata": {
            "tags": [],
            "needs_background": "light"
          }
        }
      ]
    },
    {
      "cell_type": "code",
      "metadata": {
        "id": "a-zS7Rj7__eh",
        "outputId": "3b81dc1d-2958-4512-c55f-2a3b3202d1ec",
        "colab": {
          "base_uri": "https://localhost:8080/",
          "height": 199
        }
      },
      "source": [
        "df.sample(2)"
      ],
      "execution_count": null,
      "outputs": [
        {
          "output_type": "execute_result",
          "data": {
            "text/html": [
              "<div>\n",
              "<style scoped>\n",
              "    .dataframe tbody tr th:only-of-type {\n",
              "        vertical-align: middle;\n",
              "    }\n",
              "\n",
              "    .dataframe tbody tr th {\n",
              "        vertical-align: top;\n",
              "    }\n",
              "\n",
              "    .dataframe thead th {\n",
              "        text-align: right;\n",
              "    }\n",
              "</style>\n",
              "<table border=\"1\" class=\"dataframe\">\n",
              "  <thead>\n",
              "    <tr style=\"text-align: right;\">\n",
              "      <th></th>\n",
              "      <th>source_name</th>\n",
              "      <th>source_link</th>\n",
              "      <th>event_date</th>\n",
              "      <th>event_time</th>\n",
              "      <th>location_description</th>\n",
              "      <th>location_accuracy</th>\n",
              "      <th>landslide_category</th>\n",
              "      <th>landslide_trigger</th>\n",
              "      <th>landslide_size</th>\n",
              "      <th>fatality_count</th>\n",
              "      <th>injury_count</th>\n",
              "      <th>event_import_source</th>\n",
              "      <th>event_import_id</th>\n",
              "      <th>country_name</th>\n",
              "      <th>admin_division_name</th>\n",
              "      <th>admin_division_population</th>\n",
              "      <th>longitude</th>\n",
              "      <th>latitude</th>\n",
              "      <th>geometry</th>\n",
              "      <th>event_year</th>\n",
              "      <th>event_month</th>\n",
              "      <th>event_week</th>\n",
              "      <th>event_day</th>\n",
              "    </tr>\n",
              "  </thead>\n",
              "  <tbody>\n",
              "    <tr>\n",
              "      <th>6931</th>\n",
              "      <td>3534</td>\n",
              "      <td>2476</td>\n",
              "      <td>2013-07-21</td>\n",
              "      <td>NaN</td>\n",
              "      <td>1560</td>\n",
              "      <td>6</td>\n",
              "      <td>landslide</td>\n",
              "      <td>12</td>\n",
              "      <td>medium</td>\n",
              "      <td>0.0</td>\n",
              "      <td>0.0</td>\n",
              "      <td>2</td>\n",
              "      <td>5152.0</td>\n",
              "      <td>Philippines</td>\n",
              "      <td>512</td>\n",
              "      <td>3232.0</td>\n",
              "      <td>123.8654</td>\n",
              "      <td>10.2976</td>\n",
              "      <td>POINT (123.86540 10.29760)</td>\n",
              "      <td>2013</td>\n",
              "      <td>7</td>\n",
              "      <td>29</td>\n",
              "      <td>21</td>\n",
              "    </tr>\n",
              "    <tr>\n",
              "      <th>4037</th>\n",
              "      <td>869</td>\n",
              "      <td>6869</td>\n",
              "      <td>2014-12-04</td>\n",
              "      <td>NaN</td>\n",
              "      <td>6462</td>\n",
              "      <td>4</td>\n",
              "      <td>landslide</td>\n",
              "      <td>12</td>\n",
              "      <td>medium</td>\n",
              "      <td>0.0</td>\n",
              "      <td>0.0</td>\n",
              "      <td>2</td>\n",
              "      <td>6439.0</td>\n",
              "      <td>Indonesia</td>\n",
              "      <td>123</td>\n",
              "      <td>92990.0</td>\n",
              "      <td>109.7856</td>\n",
              "      <td>-7.3196</td>\n",
              "      <td>POINT (109.78560 -7.31960)</td>\n",
              "      <td>2014</td>\n",
              "      <td>12</td>\n",
              "      <td>49</td>\n",
              "      <td>4</td>\n",
              "    </tr>\n",
              "  </tbody>\n",
              "</table>\n",
              "</div>"
            ],
            "text/plain": [
              "      source_name  source_link event_date  ...  event_month  event_week  event_day\n",
              "6931         3534         2476 2013-07-21  ...            7          29         21\n",
              "4037          869         6869 2014-12-04  ...           12          49          4\n",
              "\n",
              "[2 rows x 23 columns]"
            ]
          },
          "metadata": {
            "tags": []
          },
          "execution_count": 71
        }
      ]
    },
    {
      "cell_type": "code",
      "metadata": {
        "id": "i7zlvbBRohDc"
      },
      "source": [
        ""
      ],
      "execution_count": null,
      "outputs": []
    },
    {
      "cell_type": "code",
      "metadata": {
        "id": "T_TGMOysoc5e",
        "outputId": "ef8f1d6a-fdbf-4a52-b092-b416be8c3d80",
        "colab": {
          "base_uri": "https://localhost:8080/",
          "height": 68
        }
      },
      "source": [
        "df['landslide_category'].unique()"
      ],
      "execution_count": null,
      "outputs": [
        {
          "output_type": "execute_result",
          "data": {
            "text/plain": [
              "array(['landslide', 'mudslide', 'complex', 'rock_fall', 'debris_flow',\n",
              "       'riverbank_collapse', 'lahar', 'snow_avalanche', 'creep',\n",
              "       'earth_flow', 'translational_slide', 'topple'], dtype=object)"
            ]
          },
          "metadata": {
            "tags": []
          },
          "execution_count": 197
        }
      ]
    },
    {
      "cell_type": "code",
      "metadata": {
        "id": "qKKmjc8kmHjU"
      },
      "source": [
        "col22 = ['admin_division_population', 'country_name','fatality_count']\n",
        "df33 = pd.DataFrame(df, columns = col22)"
      ],
      "execution_count": null,
      "outputs": []
    },
    {
      "cell_type": "code",
      "metadata": {
        "id": "rT6nO5vFmZ-I",
        "outputId": "226c575c-01ac-4ab2-ab40-888dca59b4d6",
        "colab": {
          "base_uri": "https://localhost:8080/",
          "height": 142
        }
      },
      "source": [
        "df33.head(3)"
      ],
      "execution_count": null,
      "outputs": [
        {
          "output_type": "execute_result",
          "data": {
            "text/html": [
              "<div>\n",
              "<style scoped>\n",
              "    .dataframe tbody tr th:only-of-type {\n",
              "        vertical-align: middle;\n",
              "    }\n",
              "\n",
              "    .dataframe tbody tr th {\n",
              "        vertical-align: top;\n",
              "    }\n",
              "\n",
              "    .dataframe thead th {\n",
              "        text-align: right;\n",
              "    }\n",
              "</style>\n",
              "<table border=\"1\" class=\"dataframe\">\n",
              "  <thead>\n",
              "    <tr style=\"text-align: right;\">\n",
              "      <th></th>\n",
              "      <th>admin_division_population</th>\n",
              "      <th>country_name</th>\n",
              "      <th>fatality_count</th>\n",
              "    </tr>\n",
              "  </thead>\n",
              "  <tbody>\n",
              "    <tr>\n",
              "      <th>0</th>\n",
              "      <td>0.0</td>\n",
              "      <td>China</td>\n",
              "      <td>11.0</td>\n",
              "    </tr>\n",
              "    <tr>\n",
              "      <th>1</th>\n",
              "      <td>36619.0</td>\n",
              "      <td>United States</td>\n",
              "      <td>0.0</td>\n",
              "    </tr>\n",
              "    <tr>\n",
              "      <th>2</th>\n",
              "      <td>14708.0</td>\n",
              "      <td>Peru</td>\n",
              "      <td>10.0</td>\n",
              "    </tr>\n",
              "  </tbody>\n",
              "</table>\n",
              "</div>"
            ],
            "text/plain": [
              "   admin_division_population   country_name  fatality_count\n",
              "0                        0.0          China            11.0\n",
              "1                    36619.0  United States             0.0\n",
              "2                    14708.0           Peru            10.0"
            ]
          },
          "metadata": {
            "tags": []
          },
          "execution_count": 187
        }
      ]
    },
    {
      "cell_type": "code",
      "metadata": {
        "id": "NkE7eod2nCP2"
      },
      "source": [
        "dfpop = df33.groupby('country_name')[['admin_division_population','fatality_count']].sum()"
      ],
      "execution_count": null,
      "outputs": []
    },
    {
      "cell_type": "code",
      "metadata": {
        "id": "oi8Y_9zkn3L-",
        "outputId": "cc9efb77-0716-4dff-9102-412860402133",
        "colab": {
          "base_uri": "https://localhost:8080/",
          "height": 235
        }
      },
      "source": [
        "dfpop.sample(5)"
      ],
      "execution_count": null,
      "outputs": [
        {
          "output_type": "execute_result",
          "data": {
            "text/html": [
              "<div>\n",
              "<style scoped>\n",
              "    .dataframe tbody tr th:only-of-type {\n",
              "        vertical-align: middle;\n",
              "    }\n",
              "\n",
              "    .dataframe tbody tr th {\n",
              "        vertical-align: top;\n",
              "    }\n",
              "\n",
              "    .dataframe thead th {\n",
              "        text-align: right;\n",
              "    }\n",
              "</style>\n",
              "<table border=\"1\" class=\"dataframe\">\n",
              "  <thead>\n",
              "    <tr style=\"text-align: right;\">\n",
              "      <th></th>\n",
              "      <th>admin_division_population</th>\n",
              "      <th>fatality_count</th>\n",
              "    </tr>\n",
              "    <tr>\n",
              "      <th>country_name</th>\n",
              "      <th></th>\n",
              "      <th></th>\n",
              "    </tr>\n",
              "  </thead>\n",
              "  <tbody>\n",
              "    <tr>\n",
              "      <th>Guinea</th>\n",
              "      <td>86853.0</td>\n",
              "      <td>42.0</td>\n",
              "    </tr>\n",
              "    <tr>\n",
              "      <th>Saint Vincent and the Grenadines</th>\n",
              "      <td>6860.0</td>\n",
              "      <td>5.0</td>\n",
              "    </tr>\n",
              "    <tr>\n",
              "      <th>Cameroon</th>\n",
              "      <td>2066194.0</td>\n",
              "      <td>0.0</td>\n",
              "    </tr>\n",
              "    <tr>\n",
              "      <th>Kenya</th>\n",
              "      <td>2314898.0</td>\n",
              "      <td>120.0</td>\n",
              "    </tr>\n",
              "    <tr>\n",
              "      <th>Mexico</th>\n",
              "      <td>34056586.0</td>\n",
              "      <td>322.0</td>\n",
              "    </tr>\n",
              "  </tbody>\n",
              "</table>\n",
              "</div>"
            ],
            "text/plain": [
              "                                  admin_division_population  fatality_count\n",
              "country_name                                                               \n",
              "Guinea                                              86853.0            42.0\n",
              "Saint Vincent and the Grenadines                     6860.0             5.0\n",
              "Cameroon                                          2066194.0             0.0\n",
              "Kenya                                             2314898.0           120.0\n",
              "Mexico                                           34056586.0           322.0"
            ]
          },
          "metadata": {
            "tags": []
          },
          "execution_count": 199
        }
      ]
    },
    {
      "cell_type": "code",
      "metadata": {
        "id": "f5NVL31SpI6r",
        "outputId": "0ce83e3b-db4c-415b-f7a8-8d8b161a6d9d",
        "colab": {
          "base_uri": "https://localhost:8080/",
          "height": 384
        }
      },
      "source": [
        "\n",
        "sns.lmplot(y ='admin_division_population', x = 'fatality_count', data = dfpop);"
      ],
      "execution_count": null,
      "outputs": [
        {
          "output_type": "display_data",
          "data": {
            "image/png": "[encoded data removed]",
            "text/plain": [
              "<Figure size 360x360 with 1 Axes>"
            ]
          },
          "metadata": {
            "tags": [],
            "needs_background": "light"
          }
        }
      ]
    },
    {
      "cell_type": "code",
      "metadata": {
        "id": "7n8UvMRlpDDu"
      },
      "source": [
        ""
      ],
      "execution_count": null,
      "outputs": []
    },
    {
      "cell_type": "code",
      "metadata": {
        "id": "i5esmn5S-Ype"
      },
      "source": [
        "#country vs fatality count\n",
        "col1 = ['country_name','landslide_category', 'landslide_trigger','landslide_size','fatality_count', 'injury_count','admin_division_population','event_year' ]\n",
        "df2 = pd.DataFrame(df, columns = col1)"
      ],
      "execution_count": null,
      "outputs": []
    },
    {
      "cell_type": "code",
      "metadata": {
        "id": "RPus8th_Py6K",
        "outputId": "2adea265-b44c-4ad6-f319-9f0c431b1ff2",
        "colab": {
          "base_uri": "https://localhost:8080/",
          "height": 306
        }
      },
      "source": [
        "#df2 = df2.drop('Country Unkown', axis = 0);"
      ],
      "execution_count": null,
      "outputs": [
        {
          "output_type": "error",
          "ename": "KeyError",
          "evalue": "ignored",
          "traceback": [
            "\u001b[0;31m---------------------------------------------------------------------------\u001b[0m",
            "\u001b[0;31mKeyError\u001b[0m                                  Traceback (most recent call last)",
            "\u001b[0;32m<ipython-input-134-98f4481f6726>\u001b[0m in \u001b[0;36m<module>\u001b[0;34m()\u001b[0m\n\u001b[0;32m----> 1\u001b[0;31m \u001b[0mdf2\u001b[0m \u001b[0;34m=\u001b[0m \u001b[0mdf2\u001b[0m\u001b[0;34m.\u001b[0m\u001b[0mdrop\u001b[0m\u001b[0;34m(\u001b[0m\u001b[0;34m'Country Unkown'\u001b[0m\u001b[0;34m,\u001b[0m \u001b[0maxis\u001b[0m \u001b[0;34m=\u001b[0m \u001b[0;36m0\u001b[0m\u001b[0;34m)\u001b[0m\u001b[0;34m;\u001b[0m\u001b[0;34m\u001b[0m\u001b[0;34m\u001b[0m\u001b[0m\n\u001b[0m",
            "\u001b[0;32m/usr/local/lib/python3.6/dist-packages/pandas/core/frame.py\u001b[0m in \u001b[0;36mdrop\u001b[0;34m(self, labels, axis, index, columns, level, inplace, errors)\u001b[0m\n\u001b[1;32m   4167\u001b[0m             \u001b[0mlevel\u001b[0m\u001b[0;34m=\u001b[0m\u001b[0mlevel\u001b[0m\u001b[0;34m,\u001b[0m\u001b[0;34m\u001b[0m\u001b[0;34m\u001b[0m\u001b[0m\n\u001b[1;32m   4168\u001b[0m             \u001b[0minplace\u001b[0m\u001b[0;34m=\u001b[0m\u001b[0minplace\u001b[0m\u001b[0;34m,\u001b[0m\u001b[0;34m\u001b[0m\u001b[0;34m\u001b[0m\u001b[0m\n\u001b[0;32m-> 4169\u001b[0;31m             \u001b[0merrors\u001b[0m\u001b[0;34m=\u001b[0m\u001b[0merrors\u001b[0m\u001b[0;34m,\u001b[0m\u001b[0;34m\u001b[0m\u001b[0;34m\u001b[0m\u001b[0m\n\u001b[0m\u001b[1;32m   4170\u001b[0m         )\n\u001b[1;32m   4171\u001b[0m \u001b[0;34m\u001b[0m\u001b[0m\n",
            "\u001b[0;32m/usr/local/lib/python3.6/dist-packages/pandas/core/generic.py\u001b[0m in \u001b[0;36mdrop\u001b[0;34m(self, labels, axis, index, columns, level, inplace, errors)\u001b[0m\n\u001b[1;32m   3882\u001b[0m         \u001b[0;32mfor\u001b[0m \u001b[0maxis\u001b[0m\u001b[0;34m,\u001b[0m \u001b[0mlabels\u001b[0m \u001b[0;32min\u001b[0m \u001b[0maxes\u001b[0m\u001b[0;34m.\u001b[0m\u001b[0mitems\u001b[0m\u001b[0;34m(\u001b[0m\u001b[0;34m)\u001b[0m\u001b[0;34m:\u001b[0m\u001b[0;34m\u001b[0m\u001b[0;34m\u001b[0m\u001b[0m\n\u001b[1;32m   3883\u001b[0m             \u001b[0;32mif\u001b[0m \u001b[0mlabels\u001b[0m \u001b[0;32mis\u001b[0m \u001b[0;32mnot\u001b[0m \u001b[0;32mNone\u001b[0m\u001b[0;34m:\u001b[0m\u001b[0;34m\u001b[0m\u001b[0;34m\u001b[0m\u001b[0m\n\u001b[0;32m-> 3884\u001b[0;31m                 \u001b[0mobj\u001b[0m \u001b[0;34m=\u001b[0m \u001b[0mobj\u001b[0m\u001b[0;34m.\u001b[0m\u001b[0m_drop_axis\u001b[0m\u001b[0;34m(\u001b[0m\u001b[0mlabels\u001b[0m\u001b[0;34m,\u001b[0m \u001b[0maxis\u001b[0m\u001b[0;34m,\u001b[0m \u001b[0mlevel\u001b[0m\u001b[0;34m=\u001b[0m\u001b[0mlevel\u001b[0m\u001b[0;34m,\u001b[0m \u001b[0merrors\u001b[0m\u001b[0;34m=\u001b[0m\u001b[0merrors\u001b[0m\u001b[0;34m)\u001b[0m\u001b[0;34m\u001b[0m\u001b[0;34m\u001b[0m\u001b[0m\n\u001b[0m\u001b[1;32m   3885\u001b[0m \u001b[0;34m\u001b[0m\u001b[0m\n\u001b[1;32m   3886\u001b[0m         \u001b[0;32mif\u001b[0m \u001b[0minplace\u001b[0m\u001b[0;34m:\u001b[0m\u001b[0;34m\u001b[0m\u001b[0;34m\u001b[0m\u001b[0m\n",
            "\u001b[0;32m/usr/local/lib/python3.6/dist-packages/pandas/core/generic.py\u001b[0m in \u001b[0;36m_drop_axis\u001b[0;34m(self, labels, axis, level, errors)\u001b[0m\n\u001b[1;32m   3916\u001b[0m                 \u001b[0mnew_axis\u001b[0m \u001b[0;34m=\u001b[0m \u001b[0maxis\u001b[0m\u001b[0;34m.\u001b[0m\u001b[0mdrop\u001b[0m\u001b[0;34m(\u001b[0m\u001b[0mlabels\u001b[0m\u001b[0;34m,\u001b[0m \u001b[0mlevel\u001b[0m\u001b[0;34m=\u001b[0m\u001b[0mlevel\u001b[0m\u001b[0;34m,\u001b[0m \u001b[0merrors\u001b[0m\u001b[0;34m=\u001b[0m\u001b[0merrors\u001b[0m\u001b[0;34m)\u001b[0m\u001b[0;34m\u001b[0m\u001b[0;34m\u001b[0m\u001b[0m\n\u001b[1;32m   3917\u001b[0m             \u001b[0;32melse\u001b[0m\u001b[0;34m:\u001b[0m\u001b[0;34m\u001b[0m\u001b[0;34m\u001b[0m\u001b[0m\n\u001b[0;32m-> 3918\u001b[0;31m                 \u001b[0mnew_axis\u001b[0m \u001b[0;34m=\u001b[0m \u001b[0maxis\u001b[0m\u001b[0;34m.\u001b[0m\u001b[0mdrop\u001b[0m\u001b[0;34m(\u001b[0m\u001b[0mlabels\u001b[0m\u001b[0;34m,\u001b[0m \u001b[0merrors\u001b[0m\u001b[0;34m=\u001b[0m\u001b[0merrors\u001b[0m\u001b[0;34m)\u001b[0m\u001b[0;34m\u001b[0m\u001b[0;34m\u001b[0m\u001b[0m\n\u001b[0m\u001b[1;32m   3919\u001b[0m             \u001b[0mresult\u001b[0m \u001b[0;34m=\u001b[0m \u001b[0mself\u001b[0m\u001b[0;34m.\u001b[0m\u001b[0mreindex\u001b[0m\u001b[0;34m(\u001b[0m\u001b[0;34m**\u001b[0m\u001b[0;34m{\u001b[0m\u001b[0maxis_name\u001b[0m\u001b[0;34m:\u001b[0m \u001b[0mnew_axis\u001b[0m\u001b[0;34m}\u001b[0m\u001b[0;34m)\u001b[0m\u001b[0;34m\u001b[0m\u001b[0;34m\u001b[0m\u001b[0m\n\u001b[1;32m   3920\u001b[0m \u001b[0;34m\u001b[0m\u001b[0m\n",
            "\u001b[0;32m/usr/local/lib/python3.6/dist-packages/pandas/core/indexes/base.py\u001b[0m in \u001b[0;36mdrop\u001b[0;34m(self, labels, errors)\u001b[0m\n\u001b[1;32m   5276\u001b[0m         \u001b[0;32mif\u001b[0m \u001b[0mmask\u001b[0m\u001b[0;34m.\u001b[0m\u001b[0many\u001b[0m\u001b[0;34m(\u001b[0m\u001b[0;34m)\u001b[0m\u001b[0;34m:\u001b[0m\u001b[0;34m\u001b[0m\u001b[0;34m\u001b[0m\u001b[0m\n\u001b[1;32m   5277\u001b[0m             \u001b[0;32mif\u001b[0m \u001b[0merrors\u001b[0m \u001b[0;34m!=\u001b[0m \u001b[0;34m\"ignore\"\u001b[0m\u001b[0;34m:\u001b[0m\u001b[0;34m\u001b[0m\u001b[0;34m\u001b[0m\u001b[0m\n\u001b[0;32m-> 5278\u001b[0;31m                 \u001b[0;32mraise\u001b[0m \u001b[0mKeyError\u001b[0m\u001b[0;34m(\u001b[0m\u001b[0;34mf\"{labels[mask]} not found in axis\"\u001b[0m\u001b[0;34m)\u001b[0m\u001b[0;34m\u001b[0m\u001b[0;34m\u001b[0m\u001b[0m\n\u001b[0m\u001b[1;32m   5279\u001b[0m             \u001b[0mindexer\u001b[0m \u001b[0;34m=\u001b[0m \u001b[0mindexer\u001b[0m\u001b[0;34m[\u001b[0m\u001b[0;34m~\u001b[0m\u001b[0mmask\u001b[0m\u001b[0;34m]\u001b[0m\u001b[0;34m\u001b[0m\u001b[0;34m\u001b[0m\u001b[0m\n\u001b[1;32m   5280\u001b[0m         \u001b[0;32mreturn\u001b[0m \u001b[0mself\u001b[0m\u001b[0;34m.\u001b[0m\u001b[0mdelete\u001b[0m\u001b[0;34m(\u001b[0m\u001b[0mindexer\u001b[0m\u001b[0;34m)\u001b[0m\u001b[0;34m\u001b[0m\u001b[0;34m\u001b[0m\u001b[0m\n",
            "\u001b[0;31mKeyError\u001b[0m: \"['Country Unkown'] not found in axis\""
          ]
        }
      ]
    },
    {
      "cell_type": "code",
      "metadata": {
        "id": "gqAGGFQSAkfa"
      },
      "source": [
        "#country vs fatality count\n",
        "CbyF = df2.groupby('country_name')[['fatality_count']].sum()"
      ],
      "execution_count": null,
      "outputs": []
    },
    {
      "cell_type": "code",
      "metadata": {
        "id": "Z1AnQHxIBQin"
      },
      "source": [
        "Countrydeath_count = CbyF.sort_values('fatality_count', ascending = False).head(21)"
      ],
      "execution_count": null,
      "outputs": []
    },
    {
      "cell_type": "code",
      "metadata": {
        "id": "gzmSEIhtQJ2a"
      },
      "source": [
        "Countrydeath_count = Countrydeath_count.drop('Country Unkown', axis = 0)"
      ],
      "execution_count": null,
      "outputs": []
    },
    {
      "cell_type": "code",
      "metadata": {
        "id": "FqXAg9mwBqL3",
        "outputId": "66fcc8fc-abd9-4ce3-cc17-064d623b14a0",
        "colab": {
          "base_uri": "https://localhost:8080/",
          "height": 390
        }
      },
      "source": [
        "#Which countries have the maximum reported deaths?\n",
        "Countrydeath_count.head(10)\n",
        "#the below list shows the 10 countries with maximum deaths"
      ],
      "execution_count": null,
      "outputs": [
        {
          "output_type": "execute_result",
          "data": {
            "text/html": [
              "<div>\n",
              "<style scoped>\n",
              "    .dataframe tbody tr th:only-of-type {\n",
              "        vertical-align: middle;\n",
              "    }\n",
              "\n",
              "    .dataframe tbody tr th {\n",
              "        vertical-align: top;\n",
              "    }\n",
              "\n",
              "    .dataframe thead th {\n",
              "        text-align: right;\n",
              "    }\n",
              "</style>\n",
              "<table border=\"1\" class=\"dataframe\">\n",
              "  <thead>\n",
              "    <tr style=\"text-align: right;\">\n",
              "      <th></th>\n",
              "      <th>fatality_count</th>\n",
              "    </tr>\n",
              "    <tr>\n",
              "      <th>country_name</th>\n",
              "      <th></th>\n",
              "    </tr>\n",
              "  </thead>\n",
              "  <tbody>\n",
              "    <tr>\n",
              "      <th>India</th>\n",
              "      <td>7058.0</td>\n",
              "    </tr>\n",
              "    <tr>\n",
              "      <th>China</th>\n",
              "      <td>4930.0</td>\n",
              "    </tr>\n",
              "    <tr>\n",
              "      <th>Afghanistan</th>\n",
              "      <td>2287.0</td>\n",
              "    </tr>\n",
              "    <tr>\n",
              "      <th>Philippines</th>\n",
              "      <td>1839.0</td>\n",
              "    </tr>\n",
              "    <tr>\n",
              "      <th>Brazil</th>\n",
              "      <td>1743.0</td>\n",
              "    </tr>\n",
              "    <tr>\n",
              "      <th>Indonesia</th>\n",
              "      <td>1676.0</td>\n",
              "    </tr>\n",
              "    <tr>\n",
              "      <th>Nepal</th>\n",
              "      <td>1432.0</td>\n",
              "    </tr>\n",
              "    <tr>\n",
              "      <th>Guatemala</th>\n",
              "      <td>735.0</td>\n",
              "    </tr>\n",
              "    <tr>\n",
              "      <th>Pakistan</th>\n",
              "      <td>643.0</td>\n",
              "    </tr>\n",
              "    <tr>\n",
              "      <th>Colombia</th>\n",
              "      <td>591.0</td>\n",
              "    </tr>\n",
              "  </tbody>\n",
              "</table>\n",
              "</div>"
            ],
            "text/plain": [
              "              fatality_count\n",
              "country_name                \n",
              "India                 7058.0\n",
              "China                 4930.0\n",
              "Afghanistan           2287.0\n",
              "Philippines           1839.0\n",
              "Brazil                1743.0\n",
              "Indonesia             1676.0\n",
              "Nepal                 1432.0\n",
              "Guatemala              735.0\n",
              "Pakistan               643.0\n",
              "Colombia               591.0"
            ]
          },
          "metadata": {
            "tags": []
          },
          "execution_count": 142
        }
      ]
    },
    {
      "cell_type": "code",
      "metadata": {
        "id": "etvGlHvIB-bh",
        "outputId": "b519551f-fab2-484b-97c4-cbdbfa2c4fd6",
        "colab": {
          "base_uri": "https://localhost:8080/",
          "height": 500
        }
      },
      "source": [
        "plt.figure(figsize=(12,8))\n",
        "plt.title('Top 20 countries with maximum death toll')\n",
        "sns.heatmap(Countrydeath_count, cmap = 'OrRd_r');"
      ],
      "execution_count": null,
      "outputs": [
        {
          "output_type": "display_data",
          "data": {
            "image/png": "[encoded data removed]",
            "text/plain": [
              "<Figure size 864x576 with 2 Axes>"
            ]
          },
          "metadata": {
            "tags": [],
            "needs_background": "light"
          }
        }
      ]
    },
    {
      "cell_type": "code",
      "metadata": {
        "id": "lS0UnKGLCspu"
      },
      "source": [
        "#country vs injury\n",
        "CbyI = df2.groupby('country_name')[['injury_count']].sum()"
      ],
      "execution_count": null,
      "outputs": []
    },
    {
      "cell_type": "code",
      "metadata": {
        "id": "KJi2lwAXCzQy"
      },
      "source": [
        "Countryinjury_count = CbyI.sort_values('injury_count', ascending = False).head(20)"
      ],
      "execution_count": null,
      "outputs": []
    },
    {
      "cell_type": "code",
      "metadata": {
        "id": "yRpV1SvZQc32"
      },
      "source": [
        "Countryinjury_count = Countryinjury_count.drop('Country Unkown', axis = 0)"
      ],
      "execution_count": null,
      "outputs": []
    },
    {
      "cell_type": "code",
      "metadata": {
        "id": "9Jm6plC-DBtq",
        "outputId": "61eddd16-5d14-4994-e674-916209dfe4f2",
        "colab": {
          "base_uri": "https://localhost:8080/",
          "height": 390
        }
      },
      "source": [
        "Countryinjury_count.head(10)\n",
        "#the list below shows the top 10 countries that had maximum injuries"
      ],
      "execution_count": null,
      "outputs": [
        {
          "output_type": "execute_result",
          "data": {
            "text/html": [
              "<div>\n",
              "<style scoped>\n",
              "    .dataframe tbody tr th:only-of-type {\n",
              "        vertical-align: middle;\n",
              "    }\n",
              "\n",
              "    .dataframe tbody tr th {\n",
              "        vertical-align: top;\n",
              "    }\n",
              "\n",
              "    .dataframe thead th {\n",
              "        text-align: right;\n",
              "    }\n",
              "</style>\n",
              "<table border=\"1\" class=\"dataframe\">\n",
              "  <thead>\n",
              "    <tr style=\"text-align: right;\">\n",
              "      <th></th>\n",
              "      <th>injury_count</th>\n",
              "    </tr>\n",
              "    <tr>\n",
              "      <th>country_name</th>\n",
              "      <th></th>\n",
              "    </tr>\n",
              "  </thead>\n",
              "  <tbody>\n",
              "    <tr>\n",
              "      <th>Guatemala</th>\n",
              "      <td>393.0</td>\n",
              "    </tr>\n",
              "    <tr>\n",
              "      <th>China</th>\n",
              "      <td>313.0</td>\n",
              "    </tr>\n",
              "    <tr>\n",
              "      <th>Peru</th>\n",
              "      <td>277.0</td>\n",
              "    </tr>\n",
              "    <tr>\n",
              "      <th>Nepal</th>\n",
              "      <td>257.0</td>\n",
              "    </tr>\n",
              "    <tr>\n",
              "      <th>Myanmar [Burma]</th>\n",
              "      <td>228.0</td>\n",
              "    </tr>\n",
              "    <tr>\n",
              "      <th>India</th>\n",
              "      <td>215.0</td>\n",
              "    </tr>\n",
              "    <tr>\n",
              "      <th>Bangladesh</th>\n",
              "      <td>170.0</td>\n",
              "    </tr>\n",
              "    <tr>\n",
              "      <th>Indonesia</th>\n",
              "      <td>147.0</td>\n",
              "    </tr>\n",
              "    <tr>\n",
              "      <th>Philippines</th>\n",
              "      <td>138.0</td>\n",
              "    </tr>\n",
              "    <tr>\n",
              "      <th>Brazil</th>\n",
              "      <td>103.0</td>\n",
              "    </tr>\n",
              "  </tbody>\n",
              "</table>\n",
              "</div>"
            ],
            "text/plain": [
              "                 injury_count\n",
              "country_name                 \n",
              "Guatemala               393.0\n",
              "China                   313.0\n",
              "Peru                    277.0\n",
              "Nepal                   257.0\n",
              "Myanmar [Burma]         228.0\n",
              "India                   215.0\n",
              "Bangladesh              170.0\n",
              "Indonesia               147.0\n",
              "Philippines             138.0\n",
              "Brazil                  103.0"
            ]
          },
          "metadata": {
            "tags": []
          },
          "execution_count": 145
        }
      ]
    },
    {
      "cell_type": "code",
      "metadata": {
        "id": "ipRBkAZADIKR",
        "outputId": "2c196049-2670-442d-f509-cba438bd1627",
        "colab": {
          "base_uri": "https://localhost:8080/",
          "height": 500
        }
      },
      "source": [
        "plt.figure(figsize=(12,8))\n",
        "plt.title('Top 20 countries with maximum injuries')\n",
        "sns.heatmap(Countryinjury_count, cmap = 'BuPu_r');"
      ],
      "execution_count": null,
      "outputs": [
        {
          "output_type": "display_data",
          "data": {
            "image/png": "[encoded data removed]",
            "text/plain": [
              "<Figure size 864x576 with 2 Axes>"
            ]
          },
          "metadata": {
            "tags": [],
            "needs_background": "light"
          }
        }
      ]
    },
    {
      "cell_type": "code",
      "metadata": {
        "id": "r78Mil4Mz2nQ",
        "outputId": "0b3eac4b-286d-402f-beb1-6e09c7613c2c",
        "colab": {
          "base_uri": "https://localhost:8080/",
          "height": 35
        }
      },
      "source": [
        "'''plt.figure(figsize=(12,6))\n",
        "plt.title('Fatalities over the years')\n",
        "sns.barplot( df_by_year.index, df_by_year['fatality_count']);'''"
      ],
      "execution_count": null,
      "outputs": [
        {
          "output_type": "execute_result",
          "data": {
            "application/vnd.google.colaboratory.intrinsic+json": {
              "type": "string"
            },
            "text/plain": [
              "\"plt.figure(figsize=(12,6))\\nplt.title('Fatalities over the years')\\nsns.barplot( df_by_year.index, df_by_year['fatality_count']);\""
            ]
          },
          "metadata": {
            "tags": []
          },
          "execution_count": 81
        }
      ]
    },
    {
      "cell_type": "code",
      "metadata": {
        "id": "ij1pfNln4RmH"
      },
      "source": [
        "#df['event_date_year']"
      ],
      "execution_count": null,
      "outputs": []
    },
    {
      "cell_type": "code",
      "metadata": {
        "id": "FN8Lv3xj4I9C"
      },
      "source": [
        "# Split our labels into their own array\n",
        "#Here Our Target class :  landslide trigger \n",
        "#Y = np.array(df['landslide_trigger'])  # values we want to predict"
      ],
      "execution_count": null,
      "outputs": []
    },
    {
      "cell_type": "code",
      "metadata": {
        "id": "irJc0GTFwlA7"
      },
      "source": [
        "# Remove the labels from the features, axis 1 refers to the col\n",
        "#df = df.drop('landslide_trigger',axis=1)"
      ],
      "execution_count": null,
      "outputs": []
    },
    {
      "cell_type": "code",
      "metadata": {
        "id": "gO4lNWC3vsGK",
        "outputId": "1eb6a4b5-0328-4e25-da90-05011a41dfb6",
        "colab": {
          "base_uri": "https://localhost:8080/",
          "height": 255
        }
      },
      "source": [
        "df1.info()"
      ],
      "execution_count": null,
      "outputs": [
        {
          "output_type": "stream",
          "text": [
            "<class 'pandas.core.frame.DataFrame'>\n",
            "Int64Index: 10804 entries, 0 to 11032\n",
            "Data columns (total 7 columns):\n",
            " #   Column              Non-Null Count  Dtype         \n",
            "---  ------              --------------  -----         \n",
            " 0   landslide_size      10804 non-null  object        \n",
            " 1   landslide_category  10804 non-null  object        \n",
            " 2   country_name        10804 non-null  int16         \n",
            " 3   landslide_trigger   10804 non-null  int8          \n",
            " 4   fatality_count      10804 non-null  float64       \n",
            " 5   injury_count        10804 non-null  float64       \n",
            " 6   event_date          10804 non-null  datetime64[ns]\n",
            "dtypes: datetime64[ns](1), float64(2), int16(1), int8(1), object(2)\n",
            "memory usage: 858.1+ KB\n"
          ],
          "name": "stdout"
        }
      ]
    },
    {
      "cell_type": "code",
      "metadata": {
        "id": "o66vIPi4v9aS",
        "outputId": "96b97e4f-a6be-4855-90c4-1a0504a3738b",
        "colab": {
          "base_uri": "https://localhost:8080/",
          "height": 34
        }
      },
      "source": [
        "df1.landslide_size.unique()"
      ],
      "execution_count": null,
      "outputs": [
        {
          "output_type": "execute_result",
          "data": {
            "text/plain": [
              "array(['large', 'small', 'medium', 'unknown', 'very_large'], dtype=object)"
            ]
          },
          "metadata": {
            "tags": []
          },
          "execution_count": 105
        }
      ]
    },
    {
      "cell_type": "code",
      "metadata": {
        "id": "WJbRYJzbupDq",
        "outputId": "fe599458-2f3e-4b0e-db6d-3143d3765a2f",
        "colab": {
          "base_uri": "https://localhost:8080/",
          "height": 34
        }
      },
      "source": [
        "df.location_description.dtype"
      ],
      "execution_count": null,
      "outputs": [
        {
          "output_type": "execute_result",
          "data": {
            "text/plain": [
              "dtype('int16')"
            ]
          },
          "metadata": {
            "tags": []
          },
          "execution_count": 111
        }
      ]
    },
    {
      "cell_type": "code",
      "metadata": {
        "id": "AA0s3p6MuIKY",
        "outputId": "9bb6fb9a-3143-43a0-8d78-12f6de33f846",
        "colab": {
          "base_uri": "https://localhost:8080/",
          "height": 111
        }
      },
      "source": [
        "df2.head(2)"
      ],
      "execution_count": null,
      "outputs": [
        {
          "output_type": "execute_result",
          "data": {
            "text/html": [
              "<div>\n",
              "<style scoped>\n",
              "    .dataframe tbody tr th:only-of-type {\n",
              "        vertical-align: middle;\n",
              "    }\n",
              "\n",
              "    .dataframe tbody tr th {\n",
              "        vertical-align: top;\n",
              "    }\n",
              "\n",
              "    .dataframe thead th {\n",
              "        text-align: right;\n",
              "    }\n",
              "</style>\n",
              "<table border=\"1\" class=\"dataframe\">\n",
              "  <thead>\n",
              "    <tr style=\"text-align: right;\">\n",
              "      <th></th>\n",
              "      <th>country_name</th>\n",
              "      <th>landslide_category</th>\n",
              "      <th>landslide_trigger</th>\n",
              "      <th>landslide_size</th>\n",
              "      <th>fatality_count</th>\n",
              "      <th>injury_count</th>\n",
              "      <th>admin_division_population</th>\n",
              "      <th>event_year</th>\n",
              "    </tr>\n",
              "  </thead>\n",
              "  <tbody>\n",
              "    <tr>\n",
              "      <th>0</th>\n",
              "      <td>China</td>\n",
              "      <td>landslide</td>\n",
              "      <td>12</td>\n",
              "      <td>large</td>\n",
              "      <td>11.0</td>\n",
              "      <td>0.0</td>\n",
              "      <td>0.0</td>\n",
              "      <td>2008</td>\n",
              "    </tr>\n",
              "    <tr>\n",
              "      <th>1</th>\n",
              "      <td>United States</td>\n",
              "      <td>mudslide</td>\n",
              "      <td>3</td>\n",
              "      <td>small</td>\n",
              "      <td>0.0</td>\n",
              "      <td>0.0</td>\n",
              "      <td>36619.0</td>\n",
              "      <td>2009</td>\n",
              "    </tr>\n",
              "  </tbody>\n",
              "</table>\n",
              "</div>"
            ],
            "text/plain": [
              "    country_name landslide_category  ...  admin_division_population event_year\n",
              "0          China          landslide  ...                        0.0       2008\n",
              "1  United States           mudslide  ...                    36619.0       2009\n",
              "\n",
              "[2 rows x 8 columns]"
            ]
          },
          "metadata": {
            "tags": []
          },
          "execution_count": 116
        }
      ]
    },
    {
      "cell_type": "code",
      "metadata": {
        "id": "qTRkFqLW8OFx",
        "outputId": "3bc8d814-d95c-4ddf-b9d7-fbfc52c9d28d",
        "colab": {
          "base_uri": "https://localhost:8080/",
          "height": 34
        }
      },
      "source": [
        "df2.admin_division_population.dtype"
      ],
      "execution_count": null,
      "outputs": [
        {
          "output_type": "execute_result",
          "data": {
            "text/plain": [
              "dtype('float64')"
            ]
          },
          "metadata": {
            "tags": []
          },
          "execution_count": 128
        }
      ]
    },
    {
      "cell_type": "code",
      "metadata": {
        "id": "zWFtjw9it0cV"
      },
      "source": [
        "#plt.plot(df2.admin_division_population, df2.injury_count);\n",
        "#g = sns.catplot(\"alive\", col=\"deck\", col_wrap=4,\n",
        "                #data=titanic[titanic.deck.notnull()],\n",
        "                #kind=\"count\", height=3.5, aspect=.8, \n",
        "                #palette='tab20')\n",
        "\n",
        "#fig.suptitle('sf')\n",
        "df.plot(kind='pie', subplots=True, figsize=(8, 8), dpi= 80)"
      ],
      "execution_count": null,
      "outputs": []
    },
    {
      "cell_type": "code",
      "metadata": {
        "id": "AbdwUsJEB-8P",
        "outputId": "474411dd-fcbb-4b5f-c67e-bd664d9be568",
        "colab": {
          "base_uri": "https://localhost:8080/",
          "height": 111
        }
      },
      "source": [
        "df2.head(2)"
      ],
      "execution_count": null,
      "outputs": [
        {
          "output_type": "execute_result",
          "data": {
            "text/html": [
              "<div>\n",
              "<style scoped>\n",
              "    .dataframe tbody tr th:only-of-type {\n",
              "        vertical-align: middle;\n",
              "    }\n",
              "\n",
              "    .dataframe tbody tr th {\n",
              "        vertical-align: top;\n",
              "    }\n",
              "\n",
              "    .dataframe thead th {\n",
              "        text-align: right;\n",
              "    }\n",
              "</style>\n",
              "<table border=\"1\" class=\"dataframe\">\n",
              "  <thead>\n",
              "    <tr style=\"text-align: right;\">\n",
              "      <th></th>\n",
              "      <th>country_name</th>\n",
              "      <th>landslide_category</th>\n",
              "      <th>landslide_trigger</th>\n",
              "      <th>landslide_size</th>\n",
              "      <th>fatality_count</th>\n",
              "      <th>injury_count</th>\n",
              "      <th>admin_division_population</th>\n",
              "      <th>event_year</th>\n",
              "    </tr>\n",
              "  </thead>\n",
              "  <tbody>\n",
              "    <tr>\n",
              "      <th>0</th>\n",
              "      <td>China</td>\n",
              "      <td>landslide</td>\n",
              "      <td>12</td>\n",
              "      <td>large</td>\n",
              "      <td>11.0</td>\n",
              "      <td>0.0</td>\n",
              "      <td>0.0</td>\n",
              "      <td>2008</td>\n",
              "    </tr>\n",
              "    <tr>\n",
              "      <th>1</th>\n",
              "      <td>United States</td>\n",
              "      <td>mudslide</td>\n",
              "      <td>3</td>\n",
              "      <td>small</td>\n",
              "      <td>0.0</td>\n",
              "      <td>0.0</td>\n",
              "      <td>36619.0</td>\n",
              "      <td>2009</td>\n",
              "    </tr>\n",
              "  </tbody>\n",
              "</table>\n",
              "</div>"
            ],
            "text/plain": [
              "    country_name landslide_category  ...  admin_division_population event_year\n",
              "0          China          landslide  ...                        0.0       2008\n",
              "1  United States           mudslide  ...                    36619.0       2009\n",
              "\n",
              "[2 rows x 8 columns]"
            ]
          },
          "metadata": {
            "tags": []
          },
          "execution_count": 289
        }
      ]
    },
    {
      "cell_type": "code",
      "metadata": {
        "id": "lUG04gAkCUgE",
        "outputId": "c501d1f8-7ae7-4fce-edcc-87b84dbfbab1",
        "colab": {
          "base_uri": "https://localhost:8080/",
          "height": 404
        }
      },
      "source": [
        "plt.figure(figsize=(12,6))\n",
        "sns.scatterplot(df2['admin_division_population'], df2['fatality_count'], hue = df2['landslide_size'], s = 100)\n",
        "plt.title('Fatality vs Population (by landslide size)')\n",
        "plt.xlabel('Fatality')\n",
        "plt.ylabel('Population');"
      ],
      "execution_count": null,
      "outputs": [
        {
          "output_type": "display_data",
          "data": {
            "image/png": "[encoded data removed]",
            "text/plain": [
              "<Figure size 864x432 with 1 Axes>"
            ]
          },
          "metadata": {
            "tags": []
          }
        }
      ]
    },
    {
      "cell_type": "code",
      "metadata": {
        "id": "kfNKmOjSGTuO"
      },
      "source": [
        "dfyearr = pd.DataFrame(df, columns = ['event_year','fatality_count'])"
      ],
      "execution_count": null,
      "outputs": []
    },
    {
      "cell_type": "code",
      "metadata": {
        "id": "QRgaDu6CGHiO"
      },
      "source": [
        "dfdeath_year = dfyearr.sort_values('event_year')"
      ],
      "execution_count": null,
      "outputs": []
    },
    {
      "cell_type": "code",
      "metadata": {
        "id": "cmNVtTKNGonQ",
        "outputId": "b575e374-824f-4efb-a8bd-5b2c1e523dbf",
        "colab": {
          "base_uri": "https://localhost:8080/",
          "height": 142
        }
      },
      "source": [
        "dfdeath_year.head(3)"
      ],
      "execution_count": null,
      "outputs": [
        {
          "output_type": "execute_result",
          "data": {
            "text/html": [
              "<div>\n",
              "<style scoped>\n",
              "    .dataframe tbody tr th:only-of-type {\n",
              "        vertical-align: middle;\n",
              "    }\n",
              "\n",
              "    .dataframe tbody tr th {\n",
              "        vertical-align: top;\n",
              "    }\n",
              "\n",
              "    .dataframe thead th {\n",
              "        text-align: right;\n",
              "    }\n",
              "</style>\n",
              "<table border=\"1\" class=\"dataframe\">\n",
              "  <thead>\n",
              "    <tr style=\"text-align: right;\">\n",
              "      <th></th>\n",
              "      <th>event_year</th>\n",
              "      <th>fatality_count</th>\n",
              "    </tr>\n",
              "  </thead>\n",
              "  <tbody>\n",
              "    <tr>\n",
              "      <th>9599</th>\n",
              "      <td>1988</td>\n",
              "      <td>0.0</td>\n",
              "    </tr>\n",
              "    <tr>\n",
              "      <th>2078</th>\n",
              "      <td>1996</td>\n",
              "      <td>0.0</td>\n",
              "    </tr>\n",
              "    <tr>\n",
              "      <th>3716</th>\n",
              "      <td>1996</td>\n",
              "      <td>0.0</td>\n",
              "    </tr>\n",
              "  </tbody>\n",
              "</table>\n",
              "</div>"
            ],
            "text/plain": [
              "      event_year  fatality_count\n",
              "9599        1988             0.0\n",
              "2078        1996             0.0\n",
              "3716        1996             0.0"
            ]
          },
          "metadata": {
            "tags": []
          },
          "execution_count": 301
        }
      ]
    },
    {
      "cell_type": "code",
      "metadata": {
        "id": "igRNajCtHZvg"
      },
      "source": [
        "deathyear_df = dfyearr.groupby('event_year').sum()"
      ],
      "execution_count": null,
      "outputs": []
    },
    {
      "cell_type": "code",
      "metadata": {
        "id": "vL_eM_x7Hlkm",
        "outputId": "c2e49d5e-c7fb-4ec8-af1d-95d11f45e4da",
        "colab": {
          "base_uri": "https://localhost:8080/",
          "height": 669
        }
      },
      "source": [
        "deathyear_df.head(20)"
      ],
      "execution_count": null,
      "outputs": [
        {
          "output_type": "execute_result",
          "data": {
            "text/html": [
              "<div>\n",
              "<style scoped>\n",
              "    .dataframe tbody tr th:only-of-type {\n",
              "        vertical-align: middle;\n",
              "    }\n",
              "\n",
              "    .dataframe tbody tr th {\n",
              "        vertical-align: top;\n",
              "    }\n",
              "\n",
              "    .dataframe thead th {\n",
              "        text-align: right;\n",
              "    }\n",
              "</style>\n",
              "<table border=\"1\" class=\"dataframe\">\n",
              "  <thead>\n",
              "    <tr style=\"text-align: right;\">\n",
              "      <th></th>\n",
              "      <th>fatality_count</th>\n",
              "    </tr>\n",
              "    <tr>\n",
              "      <th>event_year</th>\n",
              "      <th></th>\n",
              "    </tr>\n",
              "  </thead>\n",
              "  <tbody>\n",
              "    <tr>\n",
              "      <th>1988</th>\n",
              "      <td>0.0</td>\n",
              "    </tr>\n",
              "    <tr>\n",
              "      <th>1996</th>\n",
              "      <td>0.0</td>\n",
              "    </tr>\n",
              "    <tr>\n",
              "      <th>1997</th>\n",
              "      <td>0.0</td>\n",
              "    </tr>\n",
              "    <tr>\n",
              "      <th>1998</th>\n",
              "      <td>0.0</td>\n",
              "    </tr>\n",
              "    <tr>\n",
              "      <th>2003</th>\n",
              "      <td>0.0</td>\n",
              "    </tr>\n",
              "    <tr>\n",
              "      <th>2004</th>\n",
              "      <td>100.0</td>\n",
              "    </tr>\n",
              "    <tr>\n",
              "      <th>2005</th>\n",
              "      <td>3.0</td>\n",
              "    </tr>\n",
              "    <tr>\n",
              "      <th>2006</th>\n",
              "      <td>324.0</td>\n",
              "    </tr>\n",
              "    <tr>\n",
              "      <th>2007</th>\n",
              "      <td>1734.0</td>\n",
              "    </tr>\n",
              "    <tr>\n",
              "      <th>2008</th>\n",
              "      <td>2288.0</td>\n",
              "    </tr>\n",
              "    <tr>\n",
              "      <th>2009</th>\n",
              "      <td>1792.0</td>\n",
              "    </tr>\n",
              "    <tr>\n",
              "      <th>2010</th>\n",
              "      <td>5288.0</td>\n",
              "    </tr>\n",
              "    <tr>\n",
              "      <th>2011</th>\n",
              "      <td>2134.0</td>\n",
              "    </tr>\n",
              "    <tr>\n",
              "      <th>2012</th>\n",
              "      <td>1462.0</td>\n",
              "    </tr>\n",
              "    <tr>\n",
              "      <th>2013</th>\n",
              "      <td>6361.0</td>\n",
              "    </tr>\n",
              "    <tr>\n",
              "      <th>2014</th>\n",
              "      <td>3833.0</td>\n",
              "    </tr>\n",
              "    <tr>\n",
              "      <th>2015</th>\n",
              "      <td>2230.0</td>\n",
              "    </tr>\n",
              "    <tr>\n",
              "      <th>2016</th>\n",
              "      <td>1408.0</td>\n",
              "    </tr>\n",
              "    <tr>\n",
              "      <th>2017</th>\n",
              "      <td>1338.0</td>\n",
              "    </tr>\n",
              "  </tbody>\n",
              "</table>\n",
              "</div>"
            ],
            "text/plain": [
              "            fatality_count\n",
              "event_year                \n",
              "1988                   0.0\n",
              "1996                   0.0\n",
              "1997                   0.0\n",
              "1998                   0.0\n",
              "2003                   0.0\n",
              "2004                 100.0\n",
              "2005                   3.0\n",
              "2006                 324.0\n",
              "2007                1734.0\n",
              "2008                2288.0\n",
              "2009                1792.0\n",
              "2010                5288.0\n",
              "2011                2134.0\n",
              "2012                1462.0\n",
              "2013                6361.0\n",
              "2014                3833.0\n",
              "2015                2230.0\n",
              "2016                1408.0\n",
              "2017                1338.0"
            ]
          },
          "metadata": {
            "tags": []
          },
          "execution_count": 308
        }
      ]
    },
    {
      "cell_type": "code",
      "metadata": {
        "id": "URpqJTLrHttV",
        "outputId": "a33ecfb3-fe74-4c7a-883c-885485c0ef8f",
        "colab": {
          "base_uri": "https://localhost:8080/",
          "height": 404
        }
      },
      "source": [
        "plt.figure(figsize=(12,6))\n",
        "sns.lineplot(deathyear_df.index, deathyear_df['fatality_count'])\n",
        "plt.title('Fatality vs Year');"
      ],
      "execution_count": null,
      "outputs": [
        {
          "output_type": "display_data",
          "data": {
            "image/png": "[encoded data removed]",
            "text/plain": [
              "<Figure size 864x432 with 1 Axes>"
            ]
          },
          "metadata": {
            "tags": []
          }
        }
      ]
    },
    {
      "cell_type": "code",
      "metadata": {
        "id": "aUI2MaaXGriA",
        "outputId": "daf15a3d-3206-4c52-bf3b-0d76e55132c8",
        "colab": {
          "base_uri": "https://localhost:8080/",
          "height": 450
        }
      },
      "source": [
        "dfdeath_year.set_index('event_year')"
      ],
      "execution_count": null,
      "outputs": [
        {
          "output_type": "execute_result",
          "data": {
            "text/html": [
              "<div>\n",
              "<style scoped>\n",
              "    .dataframe tbody tr th:only-of-type {\n",
              "        vertical-align: middle;\n",
              "    }\n",
              "\n",
              "    .dataframe tbody tr th {\n",
              "        vertical-align: top;\n",
              "    }\n",
              "\n",
              "    .dataframe thead th {\n",
              "        text-align: right;\n",
              "    }\n",
              "</style>\n",
              "<table border=\"1\" class=\"dataframe\">\n",
              "  <thead>\n",
              "    <tr style=\"text-align: right;\">\n",
              "      <th></th>\n",
              "      <th>fatality_count</th>\n",
              "    </tr>\n",
              "    <tr>\n",
              "      <th>event_year</th>\n",
              "      <th></th>\n",
              "    </tr>\n",
              "  </thead>\n",
              "  <tbody>\n",
              "    <tr>\n",
              "      <th>1988</th>\n",
              "      <td>0.0</td>\n",
              "    </tr>\n",
              "    <tr>\n",
              "      <th>1996</th>\n",
              "      <td>0.0</td>\n",
              "    </tr>\n",
              "    <tr>\n",
              "      <th>1996</th>\n",
              "      <td>0.0</td>\n",
              "    </tr>\n",
              "    <tr>\n",
              "      <th>1997</th>\n",
              "      <td>0.0</td>\n",
              "    </tr>\n",
              "    <tr>\n",
              "      <th>1997</th>\n",
              "      <td>0.0</td>\n",
              "    </tr>\n",
              "    <tr>\n",
              "      <th>...</th>\n",
              "      <td>...</td>\n",
              "    </tr>\n",
              "    <tr>\n",
              "      <th>2017</th>\n",
              "      <td>0.0</td>\n",
              "    </tr>\n",
              "    <tr>\n",
              "      <th>2017</th>\n",
              "      <td>0.0</td>\n",
              "    </tr>\n",
              "    <tr>\n",
              "      <th>2017</th>\n",
              "      <td>0.0</td>\n",
              "    </tr>\n",
              "    <tr>\n",
              "      <th>2017</th>\n",
              "      <td>0.0</td>\n",
              "    </tr>\n",
              "    <tr>\n",
              "      <th>2017</th>\n",
              "      <td>2.0</td>\n",
              "    </tr>\n",
              "  </tbody>\n",
              "</table>\n",
              "<p>10804 rows × 1 columns</p>\n",
              "</div>"
            ],
            "text/plain": [
              "            fatality_count\n",
              "event_year                \n",
              "1988                   0.0\n",
              "1996                   0.0\n",
              "1996                   0.0\n",
              "1997                   0.0\n",
              "1997                   0.0\n",
              "...                    ...\n",
              "2017                   0.0\n",
              "2017                   0.0\n",
              "2017                   0.0\n",
              "2017                   0.0\n",
              "2017                   2.0\n",
              "\n",
              "[10804 rows x 1 columns]"
            ]
          },
          "metadata": {
            "tags": []
          },
          "execution_count": 303
        }
      ]
    },
    {
      "cell_type": "code",
      "metadata": {
        "id": "nkgeqzLmHSIE"
      },
      "source": [
        ""
      ],
      "execution_count": null,
      "outputs": []
    },
    {
      "cell_type": "code",
      "metadata": {
        "id": "M1VRNUZpGyxt"
      },
      "source": [
        "#sns.barplot(dfdeath_year.index, dfdeath_year.fatality_count);"
      ],
      "execution_count": null,
      "outputs": []
    },
    {
      "cell_type": "code",
      "metadata": {
        "id": "ZW8Lh_IpeffY",
        "outputId": "ff2e4e28-7afa-4548-bbef-aedc2afb54bd",
        "colab": {
          "base_uri": "https://localhost:8080/",
          "height": 496
        }
      },
      "source": [
        "df3 = df2.groupby('landslide_size').size()\n",
        "\n",
        "df3.plot(kind = 'pie', subplots = True, figsize =(8,8), autopct='%1.1f%%', startangle=15, shadow = True); #colors = my_colors);\n",
        "plt.title(\"Pie Chart of Landslide Sizes\")\n",
        "plt.xlabel(\" \")\n",
        "plt.ylabel('');\n"
      ],
      "execution_count": null,
      "outputs": [
        {
          "output_type": "display_data",
          "data": {
            "image/png": "[encoded data removed]",
            "text/plain": [
              "<Figure size 576x576 with 1 Axes>"
            ]
          },
          "metadata": {
            "tags": []
          }
        }
      ]
    },
    {
      "cell_type": "code",
      "metadata": {
        "id": "VW-30aLYx3RV",
        "outputId": "e007678a-01fc-4168-9891-466e26fee7e0",
        "colab": {
          "base_uri": "https://localhost:8080/",
          "height": 295
        }
      },
      "source": [
        "df_by_year.head(3)"
      ],
      "execution_count": null,
      "outputs": [
        {
          "output_type": "execute_result",
          "data": {
            "text/html": [
              "<div>\n",
              "<style scoped>\n",
              "    .dataframe tbody tr th:only-of-type {\n",
              "        vertical-align: middle;\n",
              "    }\n",
              "\n",
              "    .dataframe tbody tr th {\n",
              "        vertical-align: top;\n",
              "    }\n",
              "\n",
              "    .dataframe thead th {\n",
              "        text-align: right;\n",
              "    }\n",
              "</style>\n",
              "<table border=\"1\" class=\"dataframe\">\n",
              "  <thead>\n",
              "    <tr style=\"text-align: right;\">\n",
              "      <th></th>\n",
              "      <th>source_name</th>\n",
              "      <th>source_link</th>\n",
              "      <th>event_date</th>\n",
              "      <th>event_time</th>\n",
              "      <th>location_description</th>\n",
              "      <th>location_accuracy</th>\n",
              "      <th>landslide_category</th>\n",
              "      <th>landslide_trigger</th>\n",
              "      <th>landslide_size</th>\n",
              "      <th>fatality_count</th>\n",
              "      <th>injury_count</th>\n",
              "      <th>event_import_source</th>\n",
              "      <th>event_import_id</th>\n",
              "      <th>country_name</th>\n",
              "      <th>admin_division_name</th>\n",
              "      <th>admin_division_population</th>\n",
              "      <th>longitude</th>\n",
              "      <th>latitude</th>\n",
              "      <th>geometry</th>\n",
              "      <th>event_month</th>\n",
              "      <th>event_week</th>\n",
              "      <th>event_day</th>\n",
              "    </tr>\n",
              "    <tr>\n",
              "      <th>event_year</th>\n",
              "      <th></th>\n",
              "      <th></th>\n",
              "      <th></th>\n",
              "      <th></th>\n",
              "      <th></th>\n",
              "      <th></th>\n",
              "      <th></th>\n",
              "      <th></th>\n",
              "      <th></th>\n",
              "      <th></th>\n",
              "      <th></th>\n",
              "      <th></th>\n",
              "      <th></th>\n",
              "      <th></th>\n",
              "      <th></th>\n",
              "      <th></th>\n",
              "      <th></th>\n",
              "      <th></th>\n",
              "      <th></th>\n",
              "      <th></th>\n",
              "      <th></th>\n",
              "      <th></th>\n",
              "    </tr>\n",
              "  </thead>\n",
              "  <tbody>\n",
              "    <tr>\n",
              "      <th>1988</th>\n",
              "      <td>1433</td>\n",
              "      <td>1610</td>\n",
              "      <td>1988-11-07</td>\n",
              "      <td>NaN</td>\n",
              "      <td>8099</td>\n",
              "      <td>4</td>\n",
              "      <td>landslide</td>\n",
              "      <td>1</td>\n",
              "      <td>medium</td>\n",
              "      <td>0.0</td>\n",
              "      <td>0.0</td>\n",
              "      <td>2</td>\n",
              "      <td>6436.0</td>\n",
              "      <td>Philippines</td>\n",
              "      <td>82</td>\n",
              "      <td>10531.0</td>\n",
              "      <td>123.0319</td>\n",
              "      <td>13.5107</td>\n",
              "      <td>POINT (123.03190 13.51070)</td>\n",
              "      <td>11</td>\n",
              "      <td>45</td>\n",
              "      <td>7</td>\n",
              "    </tr>\n",
              "    <tr>\n",
              "      <th>1996</th>\n",
              "      <td>2013</td>\n",
              "      <td>1168</td>\n",
              "      <td>1996-12-26</td>\n",
              "      <td>NaN</td>\n",
              "      <td>9263</td>\n",
              "      <td>7</td>\n",
              "      <td>debris_flow</td>\n",
              "      <td>6</td>\n",
              "      <td>small</td>\n",
              "      <td>0.0</td>\n",
              "      <td>0.0</td>\n",
              "      <td>2</td>\n",
              "      <td>7831.0</td>\n",
              "      <td>United States</td>\n",
              "      <td>552</td>\n",
              "      <td>1144.0</td>\n",
              "      <td>-122.0991</td>\n",
              "      <td>45.5775</td>\n",
              "      <td>POINT (-122.09910 45.57750)</td>\n",
              "      <td>12</td>\n",
              "      <td>52</td>\n",
              "      <td>26</td>\n",
              "    </tr>\n",
              "    <tr>\n",
              "      <th>1996</th>\n",
              "      <td>2013</td>\n",
              "      <td>1168</td>\n",
              "      <td>1996-12-26</td>\n",
              "      <td>NaN</td>\n",
              "      <td>9263</td>\n",
              "      <td>7</td>\n",
              "      <td>debris_flow</td>\n",
              "      <td>6</td>\n",
              "      <td>small</td>\n",
              "      <td>0.0</td>\n",
              "      <td>0.0</td>\n",
              "      <td>2</td>\n",
              "      <td>7830.0</td>\n",
              "      <td>United States</td>\n",
              "      <td>552</td>\n",
              "      <td>14095.0</td>\n",
              "      <td>-122.1828</td>\n",
              "      <td>45.5492</td>\n",
              "      <td>POINT (-122.18280 45.54920)</td>\n",
              "      <td>12</td>\n",
              "      <td>52</td>\n",
              "      <td>26</td>\n",
              "    </tr>\n",
              "  </tbody>\n",
              "</table>\n",
              "</div>"
            ],
            "text/plain": [
              "            source_name  source_link  ... event_week  event_day\n",
              "event_year                            ...                      \n",
              "1988               1433         1610  ...         45          7\n",
              "1996               2013         1168  ...         52         26\n",
              "1996               2013         1168  ...         52         26\n",
              "\n",
              "[3 rows x 22 columns]"
            ]
          },
          "metadata": {
            "tags": []
          },
          "execution_count": 207
        }
      ]
    },
    {
      "cell_type": "code",
      "metadata": {
        "id": "Ss8_m4TazcpD"
      },
      "source": [
        "\n",
        "from statsmodels.tsa.seasonal import seasonal_decompose\n"
      ],
      "execution_count": null,
      "outputs": []
    },
    {
      "cell_type": "code",
      "metadata": {
        "id": "cJ6DjIQRz70m"
      },
      "source": [
        "from dateutil.parser import parse"
      ],
      "execution_count": null,
      "outputs": []
    },
    {
      "cell_type": "code",
      "metadata": {
        "id": "nBi31Nq00qvf",
        "outputId": "18d82b4f-ff9a-413e-c882-a9bbedb9533e",
        "colab": {
          "base_uri": "https://localhost:8080/",
          "height": 238
        }
      },
      "source": [
        "df_by_year['event_date']"
      ],
      "execution_count": null,
      "outputs": [
        {
          "output_type": "execute_result",
          "data": {
            "text/plain": [
              "event_year\n",
              "1988   1988-11-07 00:00:00\n",
              "1996   1996-12-26 00:00:00\n",
              "1996   1996-12-26 00:00:00\n",
              "1997   1997-01-19 00:00:00\n",
              "1997   1997-01-19 00:00:00\n",
              "               ...        \n",
              "2017   2017-01-06 18:08:00\n",
              "2017   2017-01-22 21:52:00\n",
              "2017   2017-01-26 20:56:00\n",
              "2017   2017-01-31 21:54:00\n",
              "2017   2017-03-13 14:32:00\n",
              "Name: event_date, Length: 10804, dtype: datetime64[ns]"
            ]
          },
          "metadata": {
            "tags": []
          },
          "execution_count": 221
        }
      ]
    },
    {
      "cell_type": "code",
      "metadata": {
        "id": "rq3MNLC222r3"
      },
      "source": [
        "df_by_year.set_index('event_date', inplace=True)"
      ],
      "execution_count": null,
      "outputs": []
    },
    {
      "cell_type": "code",
      "metadata": {
        "id": "1EqlzH4h27mI",
        "outputId": "f3c3e071-815e-4faa-dcd8-b5272f1af763",
        "colab": {
          "base_uri": "https://localhost:8080/",
          "height": 238
        }
      },
      "source": [
        "pip install calmap"
      ],
      "execution_count": null,
      "outputs": [
        {
          "output_type": "stream",
          "text": [
            "Collecting calmap\n",
            "  Downloading https://files.pythonhosted.org/packages/2d/c5/32c8f6b1d9eaa143fd7e00d5d131cd701c28b4f67ab20f06d214e3eba1be/calmap-0.0.8-py2.py3-none-any.whl\n",
            "Requirement already satisfied: pandas in /usr/local/lib/python3.6/dist-packages (from calmap) (1.1.2)\n",
            "Requirement already satisfied: numpy in /usr/local/lib/python3.6/dist-packages (from calmap) (1.18.5)\n",
            "Requirement already satisfied: matplotlib in /usr/local/lib/python3.6/dist-packages (from calmap) (3.2.2)\n",
            "Requirement already satisfied: python-dateutil>=2.7.3 in /usr/local/lib/python3.6/dist-packages (from pandas->calmap) (2.8.1)\n",
            "Requirement already satisfied: pytz>=2017.2 in /usr/local/lib/python3.6/dist-packages (from pandas->calmap) (2018.9)\n",
            "Requirement already satisfied: pyparsing!=2.0.4,!=2.1.2,!=2.1.6,>=2.0.1 in /usr/local/lib/python3.6/dist-packages (from matplotlib->calmap) (2.4.7)\n",
            "Requirement already satisfied: kiwisolver>=1.0.1 in /usr/local/lib/python3.6/dist-packages (from matplotlib->calmap) (1.2.0)\n",
            "Requirement already satisfied: cycler>=0.10 in /usr/local/lib/python3.6/dist-packages (from matplotlib->calmap) (0.10.0)\n",
            "Requirement already satisfied: six>=1.5 in /usr/local/lib/python3.6/dist-packages (from python-dateutil>=2.7.3->pandas->calmap) (1.15.0)\n",
            "Installing collected packages: calmap\n",
            "Successfully installed calmap-0.0.8\n"
          ],
          "name": "stdout"
        }
      ]
    },
    {
      "cell_type": "code",
      "metadata": {
        "id": "DqPTNo_h37Xe"
      },
      "source": [
        "import calmap"
      ],
      "execution_count": null,
      "outputs": []
    },
    {
      "cell_type": "code",
      "metadata": {
        "id": "XV2VB0uE6TWJ",
        "outputId": "7e245b2d-aedd-488b-d97c-1cc272e7cf6a",
        "colab": {
          "base_uri": "https://localhost:8080/",
          "height": 230
        }
      },
      "source": [
        "df_by_year.head(2)"
      ],
      "execution_count": null,
      "outputs": [
        {
          "output_type": "execute_result",
          "data": {
            "text/html": [
              "<div>\n",
              "<style scoped>\n",
              "    .dataframe tbody tr th:only-of-type {\n",
              "        vertical-align: middle;\n",
              "    }\n",
              "\n",
              "    .dataframe tbody tr th {\n",
              "        vertical-align: top;\n",
              "    }\n",
              "\n",
              "    .dataframe thead th {\n",
              "        text-align: right;\n",
              "    }\n",
              "</style>\n",
              "<table border=\"1\" class=\"dataframe\">\n",
              "  <thead>\n",
              "    <tr style=\"text-align: right;\">\n",
              "      <th></th>\n",
              "      <th>source_name</th>\n",
              "      <th>source_link</th>\n",
              "      <th>event_time</th>\n",
              "      <th>location_description</th>\n",
              "      <th>location_accuracy</th>\n",
              "      <th>landslide_category</th>\n",
              "      <th>landslide_trigger</th>\n",
              "      <th>landslide_size</th>\n",
              "      <th>fatality_count</th>\n",
              "      <th>injury_count</th>\n",
              "      <th>event_import_source</th>\n",
              "      <th>event_import_id</th>\n",
              "      <th>country_name</th>\n",
              "      <th>admin_division_name</th>\n",
              "      <th>admin_division_population</th>\n",
              "      <th>longitude</th>\n",
              "      <th>latitude</th>\n",
              "      <th>geometry</th>\n",
              "      <th>event_month</th>\n",
              "      <th>event_week</th>\n",
              "      <th>event_day</th>\n",
              "    </tr>\n",
              "    <tr>\n",
              "      <th>event_date</th>\n",
              "      <th></th>\n",
              "      <th></th>\n",
              "      <th></th>\n",
              "      <th></th>\n",
              "      <th></th>\n",
              "      <th></th>\n",
              "      <th></th>\n",
              "      <th></th>\n",
              "      <th></th>\n",
              "      <th></th>\n",
              "      <th></th>\n",
              "      <th></th>\n",
              "      <th></th>\n",
              "      <th></th>\n",
              "      <th></th>\n",
              "      <th></th>\n",
              "      <th></th>\n",
              "      <th></th>\n",
              "      <th></th>\n",
              "      <th></th>\n",
              "      <th></th>\n",
              "    </tr>\n",
              "  </thead>\n",
              "  <tbody>\n",
              "    <tr>\n",
              "      <th>1988-11-07</th>\n",
              "      <td>1433</td>\n",
              "      <td>1610</td>\n",
              "      <td>NaN</td>\n",
              "      <td>8099</td>\n",
              "      <td>4</td>\n",
              "      <td>landslide</td>\n",
              "      <td>1</td>\n",
              "      <td>medium</td>\n",
              "      <td>0.0</td>\n",
              "      <td>0.0</td>\n",
              "      <td>2</td>\n",
              "      <td>6436.0</td>\n",
              "      <td>Philippines</td>\n",
              "      <td>82</td>\n",
              "      <td>10531.0</td>\n",
              "      <td>123.0319</td>\n",
              "      <td>13.5107</td>\n",
              "      <td>POINT (123.03190 13.51070)</td>\n",
              "      <td>11</td>\n",
              "      <td>45</td>\n",
              "      <td>7</td>\n",
              "    </tr>\n",
              "    <tr>\n",
              "      <th>1996-12-26</th>\n",
              "      <td>2013</td>\n",
              "      <td>1168</td>\n",
              "      <td>NaN</td>\n",
              "      <td>9263</td>\n",
              "      <td>7</td>\n",
              "      <td>debris_flow</td>\n",
              "      <td>6</td>\n",
              "      <td>small</td>\n",
              "      <td>0.0</td>\n",
              "      <td>0.0</td>\n",
              "      <td>2</td>\n",
              "      <td>7831.0</td>\n",
              "      <td>United States</td>\n",
              "      <td>552</td>\n",
              "      <td>1144.0</td>\n",
              "      <td>-122.0991</td>\n",
              "      <td>45.5775</td>\n",
              "      <td>POINT (-122.09910 45.57750)</td>\n",
              "      <td>12</td>\n",
              "      <td>52</td>\n",
              "      <td>26</td>\n",
              "    </tr>\n",
              "  </tbody>\n",
              "</table>\n",
              "</div>"
            ],
            "text/plain": [
              "            source_name  source_link  ...  event_week  event_day\n",
              "event_date                            ...                       \n",
              "1988-11-07         1433         1610  ...          45          7\n",
              "1996-12-26         2013         1168  ...          52         26\n",
              "\n",
              "[2 rows x 21 columns]"
            ]
          },
          "metadata": {
            "tags": []
          },
          "execution_count": 234
        }
      ]
    },
    {
      "cell_type": "code",
      "metadata": {
        "id": "OwgFaPnX65qz",
        "outputId": "5e033955-7f8d-4190-f4a9-8d6dc3acb8e4",
        "colab": {
          "base_uri": "https://localhost:8080/",
          "height": 111
        }
      },
      "source": [
        ""
      ],
      "execution_count": null,
      "outputs": [
        {
          "output_type": "execute_result",
          "data": {
            "text/html": [
              "<div>\n",
              "<style scoped>\n",
              "    .dataframe tbody tr th:only-of-type {\n",
              "        vertical-align: middle;\n",
              "    }\n",
              "\n",
              "    .dataframe tbody tr th {\n",
              "        vertical-align: top;\n",
              "    }\n",
              "\n",
              "    .dataframe thead th {\n",
              "        text-align: right;\n",
              "    }\n",
              "</style>\n",
              "<table border=\"1\" class=\"dataframe\">\n",
              "  <thead>\n",
              "    <tr style=\"text-align: right;\">\n",
              "      <th></th>\n",
              "      <th>Landslide_Count</th>\n",
              "    </tr>\n",
              "  </thead>\n",
              "  <tbody>\n",
              "    <tr>\n",
              "      <th>United States</th>\n",
              "      <td>2948</td>\n",
              "    </tr>\n",
              "    <tr>\n",
              "      <th>India</th>\n",
              "      <td>1250</td>\n",
              "    </tr>\n",
              "  </tbody>\n",
              "</table>\n",
              "</div>"
            ],
            "text/plain": [
              "               Landslide_Count\n",
              "United States             2948\n",
              "India                     1250"
            ]
          },
          "metadata": {
            "tags": []
          },
          "execution_count": 263
        }
      ]
    },
    {
      "cell_type": "code",
      "metadata": {
        "id": "p25ziSaFAWVC"
      },
      "source": [
        "df['event_year'] = pd.DatetimeIndex(df.event_date).year"
      ],
      "execution_count": null,
      "outputs": []
    },
    {
      "cell_type": "code",
      "metadata": {
        "id": "KozevrbHAfbx"
      },
      "source": [
        "df_by_year['eventyear']= df['event_year']"
      ],
      "execution_count": null,
      "outputs": []
    },
    {
      "cell_type": "code",
      "metadata": {
        "id": "Oi_IUjHt5H41"
      },
      "source": [
        "colss = ['event_date','event_day','event_week','event_month','event_year','fatality_count','injury_count']\n",
        "df_time = pd.DataFrame(df_by_year, columns = colss)"
      ],
      "execution_count": null,
      "outputs": []
    },
    {
      "cell_type": "code",
      "metadata": {
        "id": "uIHY3KTM_uj3"
      },
      "source": [
        ""
      ],
      "execution_count": null,
      "outputs": []
    },
    {
      "cell_type": "code",
      "metadata": {
        "id": "uLZaf87Q0cgQ",
        "outputId": "20290aaf-11f7-4b84-daa3-ee71687df044",
        "colab": {
          "base_uri": "https://localhost:8080/",
          "height": 173
        }
      },
      "source": [
        "df_time.head(3)"
      ],
      "execution_count": null,
      "outputs": [
        {
          "output_type": "execute_result",
          "data": {
            "text/html": [
              "<div>\n",
              "<style scoped>\n",
              "    .dataframe tbody tr th:only-of-type {\n",
              "        vertical-align: middle;\n",
              "    }\n",
              "\n",
              "    .dataframe tbody tr th {\n",
              "        vertical-align: top;\n",
              "    }\n",
              "\n",
              "    .dataframe thead th {\n",
              "        text-align: right;\n",
              "    }\n",
              "</style>\n",
              "<table border=\"1\" class=\"dataframe\">\n",
              "  <thead>\n",
              "    <tr style=\"text-align: right;\">\n",
              "      <th></th>\n",
              "      <th>event_date</th>\n",
              "      <th>event_day</th>\n",
              "      <th>event_week</th>\n",
              "      <th>event_month</th>\n",
              "      <th>event_year</th>\n",
              "      <th>fatality_count</th>\n",
              "      <th>injury_count</th>\n",
              "    </tr>\n",
              "    <tr>\n",
              "      <th>event_date</th>\n",
              "      <th></th>\n",
              "      <th></th>\n",
              "      <th></th>\n",
              "      <th></th>\n",
              "      <th></th>\n",
              "      <th></th>\n",
              "      <th></th>\n",
              "    </tr>\n",
              "  </thead>\n",
              "  <tbody>\n",
              "    <tr>\n",
              "      <th>1988-11-07</th>\n",
              "      <td>NaN</td>\n",
              "      <td>7</td>\n",
              "      <td>45</td>\n",
              "      <td>11</td>\n",
              "      <td>NaN</td>\n",
              "      <td>0.0</td>\n",
              "      <td>0.0</td>\n",
              "    </tr>\n",
              "    <tr>\n",
              "      <th>1996-12-26</th>\n",
              "      <td>NaN</td>\n",
              "      <td>26</td>\n",
              "      <td>52</td>\n",
              "      <td>12</td>\n",
              "      <td>NaN</td>\n",
              "      <td>0.0</td>\n",
              "      <td>0.0</td>\n",
              "    </tr>\n",
              "    <tr>\n",
              "      <th>1996-12-26</th>\n",
              "      <td>NaN</td>\n",
              "      <td>26</td>\n",
              "      <td>52</td>\n",
              "      <td>12</td>\n",
              "      <td>NaN</td>\n",
              "      <td>0.0</td>\n",
              "      <td>0.0</td>\n",
              "    </tr>\n",
              "  </tbody>\n",
              "</table>\n",
              "</div>"
            ],
            "text/plain": [
              "            event_date  event_day  ...  fatality_count  injury_count\n",
              "event_date                         ...                              \n",
              "1988-11-07         NaN          7  ...             0.0           0.0\n",
              "1996-12-26         NaN         26  ...             0.0           0.0\n",
              "1996-12-26         NaN         26  ...             0.0           0.0\n",
              "\n",
              "[3 rows x 7 columns]"
            ]
          },
          "metadata": {
            "tags": []
          },
          "execution_count": 273
        }
      ]
    },
    {
      "cell_type": "code",
      "metadata": {
        "id": "VxBW4caC4R6d"
      },
      "source": [
        "#plt.figure(figsize=(16,10), dpi= 80)\n",
        "#calmap.calendarplot(df_time['2014']['VIX.Close'], fig_kws={'figsize': (16,10)}, yearlabel_kws={'color':'black', 'fontsize':14}, subplot_kws={'title':'Yahoo Stock Prices'})\n",
        "#plt.show()"
      ],
      "execution_count": null,
      "outputs": []
    },
    {
      "cell_type": "code",
      "metadata": {
        "id": "4ovfeAcn85mL",
        "outputId": "a3b595e4-266d-4509-bbec-16f9036175dd",
        "colab": {
          "base_uri": "https://localhost:8080/",
          "height": 450
        }
      },
      "source": [
        "df_time"
      ],
      "execution_count": null,
      "outputs": [
        {
          "output_type": "execute_result",
          "data": {
            "text/html": [
              "<div>\n",
              "<style scoped>\n",
              "    .dataframe tbody tr th:only-of-type {\n",
              "        vertical-align: middle;\n",
              "    }\n",
              "\n",
              "    .dataframe tbody tr th {\n",
              "        vertical-align: top;\n",
              "    }\n",
              "\n",
              "    .dataframe thead th {\n",
              "        text-align: right;\n",
              "    }\n",
              "</style>\n",
              "<table border=\"1\" class=\"dataframe\">\n",
              "  <thead>\n",
              "    <tr style=\"text-align: right;\">\n",
              "      <th></th>\n",
              "      <th>event_date</th>\n",
              "      <th>event_day</th>\n",
              "      <th>event_week</th>\n",
              "      <th>event_month</th>\n",
              "      <th>fatality_count</th>\n",
              "      <th>injury_count</th>\n",
              "    </tr>\n",
              "    <tr>\n",
              "      <th>event_date</th>\n",
              "      <th></th>\n",
              "      <th></th>\n",
              "      <th></th>\n",
              "      <th></th>\n",
              "      <th></th>\n",
              "      <th></th>\n",
              "    </tr>\n",
              "  </thead>\n",
              "  <tbody>\n",
              "    <tr>\n",
              "      <th>1988-11-07 00:00:00</th>\n",
              "      <td>NaN</td>\n",
              "      <td>7</td>\n",
              "      <td>45</td>\n",
              "      <td>11</td>\n",
              "      <td>0.0</td>\n",
              "      <td>0.0</td>\n",
              "    </tr>\n",
              "    <tr>\n",
              "      <th>1996-12-26 00:00:00</th>\n",
              "      <td>NaN</td>\n",
              "      <td>26</td>\n",
              "      <td>52</td>\n",
              "      <td>12</td>\n",
              "      <td>0.0</td>\n",
              "      <td>0.0</td>\n",
              "    </tr>\n",
              "    <tr>\n",
              "      <th>1996-12-26 00:00:00</th>\n",
              "      <td>NaN</td>\n",
              "      <td>26</td>\n",
              "      <td>52</td>\n",
              "      <td>12</td>\n",
              "      <td>0.0</td>\n",
              "      <td>0.0</td>\n",
              "    </tr>\n",
              "    <tr>\n",
              "      <th>1997-01-19 00:00:00</th>\n",
              "      <td>NaN</td>\n",
              "      <td>19</td>\n",
              "      <td>3</td>\n",
              "      <td>1</td>\n",
              "      <td>0.0</td>\n",
              "      <td>0.0</td>\n",
              "    </tr>\n",
              "    <tr>\n",
              "      <th>1997-01-19 00:00:00</th>\n",
              "      <td>NaN</td>\n",
              "      <td>19</td>\n",
              "      <td>3</td>\n",
              "      <td>1</td>\n",
              "      <td>0.0</td>\n",
              "      <td>0.0</td>\n",
              "    </tr>\n",
              "    <tr>\n",
              "      <th>...</th>\n",
              "      <td>...</td>\n",
              "      <td>...</td>\n",
              "      <td>...</td>\n",
              "      <td>...</td>\n",
              "      <td>...</td>\n",
              "      <td>...</td>\n",
              "    </tr>\n",
              "    <tr>\n",
              "      <th>2017-01-06 18:08:00</th>\n",
              "      <td>NaN</td>\n",
              "      <td>6</td>\n",
              "      <td>1</td>\n",
              "      <td>1</td>\n",
              "      <td>0.0</td>\n",
              "      <td>0.0</td>\n",
              "    </tr>\n",
              "    <tr>\n",
              "      <th>2017-01-22 21:52:00</th>\n",
              "      <td>NaN</td>\n",
              "      <td>22</td>\n",
              "      <td>3</td>\n",
              "      <td>1</td>\n",
              "      <td>0.0</td>\n",
              "      <td>0.0</td>\n",
              "    </tr>\n",
              "    <tr>\n",
              "      <th>2017-01-26 20:56:00</th>\n",
              "      <td>NaN</td>\n",
              "      <td>26</td>\n",
              "      <td>4</td>\n",
              "      <td>1</td>\n",
              "      <td>0.0</td>\n",
              "      <td>0.0</td>\n",
              "    </tr>\n",
              "    <tr>\n",
              "      <th>2017-01-31 21:54:00</th>\n",
              "      <td>NaN</td>\n",
              "      <td>31</td>\n",
              "      <td>5</td>\n",
              "      <td>1</td>\n",
              "      <td>0.0</td>\n",
              "      <td>0.0</td>\n",
              "    </tr>\n",
              "    <tr>\n",
              "      <th>2017-03-13 14:32:00</th>\n",
              "      <td>NaN</td>\n",
              "      <td>13</td>\n",
              "      <td>11</td>\n",
              "      <td>3</td>\n",
              "      <td>2.0</td>\n",
              "      <td>0.0</td>\n",
              "    </tr>\n",
              "  </tbody>\n",
              "</table>\n",
              "<p>10804 rows × 6 columns</p>\n",
              "</div>"
            ],
            "text/plain": [
              "                     event_date  event_day  ...  fatality_count  injury_count\n",
              "event_date                                  ...                              \n",
              "1988-11-07 00:00:00         NaN          7  ...             0.0           0.0\n",
              "1996-12-26 00:00:00         NaN         26  ...             0.0           0.0\n",
              "1996-12-26 00:00:00         NaN         26  ...             0.0           0.0\n",
              "1997-01-19 00:00:00         NaN         19  ...             0.0           0.0\n",
              "1997-01-19 00:00:00         NaN         19  ...             0.0           0.0\n",
              "...                         ...        ...  ...             ...           ...\n",
              "2017-01-06 18:08:00         NaN          6  ...             0.0           0.0\n",
              "2017-01-22 21:52:00         NaN         22  ...             0.0           0.0\n",
              "2017-01-26 20:56:00         NaN         26  ...             0.0           0.0\n",
              "2017-01-31 21:54:00         NaN         31  ...             0.0           0.0\n",
              "2017-03-13 14:32:00         NaN         13  ...             2.0           0.0\n",
              "\n",
              "[10804 rows x 6 columns]"
            ]
          },
          "metadata": {
            "tags": []
          },
          "execution_count": 266
        }
      ]
    },
    {
      "cell_type": "code",
      "metadata": {
        "id": "M6WKAPYa9hlc"
      },
      "source": [
        "df_month = df_time.groupby('event_month')[['fatality_count','injury_count']].count()"
      ],
      "execution_count": null,
      "outputs": []
    },
    {
      "cell_type": "code",
      "metadata": {
        "id": "IY3iwzUC_BHB",
        "outputId": "ab66168f-d64a-45b5-e30f-971ed8010292",
        "colab": {
          "base_uri": "https://localhost:8080/",
          "height": 199
        }
      },
      "source": [
        ""
      ],
      "execution_count": null,
      "outputs": [
        {
          "output_type": "execute_result",
          "data": {
            "text/html": [
              "<div>\n",
              "<style scoped>\n",
              "    .dataframe tbody tr th:only-of-type {\n",
              "        vertical-align: middle;\n",
              "    }\n",
              "\n",
              "    .dataframe tbody tr th {\n",
              "        vertical-align: top;\n",
              "    }\n",
              "\n",
              "    .dataframe thead th {\n",
              "        text-align: right;\n",
              "    }\n",
              "</style>\n",
              "<table border=\"1\" class=\"dataframe\">\n",
              "  <thead>\n",
              "    <tr style=\"text-align: right;\">\n",
              "      <th></th>\n",
              "      <th>source_name</th>\n",
              "      <th>source_link</th>\n",
              "      <th>event_date</th>\n",
              "      <th>event_time</th>\n",
              "      <th>location_description</th>\n",
              "      <th>location_accuracy</th>\n",
              "      <th>landslide_category</th>\n",
              "      <th>landslide_trigger</th>\n",
              "      <th>landslide_size</th>\n",
              "      <th>fatality_count</th>\n",
              "      <th>injury_count</th>\n",
              "      <th>event_import_source</th>\n",
              "      <th>event_import_id</th>\n",
              "      <th>country_name</th>\n",
              "      <th>admin_division_name</th>\n",
              "      <th>admin_division_population</th>\n",
              "      <th>longitude</th>\n",
              "      <th>latitude</th>\n",
              "      <th>geometry</th>\n",
              "      <th>event_year</th>\n",
              "      <th>event_month</th>\n",
              "      <th>event_week</th>\n",
              "      <th>event_day</th>\n",
              "    </tr>\n",
              "  </thead>\n",
              "  <tbody>\n",
              "    <tr>\n",
              "      <th>0</th>\n",
              "      <td>85</td>\n",
              "      <td>7753</td>\n",
              "      <td>2008-08-01 00:00:00</td>\n",
              "      <td>NaN</td>\n",
              "      <td>7788</td>\n",
              "      <td>0</td>\n",
              "      <td>landslide</td>\n",
              "      <td>12</td>\n",
              "      <td>large</td>\n",
              "      <td>11.0</td>\n",
              "      <td>0.0</td>\n",
              "      <td>2</td>\n",
              "      <td>684.0</td>\n",
              "      <td>China</td>\n",
              "      <td>685</td>\n",
              "      <td>0.0</td>\n",
              "      <td>107.450</td>\n",
              "      <td>32.5625</td>\n",
              "      <td>POINT (107.45000 32.56250)</td>\n",
              "      <td>2008</td>\n",
              "      <td>8</td>\n",
              "      <td>31</td>\n",
              "      <td>1</td>\n",
              "    </tr>\n",
              "    <tr>\n",
              "      <th>1</th>\n",
              "      <td>1391</td>\n",
              "      <td>5580</td>\n",
              "      <td>2009-01-02 02:00:00</td>\n",
              "      <td>NaN</td>\n",
              "      <td>4586</td>\n",
              "      <td>6</td>\n",
              "      <td>mudslide</td>\n",
              "      <td>3</td>\n",
              "      <td>small</td>\n",
              "      <td>0.0</td>\n",
              "      <td>0.0</td>\n",
              "      <td>2</td>\n",
              "      <td>956.0</td>\n",
              "      <td>United States</td>\n",
              "      <td>552</td>\n",
              "      <td>36619.0</td>\n",
              "      <td>-122.663</td>\n",
              "      <td>45.4200</td>\n",
              "      <td>POINT (-122.66300 45.42000)</td>\n",
              "      <td>2009</td>\n",
              "      <td>1</td>\n",
              "      <td>1</td>\n",
              "      <td>2</td>\n",
              "    </tr>\n",
              "  </tbody>\n",
              "</table>\n",
              "</div>"
            ],
            "text/plain": [
              "   source_name  source_link  ... event_week  event_day\n",
              "0           85         7753  ...         31          1\n",
              "1         1391         5580  ...          1          2\n",
              "\n",
              "[2 rows x 23 columns]"
            ]
          },
          "metadata": {
            "tags": []
          },
          "execution_count": 262
        }
      ]
    },
    {
      "cell_type": "code",
      "metadata": {
        "id": "Gn1-sHK--pnF"
      },
      "source": [
        ""
      ],
      "execution_count": null,
      "outputs": []
    },
    {
      "cell_type": "code",
      "metadata": {
        "id": "x4zbb57N9yW8",
        "outputId": "6f81fb04-40ff-41f3-c300-c6b98b3458dd",
        "colab": {
          "base_uri": "https://localhost:8080/",
          "height": 404
        }
      },
      "source": [
        "plt.figure(figsize=(12,6))\n",
        "plt.plot(df_month.index, df_month['fatality_count'], 'o-b')\n",
        "plt.title('Fatalities vs Months');\n",
        "plt.xlabel('Month')\n",
        "#plt.grid(False)\n",
        "plt.ylabel('Fatality count');"
      ],
      "execution_count": null,
      "outputs": [
        {
          "output_type": "display_data",
          "data": {
            "image/png": "[encoded data removed]",
            "text/plain": [
              "<Figure size 864x432 with 1 Axes>"
            ]
          },
          "metadata": {
            "tags": []
          }
        }
      ]
    },
    {
      "cell_type": "code",
      "metadata": {
        "id": "jGMsJpnmBYxj"
      },
      "source": [
        ""
      ],
      "execution_count": null,
      "outputs": []
    },
    {
      "cell_type": "code",
      "metadata": {
        "id": "UxxuIpD4BLpP",
        "outputId": "bb483fe5-7e35-4817-f603-d1ecef09cf5b",
        "colab": {
          "base_uri": "https://localhost:8080/",
          "height": 404
        }
      },
      "source": [
        "plt.figure(figsize=(12,6))\n",
        "plt.plot(df_month.index, df_month['injury_count'], 's-r')\n",
        "plt.title('Injuries vs Months');\n",
        "plt.xlabel('Month')\n",
        "#plt.grid(False)\n",
        "plt.ylabel('Injury count');"
      ],
      "execution_count": null,
      "outputs": [
        {
          "output_type": "display_data",
          "data": {
            "image/png": "[encoded data removed]",
            "text/plain": [
              "<Figure size 864x432 with 1 Axes>"
            ]
          },
          "metadata": {
            "tags": []
          }
        }
      ]
    },
    {
      "cell_type": "code",
      "metadata": {
        "id": "tZNitxvlBlsG"
      },
      "source": [
        ""
      ],
      "execution_count": null,
      "outputs": []
    },
    {
      "cell_type": "code",
      "metadata": {
        "id": "LYuJerMOBltm"
      },
      "source": [
        ""
      ],
      "execution_count": null,
      "outputs": []
    },
    {
      "cell_type": "code",
      "metadata": {
        "id": "ODCPzJBRBmeN"
      },
      "source": [
        ""
      ],
      "execution_count": null,
      "outputs": []
    },
    {
      "cell_type": "code",
      "metadata": {
        "id": "wlxUqyxkBmwP"
      },
      "source": [
        ""
      ],
      "execution_count": null,
      "outputs": []
    },
    {
      "cell_type": "code",
      "metadata": {
        "id": "lhiO6YRxGE1I"
      },
      "source": [
        ""
      ],
      "execution_count": null,
      "outputs": []
    }
  ]
}